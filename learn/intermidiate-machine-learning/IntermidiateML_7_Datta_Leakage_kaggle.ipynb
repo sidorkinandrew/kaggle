{
  "nbformat": 4,
  "nbformat_minor": 0,
  "metadata": {
    "colab": {
      "name": "IntermidiateML-#7-Datta_Leakage_kaggle.ipynb",
      "provenance": [],
      "collapsed_sections": [],
      "toc_visible": true
    },
    "kernelspec": {
      "name": "python3",
      "display_name": "Python 3"
    }
  },
  "cells": [
    {
      "cell_type": "markdown",
      "metadata": {
        "id": "faJF26U1FPAp",
        "colab_type": "text"
      },
      "source": [
        "#Data Leakage\n",
        "\n",
        "Data leakage (or leakage) happens when your training data contains information about the target, but similar data will not be available when the model is used for prediction. This leads to high performance on the training set (and possibly even the validation data), but the model will perform poorly in production.\n",
        "\n",
        "In other words, leakage causes a model to look accurate until you start making decisions with the model, and then the model becomes very inaccurate.\n",
        "\n",
        "There are two main types of leakage: target leakage and train-test contamination."
      ]
    },
    {
      "cell_type": "markdown",
      "metadata": {
        "id": "7KA0oIuZQg7Q",
        "colab_type": "text"
      },
      "source": [
        "####Target leakage\n",
        "\n",
        "---\n",
        "\n",
        "Target leakage occurs when your predictors include data that will not be available at the time you make predictions. It is important to think about target leakage in terms of the timing or chronological order that data becomes available, not merely whether a feature helps make good predictions.\n",
        "\n",
        "---\n",
        "\n",
        "To prevent this type of data leakage, any variable updated (or created) after the target value is realized should be excluded.\n",
        "\n",
        "![alt text](https://i.imgur.com/y7hfTYe.png)"
      ]
    },
    {
      "cell_type": "markdown",
      "metadata": {
        "id": "ffrGAv4MSQo_",
        "colab_type": "text"
      },
      "source": [
        "#####Train-Test Contamination\n",
        "\n",
        "---\n",
        "\n",
        "A different type of leak occurs when you aren't careful to distinguish training data from validation data.\n",
        "\n",
        "Recall that validation is meant to be a measure of how the model does on data that it hasn't considered before. You can corrupt this process in subtle ways if the validation data affects the preprocessing behavior. This is sometimes called train-test contamination.\n",
        "\n",
        "For example, imagine you run preprocessing (like fitting an imputer for missing values) before calling train_test_split(). The end result? Your model may get good validation scores, giving you great confidence in it, but perform poorly when you deploy it to make decisions.\n",
        "\n",
        "---\n",
        "\n",
        "If your validation is based on a simple train-test split, exclude the validation data from any type of fitting, including the fitting of preprocessing steps. This is easier if you use scikit-learn pipelines. When using cross-validation, it's even more critical that you do your preprocessing inside the pipeline!"
      ]
    },
    {
      "cell_type": "code",
      "metadata": {
        "id": "7-XnTV630Rbe",
        "colab_type": "code",
        "colab": {}
      },
      "source": [
        "import pandas as pd\n",
        "from sklearn.model_selection import train_test_split\n",
        "import os\n",
        "\n",
        "folder_root = './drive/My Drive/kaggle/input/aer-credit-card-data/'\n",
        "\n",
        "# Read the data\n",
        "data = pd.read_csv(folder_root + 'aer-credit-card-data.zip', \n",
        "                   true_values = ['yes'], false_values = ['no'])\n",
        "\n",
        "# Select target\n",
        "y = data.card\n",
        "\n",
        "# Select predictors\n",
        "X = data.drop(['card'], axis=1)"
      ],
      "execution_count": 0,
      "outputs": []
    },
    {
      "cell_type": "code",
      "metadata": {
        "id": "uzxmtZIj7Ypj",
        "colab_type": "code",
        "outputId": "70d4ee3e-2099-4d69-e379-aa60605e3fd5",
        "colab": {
          "base_uri": "https://localhost:8080/",
          "height": 213
        }
      },
      "source": [
        "print(\"Number of rows in the dataset:\", X.shape[0])\n",
        "X.head()"
      ],
      "execution_count": 6,
      "outputs": [
        {
          "output_type": "stream",
          "text": [
            "Number of rows in the dataset: 1319\n"
          ],
          "name": "stdout"
        },
        {
          "output_type": "execute_result",
          "data": {
            "text/html": [
              "<div>\n",
              "<style scoped>\n",
              "    .dataframe tbody tr th:only-of-type {\n",
              "        vertical-align: middle;\n",
              "    }\n",
              "\n",
              "    .dataframe tbody tr th {\n",
              "        vertical-align: top;\n",
              "    }\n",
              "\n",
              "    .dataframe thead th {\n",
              "        text-align: right;\n",
              "    }\n",
              "</style>\n",
              "<table border=\"1\" class=\"dataframe\">\n",
              "  <thead>\n",
              "    <tr style=\"text-align: right;\">\n",
              "      <th></th>\n",
              "      <th>reports</th>\n",
              "      <th>age</th>\n",
              "      <th>income</th>\n",
              "      <th>share</th>\n",
              "      <th>expenditure</th>\n",
              "      <th>owner</th>\n",
              "      <th>selfemp</th>\n",
              "      <th>dependents</th>\n",
              "      <th>months</th>\n",
              "      <th>majorcards</th>\n",
              "      <th>active</th>\n",
              "    </tr>\n",
              "  </thead>\n",
              "  <tbody>\n",
              "    <tr>\n",
              "      <th>0</th>\n",
              "      <td>0</td>\n",
              "      <td>37.66667</td>\n",
              "      <td>4.5200</td>\n",
              "      <td>0.033270</td>\n",
              "      <td>124.983300</td>\n",
              "      <td>True</td>\n",
              "      <td>False</td>\n",
              "      <td>3</td>\n",
              "      <td>54</td>\n",
              "      <td>1</td>\n",
              "      <td>12</td>\n",
              "    </tr>\n",
              "    <tr>\n",
              "      <th>1</th>\n",
              "      <td>0</td>\n",
              "      <td>33.25000</td>\n",
              "      <td>2.4200</td>\n",
              "      <td>0.005217</td>\n",
              "      <td>9.854167</td>\n",
              "      <td>False</td>\n",
              "      <td>False</td>\n",
              "      <td>3</td>\n",
              "      <td>34</td>\n",
              "      <td>1</td>\n",
              "      <td>13</td>\n",
              "    </tr>\n",
              "    <tr>\n",
              "      <th>2</th>\n",
              "      <td>0</td>\n",
              "      <td>33.66667</td>\n",
              "      <td>4.5000</td>\n",
              "      <td>0.004156</td>\n",
              "      <td>15.000000</td>\n",
              "      <td>True</td>\n",
              "      <td>False</td>\n",
              "      <td>4</td>\n",
              "      <td>58</td>\n",
              "      <td>1</td>\n",
              "      <td>5</td>\n",
              "    </tr>\n",
              "    <tr>\n",
              "      <th>3</th>\n",
              "      <td>0</td>\n",
              "      <td>30.50000</td>\n",
              "      <td>2.5400</td>\n",
              "      <td>0.065214</td>\n",
              "      <td>137.869200</td>\n",
              "      <td>False</td>\n",
              "      <td>False</td>\n",
              "      <td>0</td>\n",
              "      <td>25</td>\n",
              "      <td>1</td>\n",
              "      <td>7</td>\n",
              "    </tr>\n",
              "    <tr>\n",
              "      <th>4</th>\n",
              "      <td>0</td>\n",
              "      <td>32.16667</td>\n",
              "      <td>9.7867</td>\n",
              "      <td>0.067051</td>\n",
              "      <td>546.503300</td>\n",
              "      <td>True</td>\n",
              "      <td>False</td>\n",
              "      <td>2</td>\n",
              "      <td>64</td>\n",
              "      <td>1</td>\n",
              "      <td>5</td>\n",
              "    </tr>\n",
              "  </tbody>\n",
              "</table>\n",
              "</div>"
            ],
            "text/plain": [
              "   reports       age  income     share  ...  dependents  months  majorcards  active\n",
              "0        0  37.66667  4.5200  0.033270  ...           3      54           1      12\n",
              "1        0  33.25000  2.4200  0.005217  ...           3      34           1      13\n",
              "2        0  33.66667  4.5000  0.004156  ...           4      58           1       5\n",
              "3        0  30.50000  2.5400  0.065214  ...           0      25           1       7\n",
              "4        0  32.16667  9.7867  0.067051  ...           2      64           1       5\n",
              "\n",
              "[5 rows x 11 columns]"
            ]
          },
          "metadata": {
            "tags": []
          },
          "execution_count": 6
        }
      ]
    },
    {
      "cell_type": "code",
      "metadata": {
        "id": "sM931ux1JKVP",
        "colab_type": "code",
        "outputId": "4457b144-9360-4d79-8d44-c77253db0944",
        "colab": {
          "base_uri": "https://localhost:8080/",
          "height": 33
        }
      },
      "source": [
        "from sklearn.ensemble import RandomForestClassifier\n",
        "from sklearn.model_selection import cross_val_score\n",
        "from sklearn.pipeline import  make_pipeline\n",
        "\n",
        "# Since there is no preprocessing, we don't need a pipeline (used anyway as best practice!)\n",
        "my_pipeline = make_pipeline(RandomForestClassifier(n_estimators=100))\n",
        "cv_scores = cross_val_score(my_pipeline, X, y, \n",
        "                            cv=5,\n",
        "                            scoring='accuracy')\n",
        "\n",
        "print(\"Cross-validation accuracy: %f\" % cv_scores.mean())"
      ],
      "execution_count": 10,
      "outputs": [
        {
          "output_type": "stream",
          "text": [
            "Cross-validation accuracy: 0.981810\n"
          ],
          "name": "stdout"
        }
      ]
    },
    {
      "cell_type": "code",
      "metadata": {
        "id": "5CI8LCuJYCe4",
        "colab_type": "code",
        "colab": {
          "base_uri": "https://localhost:8080/",
          "height": 50
        },
        "outputId": "ea8fe4bc-0bea-4c2e-ab58-72d1f4367c6e"
      },
      "source": [
        "expenditures_cardholders = X.expenditure[y]\n",
        "expenditures_noncardholders = X.expenditure[~y]\n",
        "\n",
        "print('Fraction of those who did not receive a card and had no expenditures: %.2f' \\\n",
        "      %((expenditures_noncardholders == 0).mean()))\n",
        "print('Fraction of those who received a card and had no expenditures: %.2f' \\\n",
        "      %(( expenditures_cardholders == 0).mean()))"
      ],
      "execution_count": 11,
      "outputs": [
        {
          "output_type": "stream",
          "text": [
            "Fraction of those who did not receive a card and had no expenditures: 1.00\n",
            "Fraction of those who received a card and had no expenditures: 0.02\n"
          ],
          "name": "stdout"
        }
      ]
    },
    {
      "cell_type": "code",
      "metadata": {
        "id": "QcXYpnBiYC0g",
        "colab_type": "code",
        "colab": {
          "base_uri": "https://localhost:8080/",
          "height": 33
        },
        "outputId": "55f250e4-4805-4198-ce39-27114a176c17"
      },
      "source": [
        "# Drop leaky predictors from dataset\n",
        "potential_leaks = ['expenditure', 'share', 'active', 'majorcards']\n",
        "X2 = X.drop(potential_leaks, axis=1)\n",
        "\n",
        "# Evaluate the model with leaky predictors removed\n",
        "cv_scores = cross_val_score(my_pipeline, X2, y, \n",
        "                            cv=5,\n",
        "                            scoring='accuracy')\n",
        "\n",
        "print(\"Cross-val accuracy: %f\" % cv_scores.mean())"
      ],
      "execution_count": 12,
      "outputs": [
        {
          "output_type": "stream",
          "text": [
            "Cross-val accuracy: 0.830171\n"
          ],
          "name": "stdout"
        }
      ]
    },
    {
      "cell_type": "markdown",
      "metadata": {
        "id": "9eyry18KYng-",
        "colab_type": "text"
      },
      "source": [
        "#Exercise\n",
        "\n"
      ]
    },
    {
      "cell_type": "code",
      "metadata": {
        "id": "QM2cgmSVYfmp",
        "colab_type": "code",
        "colab": {}
      },
      "source": [
        "# import inspect\n",
        "# import learntools.ml_intermediate\n",
        "# print(inspect.getsourcelines(learntools.ml_intermediate.ex7.q_1.solution))"
      ],
      "execution_count": 0,
      "outputs": []
    },
    {
      "cell_type": "markdown",
      "metadata": {
        "id": "220_x411Zhc6",
        "colab_type": "text"
      },
      "source": [
        "# 1. The Data Science of Shoelaces\n",
        "\n",
        "\n",
        "---\n",
        "\n",
        "Nike has hired you as a data science consultant to help them save money on shoe materials. Your first assignment is to review a model one of their employees built to predict how many shoelaces they'll need each month. The features going into the machine learning model include:\n",
        "\n",
        "- The current month (January, February, etc)\n",
        "- Advertising expenditures in the previous month\n",
        "- Various macroeconomic features (like the unemployment rate) as of the beginning of the current month\n",
        "- The amount of leather they ended up using in the current month\n",
        "\n",
        "The results show the model is almost perfectly accurate if you include the feature about how much leather they used. But it is only moderately accurate if you leave that feature out. You realize this is because the amount of leather they use is a perfect indicator of how many shoes they produce, which in turn tells you how many shoelaces they need.\n",
        "\n",
        "\n",
        "Do you think the leather used feature constitutes a source of data leakage? If your answer is \"it depends,\" what does it depend on?\n",
        "\n",
        "After you have thought about your answer, check it against the solution below.\n",
        "\n"
      ]
    },
    {
      "cell_type": "markdown",
      "metadata": {
        "id": "zd718arZZ82T",
        "colab_type": "text"
      },
      "source": [
        "Solution: This is tricky, and it depends on details of how data is collected (which is common when thinking about leakage). Would you at the beginning of the month decide how much leather will be used that month? If so, this is ok. But if that is determined during the month, you would not have access to it when you make the prediction. If you have a guess at the beginning of the month, and it is subsequently changed during the month, the actual amount used during the month cannot be used as a feature (because it causes leakage).\n"
      ]
    },
    {
      "cell_type": "markdown",
      "metadata": {
        "id": "JQk-ikJJaHlr",
        "colab_type": "text"
      },
      "source": [
        "#2. Return of the Shoelaces\n",
        "\n",
        "You have a new idea. You could use the amount of leather Nike ordered (rather than the amount they actually used) leading up to a given month as a predictor in your shoelace model.\n",
        "\n",
        "Does this change your answer about whether there is a leakage problem? If you answer \"it depends,\" what does it depend on?\n",
        "\n",
        "---\n",
        "\n",
        "Solution: This could be fine, but it depends on whether they order shoelaces first or leather first. If they order shoelaces first, you won't know how much leather they've ordered when you predict their shoelace needs. If they order leather first, then you'll have that number available when you place your shoelace order, and you should be ok."
      ]
    },
    {
      "cell_type": "markdown",
      "metadata": {
        "id": "j71EnM1ebJH2",
        "colab_type": "text"
      },
      "source": [
        "# 3. Getting Rich With Cryptocurrencies?\n",
        "\n",
        "You saved Nike so much money that they gave you a bonus. Congratulations.\n",
        "\n",
        "Your friend, who is also a data scientist, says he has built a model that will let you turn your bonus into millions of dollars. Specifically, his model predicts the price of a new cryptocurrency (like Bitcoin, but a newer one) one day ahead of the moment of prediction. His plan is to purchase the cryptocurrency whenever the model says the price of the currency (in dollars) is about to go up.\n",
        "\n",
        "The most important features in his model are:\n",
        "\n",
        "Current price of the currency\n",
        "Amount of the currency sold in the last 24 hours\n",
        "Change in the currency price in the last 24 hours\n",
        "Change in the currency price in the last 1 hour\n",
        "Number of new tweets in the last 24 hours that mention the currency\n",
        "The value of the cryptocurrency in dollars has fluctuated up and down by over $100 in the last year, and yet his model's average error is less than $1. He says this is proof his model is accurate, and you should invest with him, buying the currency whenever the model says it is about to go up.\n",
        "\n",
        "Is he right? If there is a problem with his model, what is it?\n",
        "\n",
        "---\n",
        "\n",
        "Solution: There is no source of leakage here. These features should be available at the moment you want to make a predition, and they're unlikely to be changed in the training data after the prediction target is determined. But, the way he describes accuracy could be misleading if you aren't careful. If the price moves gradually, today's price will be an accurate predictor of tomorrow's price, but it may not tell you whether it's a good time to invest. For instance, if it is\n",
        "\n",
        "100today,amodelpredictingapriceof100today,amodelpredictingapriceof 100 tomorrow \n",
        "\n",
        "may seem accurate, even if it can't tell you whether the price is going up or down from the current price. A better prediction target would be the change in price over the next day. If you can consistently predict whether the price is about to go up or down (and by how much), you may have a winning investment opportunity."
      ]
    },
    {
      "cell_type": "markdown",
      "metadata": {
        "id": "K7dLulIAcKJ6",
        "colab_type": "text"
      },
      "source": [
        "#4. Preventing Infections\n",
        "\n",
        "---\n",
        "\n",
        "An agency that provides healthcare wants to predict which patients from a rare surgery are at risk of infection, so it can alert the nurses to be especially careful when following up with those patients.\n",
        "\n",
        "You want to build a model. Each row in the modeling dataset will be a single patient who received the surgery, and the prediction target will be whether they got an infection.\n",
        "\n",
        "Some surgeons may do the procedure in a manner that raises or lowers the risk of infection. But how can you best incorporate the surgeon information into the model?\n",
        "\n",
        "You have a clever idea.\n",
        "\n",
        "Take all surgeries by each surgeon and calculate the infection rate among those surgeons.\n",
        "For each patient in the data, find out who the surgeon was and plug in that surgeon's average infection rate as a feature.\n",
        "Does this pose any target leakage issues? Does it pose any train-test contamination issues?\n",
        "\n",
        "---\n",
        "\n",
        "Solution: This poses a risk of both target leakage and train-test contamination (though you may be able to avoid both if you are careful).\n",
        "\n",
        "You have target leakage if a given patient's outcome contributes to the infection rate for his surgeon, which is then plugged back into the prediction model for whether that patient becomes infected. You can avoid target leakage if you calculate the surgeon's infection rate by using only the surgeries before the patient we are predicting for. Calculating this for each surgery in your training data may be a little tricky.\n",
        "\n",
        "You also have a train-test contamination problem if you calculate this using all surgeries a surgeon performed, including those from the test-set. The result would be that your model could look very accurate on the test set, even if it wouldn't generalize well to new patients after the model is deployed. This would happen because the surgeon-risk feature accounts for data in the test set. Test sets exist to estimate how the model will do when seeing new data. So this contamination defeats the purpose of the test set."
      ]
    },
    {
      "cell_type": "markdown",
      "metadata": {
        "id": "yoOfY_Evctog",
        "colab_type": "text"
      },
      "source": [
        "#5. Housing Prices\n",
        "\n",
        "---\n",
        "\n",
        "You will build a model to predict housing prices. The model will be deployed on an ongoing basis, to predict the price of a new house when a description is added to a website. Here are four features that could be used as predictors.\n",
        "\n",
        "Size of the house (in square meters)\n",
        "Average sales price of homes in the same neighborhood\n",
        "Latitude and longitude of the house\n",
        "Whether the house has a basement\n",
        "You have historic data to train and validate the model.\n",
        "\n",
        "Which of the features is most likely to be a source of leakage?\n",
        "\n",
        "---\n",
        "\n",
        "Correct:\n",
        "\n",
        "2 is the source of target leakage. Here is an analysis for each feature:\n",
        "\n",
        "1. The size of a house is unlikely to be changed after it is sold (though technically it's possible). But typically this will be available when we need to make a prediction, and the data won't be modified after the home is sold. So it is pretty safe.\n",
        "\n",
        "2. We don't know the rules for when this is updated. If the field is updated in the raw data after a home was sold, and the home's sale is used to calculate the average, this constitutes a case of target leakage. At an extreme, if only one home is sold in the neighborhood, and it is the home we are trying to predict, then the average will be exactly equal to the value we are trying to predict. In general, for neighborhoods with few sales, the model will perform very well on the training data. But when you apply the model, the home you are predicting won't have been sold yet, so this feature won't work the same as it did in the training data.\n",
        "\n",
        "3. These don't change, and will be available at the time we want to make a prediction. So there's no risk of target leakage here.\n",
        "\n",
        "4. This also doesn't change, and it is available at the time we want to make a prediction. So there's no risk of target leakage here."
      ]
    },
    {
      "cell_type": "markdown",
      "metadata": {
        "id": "2K5i40stc-kn",
        "colab_type": "text"
      },
      "source": [
        "#Conclusion\n",
        "\n",
        "Leakage is a hard and subtle issue. You should be proud if you picked up on the issues in these examples.\n",
        "\n",
        "Now you have the tools to make highly accurate models, and pick up on the most difficult practical problems that arise with applying these models to solve real problems."
      ]
    }
  ]
}