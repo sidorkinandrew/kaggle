{
  "nbformat": 4,
  "nbformat_minor": 0,
  "metadata": {
    "colab": {
      "name": "IntermidiateML-#6-XGBoost_kaggle.ipynb",
      "provenance": [],
      "collapsed_sections": [],
      "toc_visible": true
    },
    "kernelspec": {
      "name": "python3",
      "display_name": "Python 3"
    }
  },
  "cells": [
    {
      "cell_type": "markdown",
      "metadata": {
        "id": "faJF26U1FPAp",
        "colab_type": "text"
      },
      "source": [
        "#Gradient Boosting\n",
        "Gradient boosting is a method that goes through cycles to iteratively add models into an ensemble.\n",
        "\n",
        "Then, we start the cycle:\n",
        "\n",
        "- First, we use the current ensemble to generate predictions for each observation in the dataset. To make a prediction, we add the predictions from all models in the ensemble.\n",
        "- These predictions are used to calculate a loss function (like mean squared error, for instance).\n",
        "- Then, we use the loss function to fit a new model that will be added to the ensemble. Specifically, we determine model parameters so that adding this new model to the ensemble will reduce the loss. (Side note: The \"gradient\" in \"gradient boosting\" refers to the fact that we'll use gradient descent on the loss function to determine the parameters in this new model.)\n",
        "- Finally, we add the new model to ensemble, and ...\n",
        "- ... repeat!\n",
        "![alt text](https://i.imgur.com/MvCGENh.png)"
      ]
    },
    {
      "cell_type": "code",
      "metadata": {
        "id": "7-XnTV630Rbe",
        "colab_type": "code",
        "colab": {}
      },
      "source": [
        "import pandas as pd\n",
        "from sklearn.model_selection import train_test_split\n",
        "import os\n",
        "\n",
        "# kaggle datasets download -d dansbecker/melbourne-housing-snapshot\n",
        "\n",
        "folder_root = './drive/My Drive/kaggle/input/melbourne-housing-snapshot'\n",
        "\n",
        "# Read the data\n",
        "data = pd.read_csv(folder_root + '/melbourne-housing-snapshot.zip')\n",
        "\n",
        "# Select subset of predictors\n",
        "cols_to_use = ['Rooms', 'Distance', 'Landsize', 'BuildingArea', 'YearBuilt']\n",
        "X = data[cols_to_use]\n",
        "\n",
        "# Select target\n",
        "y = data.Price\n",
        "\n",
        "# Separate data into training and validation sets\n",
        "X_train, X_valid, y_train, y_valid = train_test_split(X, y)"
      ],
      "execution_count": 0,
      "outputs": []
    },
    {
      "cell_type": "code",
      "metadata": {
        "id": "uzxmtZIj7Ypj",
        "colab_type": "code",
        "outputId": "9bba8d55-1fbe-4e81-d0bd-6b55906c9a53",
        "colab": {
          "base_uri": "https://localhost:8080/",
          "height": 134
        }
      },
      "source": [
        "from xgboost import XGBRegressor\n",
        "\n",
        "my_model = XGBRegressor(objective = 'reg:squarederror')\n",
        "my_model.fit(X_train, y_train)\n"
      ],
      "execution_count": 0,
      "outputs": [
        {
          "output_type": "execute_result",
          "data": {
            "text/plain": [
              "XGBRegressor(base_score=0.5, booster='gbtree', colsample_bylevel=1,\n",
              "             colsample_bynode=1, colsample_bytree=1, gamma=0,\n",
              "             importance_type='gain', learning_rate=0.1, max_delta_step=0,\n",
              "             max_depth=3, min_child_weight=1, missing=None, n_estimators=100,\n",
              "             n_jobs=1, nthread=None, objective='reg:squarederror',\n",
              "             random_state=0, reg_alpha=0, reg_lambda=1, scale_pos_weight=1,\n",
              "             seed=None, silent=None, subsample=1, verbosity=1)"
            ]
          },
          "metadata": {
            "tags": []
          },
          "execution_count": 6
        }
      ]
    },
    {
      "cell_type": "code",
      "metadata": {
        "id": "sM931ux1JKVP",
        "colab_type": "code",
        "outputId": "fdb61541-0dbc-4f4c-ae8a-943f7419219a",
        "colab": {
          "base_uri": "https://localhost:8080/",
          "height": 33
        }
      },
      "source": [
        "from sklearn.metrics import mean_absolute_error\n",
        "\n",
        "predictions = my_model.predict(X_valid)\n",
        "print(\"Mean Absolute Error: \" + str(mean_absolute_error(predictions, y_valid)))"
      ],
      "execution_count": 0,
      "outputs": [
        {
          "output_type": "stream",
          "text": [
            "Mean Absolute Error: 266461.66557897645\n"
          ],
          "name": "stdout"
        }
      ]
    },
    {
      "cell_type": "markdown",
      "metadata": {
        "id": "RvqjRT0RJe4d",
        "colab_type": "text"
      },
      "source": [
        "#Parameter Tuning\n",
        "XGBoost has a few parameters that can dramatically affect accuracy and training speed. The first parameters you should understand are:\n",
        "\n",
        "*n_estimators*\n",
        "n_estimators specifies how many times to go through the modeling cycle described above. It is equal to the number of models that we include in the ensemble.\n",
        "\n",
        "Too low a value causes underfitting, which leads to inaccurate predictions on both training data and test data.\n",
        "Too high a value causes overfitting, which causes accurate predictions on training data, but inaccurate predictions on test data (which is what we care about).\n",
        "**Typical values range from 100-1000**, though this depends a lot on the learning_rate parameter discussed below."
      ]
    },
    {
      "cell_type": "code",
      "metadata": {
        "id": "3bPv8goiJVtr",
        "colab_type": "code",
        "outputId": "e83d1782-33d5-4015-974b-10cd549aa68e",
        "colab": {
          "base_uri": "https://localhost:8080/",
          "height": 33
        }
      },
      "source": [
        "my_model = XGBRegressor(objective = 'reg:squarederror', n_estimators=500)\n",
        "my_model.fit(X_train, y_train)\n",
        "from sklearn.metrics import mean_absolute_error\n",
        "\n",
        "predictions = my_model.predict(X_valid)\n",
        "print(\"Mean Absolute Error: \" + str(mean_absolute_error(predictions, y_valid)))"
      ],
      "execution_count": 0,
      "outputs": [
        {
          "output_type": "stream",
          "text": [
            "Mean Absolute Error: 240746.0316285438\n"
          ],
          "name": "stdout"
        }
      ]
    },
    {
      "cell_type": "markdown",
      "metadata": {
        "id": "RmdX99A8KBDm",
        "colab_type": "text"
      },
      "source": [
        "*early_stopping_rounds*\n",
        "\n",
        "early_stopping_rounds offers a way to automatically find the ideal value for n_estimators. Early stopping causes the model to stop iterating when the validation score stops improving, even if we aren't at the hard stop for n_estimators. It's smart to set a high value for n_estimators and then use early_stopping_rounds to find the optimal time to stop iterating."
      ]
    },
    {
      "cell_type": "code",
      "metadata": {
        "id": "90lnkCRYJmiX",
        "colab_type": "code",
        "outputId": "67d240dc-5e18-4fa8-a8a6-68658796325d",
        "colab": {
          "base_uri": "https://localhost:8080/",
          "height": 50
        }
      },
      "source": [
        "my_model = XGBRegressor(n_estimators=500)\n",
        "my_model.fit(X_train, y_train, \n",
        "             early_stopping_rounds=5, \n",
        "             eval_set=[(X_valid, y_valid)],\n",
        "             verbose=False)\n",
        "from sklearn.metrics import mean_absolute_error\n",
        "preds = my_model.predict(X_valid)\n",
        "\n",
        "# Evaluate the model\n",
        "score = mean_absolute_error(y_valid, preds)\n",
        "print('MAE:', score)"
      ],
      "execution_count": 0,
      "outputs": [
        {
          "output_type": "stream",
          "text": [
            "[20:40:10] WARNING: /workspace/src/objective/regression_obj.cu:152: reg:linear is now deprecated in favor of reg:squarederror.\n",
            "MAE: 258361.01505891015\n"
          ],
          "name": "stdout"
        }
      ]
    },
    {
      "cell_type": "markdown",
      "metadata": {
        "id": "o_jTQ92MLOMr",
        "colab_type": "text"
      },
      "source": [
        "*learning_rate*\n",
        "\n",
        "Instead of getting predictions by simply adding up the predictions from each component model, we can multiply the predictions from each model by a small number (known as the learning rate) before adding them in.\n",
        "\n",
        "This means each tree we add to the ensemble helps us less. So, we can set a higher value for n_estimators without overfitting. If we use early stopping, the appropriate number of trees will be determined automatically.\n",
        "\n",
        "In general, a small learning rate and large number of estimators will yield more accurate XGBoost models, though it will also take the model longer to train since it does more iterations through the cycle. As default, XGBoost sets learning_rate=0.1."
      ]
    },
    {
      "cell_type": "code",
      "metadata": {
        "id": "9PuaTYpsKHUd",
        "colab_type": "code",
        "outputId": "32640e19-b769-433f-a1ec-e7a341d03887",
        "colab": {
          "base_uri": "https://localhost:8080/",
          "height": 50
        }
      },
      "source": [
        "my_model = XGBRegressor(n_estimators=1000, learning_rate=0.20)\n",
        "my_model.fit(X_train, y_train, \n",
        "#             early_stopping_rounds=5, \n",
        "             eval_set=[(X_valid, y_valid)], \n",
        "             verbose=False)\n",
        "\n",
        "from sklearn.metrics import mean_absolute_error\n",
        "preds = my_model.predict(X_valid)\n",
        "\n",
        "# Evaluate the model\n",
        "score = mean_absolute_error(y_valid, preds)\n",
        "print('MAE:', score)"
      ],
      "execution_count": 0,
      "outputs": [
        {
          "output_type": "stream",
          "text": [
            "[20:43:12] WARNING: /workspace/src/objective/regression_obj.cu:152: reg:linear is now deprecated in favor of reg:squarederror.\n",
            "MAE: 237060.167884757\n"
          ],
          "name": "stdout"
        }
      ]
    },
    {
      "cell_type": "markdown",
      "metadata": {
        "id": "tip_gBYFLrOL",
        "colab_type": "text"
      },
      "source": [
        "*n_jobs*\n",
        "\n",
        "On larger datasets where runtime is a consideration, you can use parallelism to build your models faster. It's common to set the parameter n_jobs equal to the number of cores on your machine. On smaller datasets, this won't help.\n",
        "\n",
        "The resulting model won't be any better, so micro-optimizing for fitting time is typically nothing but a distraction. But, it's useful in large datasets where you would otherwise spend a long time waiting during the fit command."
      ]
    },
    {
      "cell_type": "code",
      "metadata": {
        "id": "FNEXQgT3LkQ8",
        "colab_type": "code",
        "outputId": "2029fab3-3831-4c6d-cbe9-6823336ef441",
        "colab": {
          "base_uri": "https://localhost:8080/",
          "height": 50
        }
      },
      "source": [
        "my_model = XGBRegressor(n_estimators=1000, learning_rate=0.20, n_jobs=4)\n",
        "my_model.fit(X_train, y_train, \n",
        "#             early_stopping_rounds=5, \n",
        "             eval_set=[(X_valid, y_valid)], \n",
        "             verbose=False)\n",
        "\n",
        "from sklearn.metrics import mean_absolute_error\n",
        "preds = my_model.predict(X_valid)\n",
        "\n",
        "# Evaluate the model\n",
        "score = mean_absolute_error(y_valid, preds)\n",
        "print('MAE:', score)"
      ],
      "execution_count": 0,
      "outputs": [
        {
          "output_type": "stream",
          "text": [
            "[20:44:23] WARNING: /workspace/src/objective/regression_obj.cu:152: reg:linear is now deprecated in favor of reg:squarederror.\n",
            "MAE: 237060.167884757\n"
          ],
          "name": "stdout"
        }
      ]
    },
    {
      "cell_type": "markdown",
      "metadata": {
        "id": "1eu5dcj8MF4i",
        "colab_type": "text"
      },
      "source": [
        "# Exercise"
      ]
    },
    {
      "cell_type": "code",
      "metadata": {
        "id": "b5bumDQUMIlk",
        "colab_type": "code",
        "colab": {}
      },
      "source": [
        "import pandas as pd\n",
        "from sklearn.model_selection import train_test_split\n",
        "\n",
        "folder_root = './drive/My Drive/kaggle/input/home-data-for-ml-course'\n",
        "\n",
        "# Read the data\n",
        "X = pd.read_csv(folder_root + '/train.csv', index_col='Id')\n",
        "X_test_full = pd.read_csv(folder_root + '/test.csv', index_col='Id')\n",
        "\n",
        "# Remove rows with missing target, separate target from predictors\n",
        "X.dropna(axis=0, subset=['SalePrice'], inplace=True)\n",
        "y = X.SalePrice              \n",
        "X.drop(['SalePrice'], axis=1, inplace=True)\n",
        "\n",
        "# Break off validation set from training data\n",
        "X_train_full, X_valid_full, y_train, y_valid = train_test_split(X, y, train_size=0.8, test_size=0.2,\n",
        "                                                                random_state=0)\n",
        "\n",
        "# \"Cardinality\" means the number of unique values in a column\n",
        "# Select categorical columns with relatively low cardinality (convenient but arbitrary)\n",
        "low_cardinality_cols = [cname for cname in X_train_full.columns if X_train_full[cname].nunique() < 10 and \n",
        "                        X_train_full[cname].dtype == \"object\"]\n",
        "\n",
        "# Select numeric columns\n",
        "numeric_cols = [cname for cname in X_train_full.columns if X_train_full[cname].dtype in ['int64', 'float64']]\n",
        "\n",
        "# Keep selected columns only\n",
        "my_cols = low_cardinality_cols + numeric_cols\n",
        "X_train = X_train_full[my_cols].copy()\n",
        "X_valid = X_valid_full[my_cols].copy()\n",
        "X_test = X_test_full[my_cols].copy()\n",
        "\n",
        "# One-hot encode the data (to shorten the code, we use pandas)\n",
        "X_train = pd.get_dummies(X_train)\n",
        "X_valid = pd.get_dummies(X_valid)\n",
        "X_test = pd.get_dummies(X_test)\n",
        "X_train, X_valid = X_train.align(X_valid, join='left', axis=1)\n",
        "X_train, X_test = X_train.align(X_test, join='left', axis=1)"
      ],
      "execution_count": 0,
      "outputs": []
    },
    {
      "cell_type": "markdown",
      "metadata": {
        "id": "K7OOlpRVM0AS",
        "colab_type": "text"
      },
      "source": [
        "#Step 1\n",
        "- Begin by setting my_model_1 to an XGBoost model. Use the XGBRegressor class, and set the random seed to 0 (random_state=0). Leave all other parameters as default.\n",
        "- Then, fit the model to the training data in X_train and y_train."
      ]
    },
    {
      "cell_type": "code",
      "metadata": {
        "id": "yFMeJ3NjMgt1",
        "colab_type": "code",
        "outputId": "b1c0691a-e184-4eb3-91d7-ca9669dee474",
        "colab": {
          "base_uri": "https://localhost:8080/",
          "height": 150
        }
      },
      "source": [
        "from xgboost import XGBRegressor\n",
        "\n",
        "# Define the model\n",
        "my_model_1 = XGBRegressor(random_state=0) # Your code here\n",
        "\n",
        "# Fit the model\n",
        "my_model_1.fit(X_train, y_train) # Your code here"
      ],
      "execution_count": 0,
      "outputs": [
        {
          "output_type": "stream",
          "text": [
            "[20:48:59] WARNING: /workspace/src/objective/regression_obj.cu:152: reg:linear is now deprecated in favor of reg:squarederror.\n"
          ],
          "name": "stdout"
        },
        {
          "output_type": "execute_result",
          "data": {
            "text/plain": [
              "XGBRegressor(base_score=0.5, booster='gbtree', colsample_bylevel=1,\n",
              "             colsample_bynode=1, colsample_bytree=1, gamma=0,\n",
              "             importance_type='gain', learning_rate=0.1, max_delta_step=0,\n",
              "             max_depth=3, min_child_weight=1, missing=None, n_estimators=100,\n",
              "             n_jobs=1, nthread=None, objective='reg:linear', random_state=0,\n",
              "             reg_alpha=0, reg_lambda=1, scale_pos_weight=1, seed=None,\n",
              "             silent=None, subsample=1, verbosity=1)"
            ]
          },
          "metadata": {
            "tags": []
          },
          "execution_count": 42
        }
      ]
    },
    {
      "cell_type": "markdown",
      "metadata": {
        "id": "QqBN_DfoNN7s",
        "colab_type": "text"
      },
      "source": [
        "- Set `predictions_1` to the model's predictions for the validation data.  \n",
        "- Recall that the validation features are stored in `X_valid`."
      ]
    },
    {
      "cell_type": "code",
      "metadata": {
        "id": "HYtPdBpjM453",
        "colab_type": "code",
        "colab": {}
      },
      "source": [
        "from sklearn.metrics import mean_absolute_error\n",
        "\n",
        "# Get predictions\n",
        "predictions_1 = my_model_1.predict(X_valid) # Your code here\n"
      ],
      "execution_count": 0,
      "outputs": []
    },
    {
      "cell_type": "markdown",
      "metadata": {
        "id": "sA5tOMHENgZr",
        "colab_type": "text"
      },
      "source": [
        "- Finally, use the mean_absolute_error() function to calculate the mean absolute error (MAE) corresponding to the predictions for the validation set.\n",
        "- Recall that the labels for the validation data are stored in y_valid."
      ]
    },
    {
      "cell_type": "code",
      "metadata": {
        "id": "46bwBY49NjD9",
        "colab_type": "code",
        "outputId": "cf169dd2-20cd-4a69-91a4-6b5c584eada5",
        "colab": {
          "base_uri": "https://localhost:8080/",
          "height": 33
        }
      },
      "source": [
        "# Calculate MAE\n",
        "mae_1 = mean_absolute_error(y_valid, predictions_1) # Your code here\n",
        "\n",
        "# Uncomment to print MAE\n",
        "print(\"Mean Absolute Error:\" , mae_1)"
      ],
      "execution_count": 0,
      "outputs": [
        {
          "output_type": "stream",
          "text": [
            "Mean Absolute Error: 16803.434690710616\n"
          ],
          "name": "stdout"
        }
      ]
    },
    {
      "cell_type": "markdown",
      "metadata": {
        "id": "NyU57npvNw_M",
        "colab_type": "text"
      },
      "source": [
        "#Step 2: Improve the model\n",
        "\n",
        "- Begin by setting my_model_2 to an XGBoost model, using the XGBRegressor class. Use what you learned in the previous tutorial to figure out how to change the default parameters (like n_estimators and learning_rate) to get better results.\n",
        "- Then, fit the model to the training data in X_train and y_train.\n",
        "- Set predictions_2 to the model's predictions for the validation data. Recall that the validation features are stored in X_valid.\n",
        "- Finally, use the mean_absolute_error() function to calculate the mean absolute error (MAE) corresponding to the predictions on the validation set. Recall that the labels for the validation data are stored in y_valid."
      ]
    },
    {
      "cell_type": "code",
      "metadata": {
        "id": "8xQPpcU7Nlvf",
        "colab_type": "code",
        "outputId": "8b30271f-77ae-45fd-d7da-618f380f4154",
        "colab": {
          "base_uri": "https://localhost:8080/",
          "height": 50
        }
      },
      "source": [
        "# Define the model\n",
        "my_model_2 = XGBRegressor(n_estimators=1000, learning_rate=0.1,random_state=0) # Your code here\n",
        "\n",
        "# Fit the model\n",
        "my_model_2.fit(X_train, y_train) # Your code here\n",
        "\n",
        "# Get predictions\n",
        "predictions_2 = my_model_2.predict(X_valid) # Your code here\n",
        "\n",
        "# Calculate MAE\n",
        "mae_2 = mean_absolute_error(y_valid, predictions_2) # Your code here\n",
        "\n",
        "# Uncomment to print MAE\n",
        "print(\"Mean Absolute Error:\" , mae_2)\n"
      ],
      "execution_count": 0,
      "outputs": [
        {
          "output_type": "stream",
          "text": [
            "[20:58:29] WARNING: /workspace/src/objective/regression_obj.cu:152: reg:linear is now deprecated in favor of reg:squarederror.\n",
            "Mean Absolute Error: 15918.715218321919\n"
          ],
          "name": "stdout"
        }
      ]
    },
    {
      "cell_type": "markdown",
      "metadata": {
        "id": "QNNegscAPYXY",
        "colab_type": "text"
      },
      "source": [
        "#Step 3: Break the model\n",
        "\n",
        "- Begin by setting my_model_3 to an XGBoost model, using the XGBRegressor class. Use what you learned in the previous tutorial to figure out how to change the default parameters (like n_estimators and learning_rate) to design a model to get high MAE.\n",
        "- Then, fit the model to the training data in X_train and y_train.\n",
        "- Set predictions_3 to the model's predictions for the validation data. Recall that the validation features are stored in X_valid.\n",
        "- Finally, use the mean_absolute_error() function to calculate the mean absolute error (MAE) corresponding to the predictions on the validation set. Recall that the labels for the validation data are stored in y_valid."
      ]
    },
    {
      "cell_type": "code",
      "metadata": {
        "id": "lsg2oDr9PEw-",
        "colab_type": "code",
        "outputId": "b31ac151-011e-4030-94b8-0804ce50aae4",
        "colab": {
          "base_uri": "https://localhost:8080/",
          "height": 50
        }
      },
      "source": [
        "# Define the model\n",
        "my_model_3 = XGBRegressor(n_estimators=10, learning_rate=0.1,random_state=0) # Your code here\n",
        "\n",
        "# Fit the model\n",
        "my_model_3.fit(X_train, y_train) # Your code here\n",
        "\n",
        "# Get predictions\n",
        "predictions_3 = my_model_3.predict(X_valid) # Your code here\n",
        "\n",
        "# Calculate MAE\n",
        "mae_3 = mean_absolute_error(y_valid, predictions_3) # Your code here\n",
        "\n",
        "# Uncomment to print MAE\n",
        "print(\"Mean Absolute Error:\" , mae_3)"
      ],
      "execution_count": 0,
      "outputs": [
        {
          "output_type": "stream",
          "text": [
            "[21:01:21] WARNING: /workspace/src/objective/regression_obj.cu:152: reg:linear is now deprecated in favor of reg:squarederror.\n",
            "Mean Absolute Error: 64334.30095515839\n"
          ],
          "name": "stdout"
        }
      ]
    },
    {
      "cell_type": "code",
      "metadata": {
        "id": "NlzceQanPuAc",
        "colab_type": "code",
        "colab": {}
      },
      "source": [
        ""
      ],
      "execution_count": 0,
      "outputs": []
    }
  ]
}