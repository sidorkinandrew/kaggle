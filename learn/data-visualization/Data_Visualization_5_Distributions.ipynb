{
  "nbformat": 4,
  "nbformat_minor": 0,
  "metadata": {
    "colab": {
      "name": "Data-Visualization-#5-Distributions.ipynb",
      "provenance": [],
      "collapsed_sections": []
    },
    "kernelspec": {
      "name": "python3",
      "display_name": "Python 3"
    }
  },
  "cells": [
    {
      "cell_type": "code",
      "metadata": {
        "id": "N_HAFuX6xWhc",
        "colab_type": "code",
        "outputId": "6cc41593-e13e-47ab-e527-86ce01fbbdc7",
        "colab": {
          "base_uri": "https://localhost:8080/",
          "height": 87
        }
      },
      "source": [
        "import pandas as pd\n",
        "pd.plotting.register_matplotlib_converters()\n",
        "import matplotlib.pyplot as plt\n",
        "%matplotlib inline\n",
        "import seaborn as sns\n",
        "print(\"Setup Complete\")"
      ],
      "execution_count": 1,
      "outputs": [
        {
          "output_type": "stream",
          "text": [
            "Setup Complete\n"
          ],
          "name": "stdout"
        },
        {
          "output_type": "stream",
          "text": [
            "/usr/local/lib/python3.6/dist-packages/statsmodels/tools/_testing.py:19: FutureWarning: pandas.util.testing is deprecated. Use the functions in the public API at pandas.testing instead.\n",
            "  import pandas.util.testing as tm\n"
          ],
          "name": "stderr"
        }
      ]
    },
    {
      "cell_type": "code",
      "metadata": {
        "id": "N3Tp0FquxXp7",
        "colab_type": "code",
        "colab": {}
      },
      "source": [
        "# Path of the file to read\n",
        "dataset_filepath = \"./drive/My Drive/kaggle/input/data-for-datavis/iris.csv\"\n",
        "\n",
        "# Read the file into a variable iris_data\n",
        "iris_data = pd.read_csv(dataset_filepath, index_col=\"Id\")"
      ],
      "execution_count": 0,
      "outputs": []
    },
    {
      "cell_type": "code",
      "metadata": {
        "id": "Uce8Mbn-xdje",
        "colab_type": "code",
        "outputId": "4d61f8cb-29ad-48da-abd3-7be0229b3d07",
        "colab": {
          "base_uri": "https://localhost:8080/",
          "height": 226
        }
      },
      "source": [
        "# Print the first 5 rows of the data\n",
        "iris_data.head()"
      ],
      "execution_count": 4,
      "outputs": [
        {
          "output_type": "execute_result",
          "data": {
            "text/html": [
              "<div>\n",
              "<style scoped>\n",
              "    .dataframe tbody tr th:only-of-type {\n",
              "        vertical-align: middle;\n",
              "    }\n",
              "\n",
              "    .dataframe tbody tr th {\n",
              "        vertical-align: top;\n",
              "    }\n",
              "\n",
              "    .dataframe thead th {\n",
              "        text-align: right;\n",
              "    }\n",
              "</style>\n",
              "<table border=\"1\" class=\"dataframe\">\n",
              "  <thead>\n",
              "    <tr style=\"text-align: right;\">\n",
              "      <th></th>\n",
              "      <th>Sepal Length (cm)</th>\n",
              "      <th>Sepal Width (cm)</th>\n",
              "      <th>Petal Length (cm)</th>\n",
              "      <th>Petal Width (cm)</th>\n",
              "      <th>Species</th>\n",
              "    </tr>\n",
              "    <tr>\n",
              "      <th>Id</th>\n",
              "      <th></th>\n",
              "      <th></th>\n",
              "      <th></th>\n",
              "      <th></th>\n",
              "      <th></th>\n",
              "    </tr>\n",
              "  </thead>\n",
              "  <tbody>\n",
              "    <tr>\n",
              "      <th>1</th>\n",
              "      <td>5.1</td>\n",
              "      <td>3.5</td>\n",
              "      <td>1.4</td>\n",
              "      <td>0.2</td>\n",
              "      <td>Iris-setosa</td>\n",
              "    </tr>\n",
              "    <tr>\n",
              "      <th>2</th>\n",
              "      <td>4.9</td>\n",
              "      <td>3.0</td>\n",
              "      <td>1.4</td>\n",
              "      <td>0.2</td>\n",
              "      <td>Iris-setosa</td>\n",
              "    </tr>\n",
              "    <tr>\n",
              "      <th>3</th>\n",
              "      <td>4.7</td>\n",
              "      <td>3.2</td>\n",
              "      <td>1.3</td>\n",
              "      <td>0.2</td>\n",
              "      <td>Iris-setosa</td>\n",
              "    </tr>\n",
              "    <tr>\n",
              "      <th>4</th>\n",
              "      <td>4.6</td>\n",
              "      <td>3.1</td>\n",
              "      <td>1.5</td>\n",
              "      <td>0.2</td>\n",
              "      <td>Iris-setosa</td>\n",
              "    </tr>\n",
              "    <tr>\n",
              "      <th>5</th>\n",
              "      <td>5.0</td>\n",
              "      <td>3.6</td>\n",
              "      <td>1.4</td>\n",
              "      <td>0.2</td>\n",
              "      <td>Iris-setosa</td>\n",
              "    </tr>\n",
              "  </tbody>\n",
              "</table>\n",
              "</div>"
            ],
            "text/plain": [
              "    Sepal Length (cm)  Sepal Width (cm)  ...  Petal Width (cm)      Species\n",
              "Id                                       ...                               \n",
              "1                 5.1               3.5  ...               0.2  Iris-setosa\n",
              "2                 4.9               3.0  ...               0.2  Iris-setosa\n",
              "3                 4.7               3.2  ...               0.2  Iris-setosa\n",
              "4                 4.6               3.1  ...               0.2  Iris-setosa\n",
              "5                 5.0               3.6  ...               0.2  Iris-setosa\n",
              "\n",
              "[5 rows x 5 columns]"
            ]
          },
          "metadata": {
            "tags": []
          },
          "execution_count": 4
        }
      ]
    },
    {
      "cell_type": "code",
      "metadata": {
        "id": "GCqLjEXQyE_d",
        "colab_type": "code",
        "outputId": "a4cdf1fb-490b-48ea-bdd7-96d4c4ccf947",
        "colab": {
          "base_uri": "https://localhost:8080/",
          "height": 434
        }
      },
      "source": [
        "# Print the data\n",
        "iris_data"
      ],
      "execution_count": 6,
      "outputs": [
        {
          "output_type": "execute_result",
          "data": {
            "text/html": [
              "<div>\n",
              "<style scoped>\n",
              "    .dataframe tbody tr th:only-of-type {\n",
              "        vertical-align: middle;\n",
              "    }\n",
              "\n",
              "    .dataframe tbody tr th {\n",
              "        vertical-align: top;\n",
              "    }\n",
              "\n",
              "    .dataframe thead th {\n",
              "        text-align: right;\n",
              "    }\n",
              "</style>\n",
              "<table border=\"1\" class=\"dataframe\">\n",
              "  <thead>\n",
              "    <tr style=\"text-align: right;\">\n",
              "      <th></th>\n",
              "      <th>Sepal Length (cm)</th>\n",
              "      <th>Sepal Width (cm)</th>\n",
              "      <th>Petal Length (cm)</th>\n",
              "      <th>Petal Width (cm)</th>\n",
              "      <th>Species</th>\n",
              "    </tr>\n",
              "    <tr>\n",
              "      <th>Id</th>\n",
              "      <th></th>\n",
              "      <th></th>\n",
              "      <th></th>\n",
              "      <th></th>\n",
              "      <th></th>\n",
              "    </tr>\n",
              "  </thead>\n",
              "  <tbody>\n",
              "    <tr>\n",
              "      <th>1</th>\n",
              "      <td>5.1</td>\n",
              "      <td>3.5</td>\n",
              "      <td>1.4</td>\n",
              "      <td>0.2</td>\n",
              "      <td>Iris-setosa</td>\n",
              "    </tr>\n",
              "    <tr>\n",
              "      <th>2</th>\n",
              "      <td>4.9</td>\n",
              "      <td>3.0</td>\n",
              "      <td>1.4</td>\n",
              "      <td>0.2</td>\n",
              "      <td>Iris-setosa</td>\n",
              "    </tr>\n",
              "    <tr>\n",
              "      <th>3</th>\n",
              "      <td>4.7</td>\n",
              "      <td>3.2</td>\n",
              "      <td>1.3</td>\n",
              "      <td>0.2</td>\n",
              "      <td>Iris-setosa</td>\n",
              "    </tr>\n",
              "    <tr>\n",
              "      <th>4</th>\n",
              "      <td>4.6</td>\n",
              "      <td>3.1</td>\n",
              "      <td>1.5</td>\n",
              "      <td>0.2</td>\n",
              "      <td>Iris-setosa</td>\n",
              "    </tr>\n",
              "    <tr>\n",
              "      <th>5</th>\n",
              "      <td>5.0</td>\n",
              "      <td>3.6</td>\n",
              "      <td>1.4</td>\n",
              "      <td>0.2</td>\n",
              "      <td>Iris-setosa</td>\n",
              "    </tr>\n",
              "    <tr>\n",
              "      <th>...</th>\n",
              "      <td>...</td>\n",
              "      <td>...</td>\n",
              "      <td>...</td>\n",
              "      <td>...</td>\n",
              "      <td>...</td>\n",
              "    </tr>\n",
              "    <tr>\n",
              "      <th>146</th>\n",
              "      <td>6.7</td>\n",
              "      <td>3.0</td>\n",
              "      <td>5.2</td>\n",
              "      <td>2.3</td>\n",
              "      <td>Iris-virginica</td>\n",
              "    </tr>\n",
              "    <tr>\n",
              "      <th>147</th>\n",
              "      <td>6.3</td>\n",
              "      <td>2.5</td>\n",
              "      <td>5.0</td>\n",
              "      <td>1.9</td>\n",
              "      <td>Iris-virginica</td>\n",
              "    </tr>\n",
              "    <tr>\n",
              "      <th>148</th>\n",
              "      <td>6.5</td>\n",
              "      <td>3.0</td>\n",
              "      <td>5.2</td>\n",
              "      <td>2.0</td>\n",
              "      <td>Iris-virginica</td>\n",
              "    </tr>\n",
              "    <tr>\n",
              "      <th>149</th>\n",
              "      <td>6.2</td>\n",
              "      <td>3.4</td>\n",
              "      <td>5.4</td>\n",
              "      <td>2.3</td>\n",
              "      <td>Iris-virginica</td>\n",
              "    </tr>\n",
              "    <tr>\n",
              "      <th>150</th>\n",
              "      <td>5.9</td>\n",
              "      <td>3.0</td>\n",
              "      <td>5.1</td>\n",
              "      <td>1.8</td>\n",
              "      <td>Iris-virginica</td>\n",
              "    </tr>\n",
              "  </tbody>\n",
              "</table>\n",
              "<p>150 rows × 5 columns</p>\n",
              "</div>"
            ],
            "text/plain": [
              "     Sepal Length (cm)  Sepal Width (cm)  ...  Petal Width (cm)         Species\n",
              "Id                                        ...                                  \n",
              "1                  5.1               3.5  ...               0.2     Iris-setosa\n",
              "2                  4.9               3.0  ...               0.2     Iris-setosa\n",
              "3                  4.7               3.2  ...               0.2     Iris-setosa\n",
              "4                  4.6               3.1  ...               0.2     Iris-setosa\n",
              "5                  5.0               3.6  ...               0.2     Iris-setosa\n",
              "..                 ...               ...  ...               ...             ...\n",
              "146                6.7               3.0  ...               2.3  Iris-virginica\n",
              "147                6.3               2.5  ...               1.9  Iris-virginica\n",
              "148                6.5               3.0  ...               2.0  Iris-virginica\n",
              "149                6.2               3.4  ...               2.3  Iris-virginica\n",
              "150                5.9               3.0  ...               1.8  Iris-virginica\n",
              "\n",
              "[150 rows x 5 columns]"
            ]
          },
          "metadata": {
            "tags": []
          },
          "execution_count": 6
        }
      ]
    },
    {
      "cell_type": "markdown",
      "metadata": {
        "id": "XS-CzqBtyQXv",
        "colab_type": "text"
      },
      "source": [
        "##Histograms\n",
        "\n",
        "\n",
        "\n"
      ]
    },
    {
      "cell_type": "code",
      "metadata": {
        "id": "f9e-nVVbyHp3",
        "colab_type": "code",
        "outputId": "c4b92756-e214-486c-b489-11318f926f5f",
        "colab": {
          "base_uri": "https://localhost:8080/",
          "height": 296
        }
      },
      "source": [
        "# Histogram \n",
        "sns.distplot(a=iris_data['Petal Length (cm)'], kde=False)"
      ],
      "execution_count": 7,
      "outputs": [
        {
          "output_type": "execute_result",
          "data": {
            "text/plain": [
              "<matplotlib.axes._subplots.AxesSubplot at 0x7f2912d0de10>"
            ]
          },
          "metadata": {
            "tags": []
          },
          "execution_count": 7
        },
        {
          "output_type": "display_data",
          "data": {
            "image/png": "[encoded data removed]",
            "text/plain": [
              "<Figure size 432x288 with 1 Axes>"
            ]
          },
          "metadata": {
            "tags": [],
            "needs_background": "light"
          }
        }
      ]
    },
    {
      "cell_type": "markdown",
      "metadata": {
        "id": "YdXJSdSbp4Yw",
        "colab_type": "text"
      },
      "source": [
        "##Density plots\n",
        "\n",
        "The next type of plot is a kernel density estimate (KDE) plot. In case you're not familiar with KDE plots, you can think of it as a smoothed histogram."
      ]
    },
    {
      "cell_type": "code",
      "metadata": {
        "id": "YjgQRDyv82pT",
        "colab_type": "code",
        "outputId": "39543772-0e4d-4235-85ee-9307c198f043",
        "colab": {
          "base_uri": "https://localhost:8080/",
          "height": 281
        }
      },
      "source": [
        "# KDE plot \n",
        "sns.kdeplot(data=iris_data['Petal Length (cm)'], shade=True)"
      ],
      "execution_count": 8,
      "outputs": [
        {
          "output_type": "execute_result",
          "data": {
            "text/plain": [
              "<matplotlib.axes._subplots.AxesSubplot at 0x7f291283d7b8>"
            ]
          },
          "metadata": {
            "tags": []
          },
          "execution_count": 8
        },
        {
          "output_type": "display_data",
          "data": {
            "image/png": "[encoded data removed]",
            "text/plain": [
              "<Figure size 432x288 with 1 Axes>"
            ]
          },
          "metadata": {
            "tags": [],
            "needs_background": "light"
          }
        }
      ]
    },
    {
      "cell_type": "markdown",
      "metadata": {
        "id": "kaLCK2iE4cWy",
        "colab_type": "text"
      },
      "source": [
        "##2D KDE plots\n",
        "We're not restricted to a single column when creating a KDE plot. We can create a two-dimensional (2D) KDE plot with the sns.jointplot command.\n",
        "\n",
        "In the plot below, the color-coding shows us how likely we are to see different combinations of sepal width and petal length, where darker parts of the figure are more likely"
      ]
    },
    {
      "cell_type": "code",
      "metadata": {
        "id": "KeLlTpID0Noh",
        "colab_type": "code",
        "outputId": "28689528-b6a0-403a-d4e5-08b7f48f8918",
        "colab": {
          "base_uri": "https://localhost:8080/",
          "height": 474
        }
      },
      "source": [
        "# Set the width and height of the figure\n",
        "plt.figure(figsize=(14,7))\n",
        "\n",
        "# 2D KDE plot\n",
        "sns.jointplot(x=iris_data['Petal Length (cm)'], y=iris_data['Sepal Width (cm)'], kind=\"kde\")"
      ],
      "execution_count": 10,
      "outputs": [
        {
          "output_type": "execute_result",
          "data": {
            "text/plain": [
              "<seaborn.axisgrid.JointGrid at 0x7f290fcb6a58>"
            ]
          },
          "metadata": {
            "tags": []
          },
          "execution_count": 10
        },
        {
          "output_type": "display_data",
          "data": {
            "text/plain": [
              "<Figure size 1008x504 with 0 Axes>"
            ]
          },
          "metadata": {
            "tags": []
          }
        },
        {
          "output_type": "display_data",
          "data": {
            "image/png": "[encoded data removed]",
            "text/plain": [
              "<Figure size 432x432 with 3 Axes>"
            ]
          },
          "metadata": {
            "tags": [],
            "needs_background": "light"
          }
        }
      ]
    },
    {
      "cell_type": "markdown",
      "metadata": {
        "id": "g6s4xAw1qbHo",
        "colab_type": "text"
      },
      "source": [
        "##Color-coded plots\n",
        "Let's create plots to understand differences between the species. To accomplish this, we begin by breaking the dataset into three separate files, with one for each species."
      ]
    },
    {
      "cell_type": "code",
      "metadata": {
        "id": "0MToC8_Vqadr",
        "colab_type": "code",
        "colab": {
          "base_uri": "https://localhost:8080/",
          "height": 226
        },
        "outputId": "3b32230c-a53a-4382-98fd-00cd634e0987"
      },
      "source": [
        "# Paths of the files to read\n",
        "iris_set_filepath = \"./drive/My Drive/kaggle/input/data-for-datavis/iris_setosa.csv\"\n",
        "iris_ver_filepath = \"./drive/My Drive/kaggle/input/data-for-datavis/iris_versicolor.csv\"\n",
        "iris_vir_filepath = \"./drive/My Drive/kaggle/input/data-for-datavis/iris_virginica.csv\"\n",
        "\n",
        "# Read the files into variables \n",
        "iris_set_data = pd.read_csv(iris_set_filepath, index_col=\"Id\")\n",
        "iris_ver_data = pd.read_csv(iris_ver_filepath, index_col=\"Id\")\n",
        "iris_vir_data = pd.read_csv(iris_vir_filepath, index_col=\"Id\")\n",
        "\n",
        "# Print the first 5 rows of the Iris versicolor data\n",
        "iris_ver_data.head()"
      ],
      "execution_count": 11,
      "outputs": [
        {
          "output_type": "execute_result",
          "data": {
            "text/html": [
              "<div>\n",
              "<style scoped>\n",
              "    .dataframe tbody tr th:only-of-type {\n",
              "        vertical-align: middle;\n",
              "    }\n",
              "\n",
              "    .dataframe tbody tr th {\n",
              "        vertical-align: top;\n",
              "    }\n",
              "\n",
              "    .dataframe thead th {\n",
              "        text-align: right;\n",
              "    }\n",
              "</style>\n",
              "<table border=\"1\" class=\"dataframe\">\n",
              "  <thead>\n",
              "    <tr style=\"text-align: right;\">\n",
              "      <th></th>\n",
              "      <th>Sepal Length (cm)</th>\n",
              "      <th>Sepal Width (cm)</th>\n",
              "      <th>Petal Length (cm)</th>\n",
              "      <th>Petal Width (cm)</th>\n",
              "      <th>Species</th>\n",
              "    </tr>\n",
              "    <tr>\n",
              "      <th>Id</th>\n",
              "      <th></th>\n",
              "      <th></th>\n",
              "      <th></th>\n",
              "      <th></th>\n",
              "      <th></th>\n",
              "    </tr>\n",
              "  </thead>\n",
              "  <tbody>\n",
              "    <tr>\n",
              "      <th>51</th>\n",
              "      <td>7.0</td>\n",
              "      <td>3.2</td>\n",
              "      <td>4.7</td>\n",
              "      <td>1.4</td>\n",
              "      <td>Iris-versicolor</td>\n",
              "    </tr>\n",
              "    <tr>\n",
              "      <th>52</th>\n",
              "      <td>6.4</td>\n",
              "      <td>3.2</td>\n",
              "      <td>4.5</td>\n",
              "      <td>1.5</td>\n",
              "      <td>Iris-versicolor</td>\n",
              "    </tr>\n",
              "    <tr>\n",
              "      <th>53</th>\n",
              "      <td>6.9</td>\n",
              "      <td>3.1</td>\n",
              "      <td>4.9</td>\n",
              "      <td>1.5</td>\n",
              "      <td>Iris-versicolor</td>\n",
              "    </tr>\n",
              "    <tr>\n",
              "      <th>54</th>\n",
              "      <td>5.5</td>\n",
              "      <td>2.3</td>\n",
              "      <td>4.0</td>\n",
              "      <td>1.3</td>\n",
              "      <td>Iris-versicolor</td>\n",
              "    </tr>\n",
              "    <tr>\n",
              "      <th>55</th>\n",
              "      <td>6.5</td>\n",
              "      <td>2.8</td>\n",
              "      <td>4.6</td>\n",
              "      <td>1.5</td>\n",
              "      <td>Iris-versicolor</td>\n",
              "    </tr>\n",
              "  </tbody>\n",
              "</table>\n",
              "</div>"
            ],
            "text/plain": [
              "    Sepal Length (cm)  Sepal Width (cm)  ...  Petal Width (cm)          Species\n",
              "Id                                       ...                                   \n",
              "51                7.0               3.2  ...               1.4  Iris-versicolor\n",
              "52                6.4               3.2  ...               1.5  Iris-versicolor\n",
              "53                6.9               3.1  ...               1.5  Iris-versicolor\n",
              "54                5.5               2.3  ...               1.3  Iris-versicolor\n",
              "55                6.5               2.8  ...               1.5  Iris-versicolor\n",
              "\n",
              "[5 rows x 5 columns]"
            ]
          },
          "metadata": {
            "tags": []
          },
          "execution_count": 11
        }
      ]
    },
    {
      "cell_type": "code",
      "metadata": {
        "id": "tVAiaFq4qu4H",
        "colab_type": "code",
        "colab": {
          "base_uri": "https://localhost:8080/",
          "height": 475
        },
        "outputId": "d8bffe9e-09ef-4ba0-a982-9b0d20bab031"
      },
      "source": [
        "# Set the width and height of the figure\n",
        "plt.figure(figsize=(14,7))\n",
        "\n",
        "# Histograms for each species\n",
        "sns.distplot(a=iris_set_data['Petal Length (cm)'], label=\"Iris-setosa\", kde=False)\n",
        "sns.distplot(a=iris_ver_data['Petal Length (cm)'], label=\"Iris-versicolor\", kde=False)\n",
        "sns.distplot(a=iris_vir_data['Petal Length (cm)'], label=\"Iris-virginica\", kde=False)\n",
        "\n",
        "# Add title\n",
        "plt.title(\"Histogram of Petal Lengths, by Species\")\n",
        "\n",
        "# Force legend to appear\n",
        "plt.legend()"
      ],
      "execution_count": 12,
      "outputs": [
        {
          "output_type": "execute_result",
          "data": {
            "text/plain": [
              "<matplotlib.legend.Legend at 0x7f290fb1eb00>"
            ]
          },
          "metadata": {
            "tags": []
          },
          "execution_count": 12
        },
        {
          "output_type": "display_data",
          "data": {
            "image/png": "[encoded data removed]",
            "text/plain": [
              "<Figure size 1008x504 with 1 Axes>"
            ]
          },
          "metadata": {
            "tags": [],
            "needs_background": "light"
          }
        }
      ]
    },
    {
      "cell_type": "code",
      "metadata": {
        "id": "vCR8eXJKrSE1",
        "colab_type": "code",
        "colab": {
          "base_uri": "https://localhost:8080/",
          "height": 461
        },
        "outputId": "97779dee-176d-4d2c-f9cc-14181bbc3644"
      },
      "source": [
        "# Set the width and height of the figure\n",
        "plt.figure(figsize=(14,7))\n",
        "\n",
        "# KDE plots for each species\n",
        "sns.kdeplot(data=iris_set_data['Petal Length (cm)'], label=\"Iris-setosa\", shade=True)\n",
        "sns.kdeplot(data=iris_ver_data['Petal Length (cm)'], label=\"Iris-versicolor\", shade=True)\n",
        "sns.kdeplot(data=iris_vir_data['Petal Length (cm)'], label=\"Iris-virginica\", shade=True)\n",
        "\n",
        "# Add title\n",
        "plt.title(\"Distribution of Petal Lengths, by Species\")"
      ],
      "execution_count": 14,
      "outputs": [
        {
          "output_type": "execute_result",
          "data": {
            "text/plain": [
              "Text(0.5, 1.0, 'Distribution of Petal Lengths, by Species')"
            ]
          },
          "metadata": {
            "tags": []
          },
          "execution_count": 14
        },
        {
          "output_type": "display_data",
          "data": {
            "image/png": "[encoded data removed]",
            "text/plain": [
              "<Figure size 1008x504 with 1 Axes>"
            ]
          },
          "metadata": {
            "tags": [],
            "needs_background": "light"
          }
        }
      ]
    },
    {
      "cell_type": "markdown",
      "metadata": {
        "id": "eb9YZaOQykqH",
        "colab_type": "text"
      },
      "source": [
        "#Exercise: Distributions\n"
      ]
    },
    {
      "cell_type": "code",
      "metadata": {
        "id": "EAhBUBjMyiMn",
        "colab_type": "code",
        "outputId": "78311603-43d8-4ad0-e8aa-c1a480d89d1a",
        "colab": {
          "base_uri": "https://localhost:8080/",
          "height": 33
        }
      },
      "source": [
        "import pandas as pd\n",
        "pd.plotting.register_matplotlib_converters()\n",
        "import matplotlib.pyplot as plt\n",
        "%matplotlib inline\n",
        "import seaborn as sns\n",
        "print(\"Setup Complete\")"
      ],
      "execution_count": 15,
      "outputs": [
        {
          "output_type": "stream",
          "text": [
            "Setup Complete\n"
          ],
          "name": "stdout"
        }
      ]
    },
    {
      "cell_type": "code",
      "metadata": {
        "id": "GlNSaHOV0apR",
        "colab_type": "code",
        "colab": {}
      },
      "source": [
        "# Paths of the files to read\n",
        "cancer_b_filepath = \"./drive/My Drive/kaggle/input/data-for-datavis/cancer_b.csv\"\n",
        "cancer_m_filepath = \"./drive/My Drive/kaggle/input/data-for-datavis/cancer_m.csv\"\n",
        "\n",
        "# Fill in the line below to read the (benign) file into a variable cancer_b_data\n",
        "cancer_b_data = pd.read_csv(cancer_b_filepath, index_col=\"Id\")\n",
        "\n",
        "# Fill in the line below to read the (malignant) file into a variable cancer_m_data\n",
        "cancer_m_data = pd.read_csv(cancer_m_filepath, index_col=\"Id\")"
      ],
      "execution_count": 0,
      "outputs": []
    },
    {
      "cell_type": "code",
      "metadata": {
        "id": "x8s1fTJZ5Luq",
        "colab_type": "code",
        "outputId": "946bb0f2-1330-46b7-ca76-be82f830edd3",
        "colab": {
          "base_uri": "https://localhost:8080/",
          "height": 280
        }
      },
      "source": [
        "# Print the first five rows of the (benign) data\n",
        "cancer_b_data.head() # Your code here"
      ],
      "execution_count": 18,
      "outputs": [
        {
          "output_type": "execute_result",
          "data": {
            "text/html": [
              "<div>\n",
              "<style scoped>\n",
              "    .dataframe tbody tr th:only-of-type {\n",
              "        vertical-align: middle;\n",
              "    }\n",
              "\n",
              "    .dataframe tbody tr th {\n",
              "        vertical-align: top;\n",
              "    }\n",
              "\n",
              "    .dataframe thead th {\n",
              "        text-align: right;\n",
              "    }\n",
              "</style>\n",
              "<table border=\"1\" class=\"dataframe\">\n",
              "  <thead>\n",
              "    <tr style=\"text-align: right;\">\n",
              "      <th></th>\n",
              "      <th>Diagnosis</th>\n",
              "      <th>Radius (mean)</th>\n",
              "      <th>Texture (mean)</th>\n",
              "      <th>Perimeter (mean)</th>\n",
              "      <th>Area (mean)</th>\n",
              "      <th>Smoothness (mean)</th>\n",
              "      <th>Compactness (mean)</th>\n",
              "      <th>Concavity (mean)</th>\n",
              "      <th>Concave points (mean)</th>\n",
              "      <th>Symmetry (mean)</th>\n",
              "      <th>Fractal dimension (mean)</th>\n",
              "      <th>Radius (se)</th>\n",
              "      <th>Texture (se)</th>\n",
              "      <th>Perimeter (se)</th>\n",
              "      <th>Area (se)</th>\n",
              "      <th>Smoothness (se)</th>\n",
              "      <th>Compactness (se)</th>\n",
              "      <th>Concavity (se)</th>\n",
              "      <th>Concave points (se)</th>\n",
              "      <th>Symmetry (se)</th>\n",
              "      <th>Fractal dimension (se)</th>\n",
              "      <th>Radius (worst)</th>\n",
              "      <th>Texture (worst)</th>\n",
              "      <th>Perimeter (worst)</th>\n",
              "      <th>Area (worst)</th>\n",
              "      <th>Smoothness (worst)</th>\n",
              "      <th>Compactness (worst)</th>\n",
              "      <th>Concavity (worst)</th>\n",
              "      <th>Concave points (worst)</th>\n",
              "      <th>Symmetry (worst)</th>\n",
              "      <th>Fractal dimension (worst)</th>\n",
              "    </tr>\n",
              "    <tr>\n",
              "      <th>Id</th>\n",
              "      <th></th>\n",
              "      <th></th>\n",
              "      <th></th>\n",
              "      <th></th>\n",
              "      <th></th>\n",
              "      <th></th>\n",
              "      <th></th>\n",
              "      <th></th>\n",
              "      <th></th>\n",
              "      <th></th>\n",
              "      <th></th>\n",
              "      <th></th>\n",
              "      <th></th>\n",
              "      <th></th>\n",
              "      <th></th>\n",
              "      <th></th>\n",
              "      <th></th>\n",
              "      <th></th>\n",
              "      <th></th>\n",
              "      <th></th>\n",
              "      <th></th>\n",
              "      <th></th>\n",
              "      <th></th>\n",
              "      <th></th>\n",
              "      <th></th>\n",
              "      <th></th>\n",
              "      <th></th>\n",
              "      <th></th>\n",
              "      <th></th>\n",
              "      <th></th>\n",
              "      <th></th>\n",
              "    </tr>\n",
              "  </thead>\n",
              "  <tbody>\n",
              "    <tr>\n",
              "      <th>8510426</th>\n",
              "      <td>B</td>\n",
              "      <td>13.540</td>\n",
              "      <td>14.36</td>\n",
              "      <td>87.46</td>\n",
              "      <td>566.3</td>\n",
              "      <td>0.09779</td>\n",
              "      <td>0.08129</td>\n",
              "      <td>0.06664</td>\n",
              "      <td>0.047810</td>\n",
              "      <td>0.1885</td>\n",
              "      <td>0.05766</td>\n",
              "      <td>0.2699</td>\n",
              "      <td>0.7886</td>\n",
              "      <td>2.058</td>\n",
              "      <td>23.560</td>\n",
              "      <td>0.008462</td>\n",
              "      <td>0.014600</td>\n",
              "      <td>0.02387</td>\n",
              "      <td>0.013150</td>\n",
              "      <td>0.01980</td>\n",
              "      <td>0.002300</td>\n",
              "      <td>15.110</td>\n",
              "      <td>19.26</td>\n",
              "      <td>99.70</td>\n",
              "      <td>711.2</td>\n",
              "      <td>0.14400</td>\n",
              "      <td>0.17730</td>\n",
              "      <td>0.23900</td>\n",
              "      <td>0.12880</td>\n",
              "      <td>0.2977</td>\n",
              "      <td>0.07259</td>\n",
              "    </tr>\n",
              "    <tr>\n",
              "      <th>8510653</th>\n",
              "      <td>B</td>\n",
              "      <td>13.080</td>\n",
              "      <td>15.71</td>\n",
              "      <td>85.63</td>\n",
              "      <td>520.0</td>\n",
              "      <td>0.10750</td>\n",
              "      <td>0.12700</td>\n",
              "      <td>0.04568</td>\n",
              "      <td>0.031100</td>\n",
              "      <td>0.1967</td>\n",
              "      <td>0.06811</td>\n",
              "      <td>0.1852</td>\n",
              "      <td>0.7477</td>\n",
              "      <td>1.383</td>\n",
              "      <td>14.670</td>\n",
              "      <td>0.004097</td>\n",
              "      <td>0.018980</td>\n",
              "      <td>0.01698</td>\n",
              "      <td>0.006490</td>\n",
              "      <td>0.01678</td>\n",
              "      <td>0.002425</td>\n",
              "      <td>14.500</td>\n",
              "      <td>20.49</td>\n",
              "      <td>96.09</td>\n",
              "      <td>630.5</td>\n",
              "      <td>0.13120</td>\n",
              "      <td>0.27760</td>\n",
              "      <td>0.18900</td>\n",
              "      <td>0.07283</td>\n",
              "      <td>0.3184</td>\n",
              "      <td>0.08183</td>\n",
              "    </tr>\n",
              "    <tr>\n",
              "      <th>8510824</th>\n",
              "      <td>B</td>\n",
              "      <td>9.504</td>\n",
              "      <td>12.44</td>\n",
              "      <td>60.34</td>\n",
              "      <td>273.9</td>\n",
              "      <td>0.10240</td>\n",
              "      <td>0.06492</td>\n",
              "      <td>0.02956</td>\n",
              "      <td>0.020760</td>\n",
              "      <td>0.1815</td>\n",
              "      <td>0.06905</td>\n",
              "      <td>0.2773</td>\n",
              "      <td>0.9768</td>\n",
              "      <td>1.909</td>\n",
              "      <td>15.700</td>\n",
              "      <td>0.009606</td>\n",
              "      <td>0.014320</td>\n",
              "      <td>0.01985</td>\n",
              "      <td>0.014210</td>\n",
              "      <td>0.02027</td>\n",
              "      <td>0.002968</td>\n",
              "      <td>10.230</td>\n",
              "      <td>15.66</td>\n",
              "      <td>65.13</td>\n",
              "      <td>314.9</td>\n",
              "      <td>0.13240</td>\n",
              "      <td>0.11480</td>\n",
              "      <td>0.08867</td>\n",
              "      <td>0.06227</td>\n",
              "      <td>0.2450</td>\n",
              "      <td>0.07773</td>\n",
              "    </tr>\n",
              "    <tr>\n",
              "      <th>854941</th>\n",
              "      <td>B</td>\n",
              "      <td>13.030</td>\n",
              "      <td>18.42</td>\n",
              "      <td>82.61</td>\n",
              "      <td>523.8</td>\n",
              "      <td>0.08983</td>\n",
              "      <td>0.03766</td>\n",
              "      <td>0.02562</td>\n",
              "      <td>0.029230</td>\n",
              "      <td>0.1467</td>\n",
              "      <td>0.05863</td>\n",
              "      <td>0.1839</td>\n",
              "      <td>2.3420</td>\n",
              "      <td>1.170</td>\n",
              "      <td>14.160</td>\n",
              "      <td>0.004352</td>\n",
              "      <td>0.004899</td>\n",
              "      <td>0.01343</td>\n",
              "      <td>0.011640</td>\n",
              "      <td>0.02671</td>\n",
              "      <td>0.001777</td>\n",
              "      <td>13.300</td>\n",
              "      <td>22.81</td>\n",
              "      <td>84.46</td>\n",
              "      <td>545.9</td>\n",
              "      <td>0.09701</td>\n",
              "      <td>0.04619</td>\n",
              "      <td>0.04833</td>\n",
              "      <td>0.05013</td>\n",
              "      <td>0.1987</td>\n",
              "      <td>0.06169</td>\n",
              "    </tr>\n",
              "    <tr>\n",
              "      <th>85713702</th>\n",
              "      <td>B</td>\n",
              "      <td>8.196</td>\n",
              "      <td>16.84</td>\n",
              "      <td>51.71</td>\n",
              "      <td>201.9</td>\n",
              "      <td>0.08600</td>\n",
              "      <td>0.05943</td>\n",
              "      <td>0.01588</td>\n",
              "      <td>0.005917</td>\n",
              "      <td>0.1769</td>\n",
              "      <td>0.06503</td>\n",
              "      <td>0.1563</td>\n",
              "      <td>0.9567</td>\n",
              "      <td>1.094</td>\n",
              "      <td>8.205</td>\n",
              "      <td>0.008968</td>\n",
              "      <td>0.016460</td>\n",
              "      <td>0.01588</td>\n",
              "      <td>0.005917</td>\n",
              "      <td>0.02574</td>\n",
              "      <td>0.002582</td>\n",
              "      <td>8.964</td>\n",
              "      <td>21.96</td>\n",
              "      <td>57.26</td>\n",
              "      <td>242.2</td>\n",
              "      <td>0.12970</td>\n",
              "      <td>0.13570</td>\n",
              "      <td>0.06880</td>\n",
              "      <td>0.02564</td>\n",
              "      <td>0.3105</td>\n",
              "      <td>0.07409</td>\n",
              "    </tr>\n",
              "  </tbody>\n",
              "</table>\n",
              "</div>"
            ],
            "text/plain": [
              "         Diagnosis  Radius (mean)  ...  Symmetry (worst)  Fractal dimension (worst)\n",
              "Id                                 ...                                             \n",
              "8510426          B         13.540  ...            0.2977                    0.07259\n",
              "8510653          B         13.080  ...            0.3184                    0.08183\n",
              "8510824          B          9.504  ...            0.2450                    0.07773\n",
              "854941           B         13.030  ...            0.1987                    0.06169\n",
              "85713702         B          8.196  ...            0.3105                    0.07409\n",
              "\n",
              "[5 rows x 31 columns]"
            ]
          },
          "metadata": {
            "tags": []
          },
          "execution_count": 18
        }
      ]
    },
    {
      "cell_type": "markdown",
      "metadata": {
        "id": "YLKlqAcl5V0_",
        "colab_type": "text"
      },
      "source": [
        "##Step 2: Review the data"
      ]
    },
    {
      "cell_type": "code",
      "metadata": {
        "id": "TdHqWbz-yqjX",
        "colab_type": "code",
        "outputId": "af1097f3-921d-46c0-e971-ca05d2c31928",
        "colab": {
          "base_uri": "https://localhost:8080/",
          "height": 280
        }
      },
      "source": [
        "# Print the first five rows of the (malignant) data\n",
        "cancer_m_data.head() # Your code here"
      ],
      "execution_count": 19,
      "outputs": [
        {
          "output_type": "execute_result",
          "data": {
            "text/html": [
              "<div>\n",
              "<style scoped>\n",
              "    .dataframe tbody tr th:only-of-type {\n",
              "        vertical-align: middle;\n",
              "    }\n",
              "\n",
              "    .dataframe tbody tr th {\n",
              "        vertical-align: top;\n",
              "    }\n",
              "\n",
              "    .dataframe thead th {\n",
              "        text-align: right;\n",
              "    }\n",
              "</style>\n",
              "<table border=\"1\" class=\"dataframe\">\n",
              "  <thead>\n",
              "    <tr style=\"text-align: right;\">\n",
              "      <th></th>\n",
              "      <th>Diagnosis</th>\n",
              "      <th>Radius (mean)</th>\n",
              "      <th>Texture (mean)</th>\n",
              "      <th>Perimeter (mean)</th>\n",
              "      <th>Area (mean)</th>\n",
              "      <th>Smoothness (mean)</th>\n",
              "      <th>Compactness (mean)</th>\n",
              "      <th>Concavity (mean)</th>\n",
              "      <th>Concave points (mean)</th>\n",
              "      <th>Symmetry (mean)</th>\n",
              "      <th>Fractal dimension (mean)</th>\n",
              "      <th>Radius (se)</th>\n",
              "      <th>Texture (se)</th>\n",
              "      <th>Perimeter (se)</th>\n",
              "      <th>Area (se)</th>\n",
              "      <th>Smoothness (se)</th>\n",
              "      <th>Compactness (se)</th>\n",
              "      <th>Concavity (se)</th>\n",
              "      <th>Concave points (se)</th>\n",
              "      <th>Symmetry (se)</th>\n",
              "      <th>Fractal dimension (se)</th>\n",
              "      <th>Radius (worst)</th>\n",
              "      <th>Texture (worst)</th>\n",
              "      <th>Perimeter (worst)</th>\n",
              "      <th>Area (worst)</th>\n",
              "      <th>Smoothness (worst)</th>\n",
              "      <th>Compactness (worst)</th>\n",
              "      <th>Concavity (worst)</th>\n",
              "      <th>Concave points (worst)</th>\n",
              "      <th>Symmetry (worst)</th>\n",
              "      <th>Fractal dimension (worst)</th>\n",
              "    </tr>\n",
              "    <tr>\n",
              "      <th>Id</th>\n",
              "      <th></th>\n",
              "      <th></th>\n",
              "      <th></th>\n",
              "      <th></th>\n",
              "      <th></th>\n",
              "      <th></th>\n",
              "      <th></th>\n",
              "      <th></th>\n",
              "      <th></th>\n",
              "      <th></th>\n",
              "      <th></th>\n",
              "      <th></th>\n",
              "      <th></th>\n",
              "      <th></th>\n",
              "      <th></th>\n",
              "      <th></th>\n",
              "      <th></th>\n",
              "      <th></th>\n",
              "      <th></th>\n",
              "      <th></th>\n",
              "      <th></th>\n",
              "      <th></th>\n",
              "      <th></th>\n",
              "      <th></th>\n",
              "      <th></th>\n",
              "      <th></th>\n",
              "      <th></th>\n",
              "      <th></th>\n",
              "      <th></th>\n",
              "      <th></th>\n",
              "      <th></th>\n",
              "    </tr>\n",
              "  </thead>\n",
              "  <tbody>\n",
              "    <tr>\n",
              "      <th>842302</th>\n",
              "      <td>M</td>\n",
              "      <td>17.99</td>\n",
              "      <td>10.38</td>\n",
              "      <td>122.80</td>\n",
              "      <td>1001.0</td>\n",
              "      <td>0.11840</td>\n",
              "      <td>0.27760</td>\n",
              "      <td>0.3001</td>\n",
              "      <td>0.14710</td>\n",
              "      <td>0.2419</td>\n",
              "      <td>0.07871</td>\n",
              "      <td>1.0950</td>\n",
              "      <td>0.9053</td>\n",
              "      <td>8.589</td>\n",
              "      <td>153.40</td>\n",
              "      <td>0.006399</td>\n",
              "      <td>0.04904</td>\n",
              "      <td>0.05373</td>\n",
              "      <td>0.01587</td>\n",
              "      <td>0.03003</td>\n",
              "      <td>0.006193</td>\n",
              "      <td>25.38</td>\n",
              "      <td>17.33</td>\n",
              "      <td>184.60</td>\n",
              "      <td>2019.0</td>\n",
              "      <td>0.1622</td>\n",
              "      <td>0.6656</td>\n",
              "      <td>0.7119</td>\n",
              "      <td>0.2654</td>\n",
              "      <td>0.4601</td>\n",
              "      <td>0.11890</td>\n",
              "    </tr>\n",
              "    <tr>\n",
              "      <th>842517</th>\n",
              "      <td>M</td>\n",
              "      <td>20.57</td>\n",
              "      <td>17.77</td>\n",
              "      <td>132.90</td>\n",
              "      <td>1326.0</td>\n",
              "      <td>0.08474</td>\n",
              "      <td>0.07864</td>\n",
              "      <td>0.0869</td>\n",
              "      <td>0.07017</td>\n",
              "      <td>0.1812</td>\n",
              "      <td>0.05667</td>\n",
              "      <td>0.5435</td>\n",
              "      <td>0.7339</td>\n",
              "      <td>3.398</td>\n",
              "      <td>74.08</td>\n",
              "      <td>0.005225</td>\n",
              "      <td>0.01308</td>\n",
              "      <td>0.01860</td>\n",
              "      <td>0.01340</td>\n",
              "      <td>0.01389</td>\n",
              "      <td>0.003532</td>\n",
              "      <td>24.99</td>\n",
              "      <td>23.41</td>\n",
              "      <td>158.80</td>\n",
              "      <td>1956.0</td>\n",
              "      <td>0.1238</td>\n",
              "      <td>0.1866</td>\n",
              "      <td>0.2416</td>\n",
              "      <td>0.1860</td>\n",
              "      <td>0.2750</td>\n",
              "      <td>0.08902</td>\n",
              "    </tr>\n",
              "    <tr>\n",
              "      <th>84300903</th>\n",
              "      <td>M</td>\n",
              "      <td>19.69</td>\n",
              "      <td>21.25</td>\n",
              "      <td>130.00</td>\n",
              "      <td>1203.0</td>\n",
              "      <td>0.10960</td>\n",
              "      <td>0.15990</td>\n",
              "      <td>0.1974</td>\n",
              "      <td>0.12790</td>\n",
              "      <td>0.2069</td>\n",
              "      <td>0.05999</td>\n",
              "      <td>0.7456</td>\n",
              "      <td>0.7869</td>\n",
              "      <td>4.585</td>\n",
              "      <td>94.03</td>\n",
              "      <td>0.006150</td>\n",
              "      <td>0.04006</td>\n",
              "      <td>0.03832</td>\n",
              "      <td>0.02058</td>\n",
              "      <td>0.02250</td>\n",
              "      <td>0.004571</td>\n",
              "      <td>23.57</td>\n",
              "      <td>25.53</td>\n",
              "      <td>152.50</td>\n",
              "      <td>1709.0</td>\n",
              "      <td>0.1444</td>\n",
              "      <td>0.4245</td>\n",
              "      <td>0.4504</td>\n",
              "      <td>0.2430</td>\n",
              "      <td>0.3613</td>\n",
              "      <td>0.08758</td>\n",
              "    </tr>\n",
              "    <tr>\n",
              "      <th>84348301</th>\n",
              "      <td>M</td>\n",
              "      <td>11.42</td>\n",
              "      <td>20.38</td>\n",
              "      <td>77.58</td>\n",
              "      <td>386.1</td>\n",
              "      <td>0.14250</td>\n",
              "      <td>0.28390</td>\n",
              "      <td>0.2414</td>\n",
              "      <td>0.10520</td>\n",
              "      <td>0.2597</td>\n",
              "      <td>0.09744</td>\n",
              "      <td>0.4956</td>\n",
              "      <td>1.1560</td>\n",
              "      <td>3.445</td>\n",
              "      <td>27.23</td>\n",
              "      <td>0.009110</td>\n",
              "      <td>0.07458</td>\n",
              "      <td>0.05661</td>\n",
              "      <td>0.01867</td>\n",
              "      <td>0.05963</td>\n",
              "      <td>0.009208</td>\n",
              "      <td>14.91</td>\n",
              "      <td>26.50</td>\n",
              "      <td>98.87</td>\n",
              "      <td>567.7</td>\n",
              "      <td>0.2098</td>\n",
              "      <td>0.8663</td>\n",
              "      <td>0.6869</td>\n",
              "      <td>0.2575</td>\n",
              "      <td>0.6638</td>\n",
              "      <td>0.17300</td>\n",
              "    </tr>\n",
              "    <tr>\n",
              "      <th>84358402</th>\n",
              "      <td>M</td>\n",
              "      <td>20.29</td>\n",
              "      <td>14.34</td>\n",
              "      <td>135.10</td>\n",
              "      <td>1297.0</td>\n",
              "      <td>0.10030</td>\n",
              "      <td>0.13280</td>\n",
              "      <td>0.1980</td>\n",
              "      <td>0.10430</td>\n",
              "      <td>0.1809</td>\n",
              "      <td>0.05883</td>\n",
              "      <td>0.7572</td>\n",
              "      <td>0.7813</td>\n",
              "      <td>5.438</td>\n",
              "      <td>94.44</td>\n",
              "      <td>0.011490</td>\n",
              "      <td>0.02461</td>\n",
              "      <td>0.05688</td>\n",
              "      <td>0.01885</td>\n",
              "      <td>0.01756</td>\n",
              "      <td>0.005115</td>\n",
              "      <td>22.54</td>\n",
              "      <td>16.67</td>\n",
              "      <td>152.20</td>\n",
              "      <td>1575.0</td>\n",
              "      <td>0.1374</td>\n",
              "      <td>0.2050</td>\n",
              "      <td>0.4000</td>\n",
              "      <td>0.1625</td>\n",
              "      <td>0.2364</td>\n",
              "      <td>0.07678</td>\n",
              "    </tr>\n",
              "  </tbody>\n",
              "</table>\n",
              "</div>"
            ],
            "text/plain": [
              "         Diagnosis  Radius (mean)  ...  Symmetry (worst)  Fractal dimension (worst)\n",
              "Id                                 ...                                             \n",
              "842302           M          17.99  ...            0.4601                    0.11890\n",
              "842517           M          20.57  ...            0.2750                    0.08902\n",
              "84300903         M          19.69  ...            0.3613                    0.08758\n",
              "84348301         M          11.42  ...            0.6638                    0.17300\n",
              "84358402         M          20.29  ...            0.2364                    0.07678\n",
              "\n",
              "[5 rows x 31 columns]"
            ]
          },
          "metadata": {
            "tags": []
          },
          "execution_count": 19
        }
      ]
    },
    {
      "cell_type": "code",
      "metadata": {
        "id": "Fy56r27d5fqd",
        "colab_type": "code",
        "colab": {}
      },
      "source": [
        "# Fill in the line below: In the first five rows of the data for benign tumors, what is the\n",
        "# largest value for 'Perimeter (mean)'?\n",
        "max_perim = cancer_b_data.head(5)['Perimeter (mean)'].max()  #.sort_values().tail(5)\n",
        "\n",
        "\n",
        "# Fill in the line below: What is the value for 'Radius (mean)' for the tumor with Id 842517?\n",
        "mean_radius = cancer_m_data.loc[842517,'Radius (mean)']"
      ],
      "execution_count": 0,
      "outputs": []
    },
    {
      "cell_type": "markdown",
      "metadata": {
        "id": "EWYWinHD1Fum",
        "colab_type": "text"
      },
      "source": [
        "## Step 3: Investigating differences\n",
        "\n",
        "#### Part A\n",
        "\n",
        "Use the code cell below to create two histograms that show the distribution in values for `'Area (mean)'` for both benign and malignant tumors.  (_To permit easy comparison, create a single figure containing both histograms in the code cell below._)"
      ]
    },
    {
      "cell_type": "code",
      "metadata": {
        "id": "aV0pgfgdy5uh",
        "colab_type": "code",
        "outputId": "b9d96a45-068f-4b03-ded1-b66d86d6b6bc",
        "colab": {
          "base_uri": "https://localhost:8080/",
          "height": 459
        }
      },
      "source": [
        "# Set the width and height of the figure\n",
        "plt.figure(figsize=(14,7))\n",
        "\n",
        "# Histograms for benign and maligant tumors\n",
        "sns.distplot(a=cancer_b_data['Area (mean)'], kde=False, label = 'benign tumors')  # Your code here (benign tumors)\n",
        "sns.distplot(a=cancer_m_data['Area (mean)'], kde=False, label = 'malignant tumors')  # Your code here (malignant tumors)\n",
        "\n",
        "# Force legend to appear\n",
        "plt.legend()"
      ],
      "execution_count": 40,
      "outputs": [
        {
          "output_type": "execute_result",
          "data": {
            "text/plain": [
              "<matplotlib.legend.Legend at 0x7f290effb320>"
            ]
          },
          "metadata": {
            "tags": []
          },
          "execution_count": 40
        },
        {
          "output_type": "display_data",
          "data": {
            "image/png": "[encoded data removed]",
            "text/plain": [
              "<Figure size 1008x504 with 1 Axes>"
            ]
          },
          "metadata": {
            "tags": [],
            "needs_background": "light"
          }
        }
      ]
    },
    {
      "cell_type": "markdown",
      "metadata": {
        "id": "2rBQZlpc1dp_",
        "colab_type": "text"
      },
      "source": [
        "#### Part B\n",
        "\n",
        "A researcher approaches you for help with identifying how the `'Area (mean)'` column can be used to understand the difference between benign and malignant tumors.  Based on the histograms above, \n",
        "- Do malignant tumors have higher or lower values for `'Area (mean)'` (relative to benign tumors), on average?\n",
        "- Which tumor type seems to have a larger range of potential values?"
      ]
    },
    {
      "cell_type": "markdown",
      "metadata": {
        "id": "gjdpmVD_7SYW",
        "colab_type": "text"
      },
      "source": [
        "Malignant tumors have higher values for 'Area (mean)', on average. Malignant tumors have a larger range of potential values."
      ]
    },
    {
      "cell_type": "markdown",
      "metadata": {
        "id": "SUtbET8y2I60",
        "colab_type": "text"
      },
      "source": [
        "## Step 4: A very useful column\n",
        "\n",
        "#### Part A\n",
        "\n",
        "Use the code cell below to create two KDE plots that show the distribution in values for `'Radius (worst)'` for both benign and malignant tumors.  (_To permit easy comparison, create a single figure containing both KDE plots in the code cell below._)"
      ]
    },
    {
      "cell_type": "code",
      "metadata": {
        "id": "IkL8Oy-r3CaN",
        "colab_type": "code",
        "outputId": "38ae064d-a091-4bcb-f2b0-e5b301e5f639",
        "colab": {
          "base_uri": "https://localhost:8080/",
          "height": 445
        }
      },
      "source": [
        "plt.figure(figsize=(14,7))\n",
        "\n",
        "\n",
        "# KDE plots for benign and malignant tumors\n",
        "sns.kdeplot(data= cancer_b_data['Radius (worst)'], label = 'benign tumors', shade=True) # Your code here (benign tumors)\n",
        "sns.kdeplot(data= cancer_m_data['Radius (worst)'], label = 'malignant tumors', shade=True) # Your code here (malignant tumors)\n",
        "\n",
        "# Force legend to appear\n",
        "plt.legend()"
      ],
      "execution_count": 42,
      "outputs": [
        {
          "output_type": "execute_result",
          "data": {
            "text/plain": [
              "<matplotlib.legend.Legend at 0x7f290f643da0>"
            ]
          },
          "metadata": {
            "tags": []
          },
          "execution_count": 42
        },
        {
          "output_type": "display_data",
          "data": {
            "image/png": "[encoded data removed]",
            "text/plain": [
              "<Figure size 1008x504 with 1 Axes>"
            ]
          },
          "metadata": {
            "tags": [],
            "needs_background": "light"
          }
        }
      ]
    },
    {
      "cell_type": "markdown",
      "metadata": {
        "id": "yFK9brcc7y-q",
        "colab_type": "text"
      },
      "source": [
        "#### Part B\n",
        "\n",
        "A hospital has recently started using an algorithm that can diagnose tumors with high accuracy.  Given a tumor with a value for `'Radius (worst)'` of 25, do you think the algorithm is more likely to classify the tumor as benign or malignant?"
      ]
    },
    {
      "cell_type": "markdown",
      "metadata": {
        "id": "RhpDYPko7-Sn",
        "colab_type": "text"
      },
      "source": [
        "Solution: The algorithm is more likely to classify the tumor as malignant. This is because the curve for malignant tumors is much higher than the curve for benign tumors around a value of 25 -- and an algorithm that gets high accuracy is likely to make decisions based on this pattern in the data."
      ]
    }
  ]
}