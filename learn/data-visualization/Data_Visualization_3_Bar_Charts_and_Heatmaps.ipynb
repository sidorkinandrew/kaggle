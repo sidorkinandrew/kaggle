{
  "nbformat": 4,
  "nbformat_minor": 0,
  "metadata": {
    "colab": {
      "name": "Data-Visualization-#3-Bar Charts and Heatmaps.ipynb",
      "provenance": [],
      "collapsed_sections": []
    },
    "kernelspec": {
      "name": "python3",
      "display_name": "Python 3"
    }
  },
  "cells": [
    {
      "cell_type": "code",
      "metadata": {
        "id": "N_HAFuX6xWhc",
        "colab_type": "code",
        "outputId": "19c4088b-e5db-4914-ce07-1dd071291043",
        "colab": {
          "base_uri": "https://localhost:8080/",
          "height": 87
        }
      },
      "source": [
        "import pandas as pd\n",
        "pd.plotting.register_matplotlib_converters()\n",
        "import matplotlib.pyplot as plt\n",
        "%matplotlib inline\n",
        "import seaborn as sns\n",
        "print(\"Setup Complete\")"
      ],
      "execution_count": 1,
      "outputs": [
        {
          "output_type": "stream",
          "text": [
            "Setup Complete\n"
          ],
          "name": "stdout"
        },
        {
          "output_type": "stream",
          "text": [
            "/usr/local/lib/python3.6/dist-packages/statsmodels/tools/_testing.py:19: FutureWarning: pandas.util.testing is deprecated. Use the functions in the public API at pandas.testing instead.\n",
            "  import pandas.util.testing as tm\n"
          ],
          "name": "stderr"
        }
      ]
    },
    {
      "cell_type": "code",
      "metadata": {
        "id": "N3Tp0FquxXp7",
        "colab_type": "code",
        "colab": {}
      },
      "source": [
        "# Path of the file to read\n",
        "dataset_filepath = \"./drive/My Drive/kaggle/input/data-for-datavis/flight_delays.csv\"\n",
        "\n",
        "# Read the file into a variable fifa_data\n",
        "flight_data = pd.read_csv(dataset_filepath, index_col=\"Month\", parse_dates=True)"
      ],
      "execution_count": 0,
      "outputs": []
    },
    {
      "cell_type": "code",
      "metadata": {
        "id": "Uce8Mbn-xdje",
        "colab_type": "code",
        "outputId": "a03e08aa-25cb-478d-acfe-5095e4c850db",
        "colab": {
          "base_uri": "https://localhost:8080/",
          "height": 226
        }
      },
      "source": [
        "# Print the first 5 rows of the data\n",
        "flight_data.head()"
      ],
      "execution_count": 4,
      "outputs": [
        {
          "output_type": "execute_result",
          "data": {
            "text/html": [
              "<div>\n",
              "<style scoped>\n",
              "    .dataframe tbody tr th:only-of-type {\n",
              "        vertical-align: middle;\n",
              "    }\n",
              "\n",
              "    .dataframe tbody tr th {\n",
              "        vertical-align: top;\n",
              "    }\n",
              "\n",
              "    .dataframe thead th {\n",
              "        text-align: right;\n",
              "    }\n",
              "</style>\n",
              "<table border=\"1\" class=\"dataframe\">\n",
              "  <thead>\n",
              "    <tr style=\"text-align: right;\">\n",
              "      <th></th>\n",
              "      <th>AA</th>\n",
              "      <th>AS</th>\n",
              "      <th>B6</th>\n",
              "      <th>DL</th>\n",
              "      <th>EV</th>\n",
              "      <th>F9</th>\n",
              "      <th>HA</th>\n",
              "      <th>MQ</th>\n",
              "      <th>NK</th>\n",
              "      <th>OO</th>\n",
              "      <th>UA</th>\n",
              "      <th>US</th>\n",
              "      <th>VX</th>\n",
              "      <th>WN</th>\n",
              "    </tr>\n",
              "    <tr>\n",
              "      <th>Month</th>\n",
              "      <th></th>\n",
              "      <th></th>\n",
              "      <th></th>\n",
              "      <th></th>\n",
              "      <th></th>\n",
              "      <th></th>\n",
              "      <th></th>\n",
              "      <th></th>\n",
              "      <th></th>\n",
              "      <th></th>\n",
              "      <th></th>\n",
              "      <th></th>\n",
              "      <th></th>\n",
              "      <th></th>\n",
              "    </tr>\n",
              "  </thead>\n",
              "  <tbody>\n",
              "    <tr>\n",
              "      <th>1</th>\n",
              "      <td>6.955843</td>\n",
              "      <td>-0.320888</td>\n",
              "      <td>7.347281</td>\n",
              "      <td>-2.043847</td>\n",
              "      <td>8.537497</td>\n",
              "      <td>18.357238</td>\n",
              "      <td>3.512640</td>\n",
              "      <td>18.164974</td>\n",
              "      <td>11.398054</td>\n",
              "      <td>10.889894</td>\n",
              "      <td>6.352729</td>\n",
              "      <td>3.107457</td>\n",
              "      <td>1.420702</td>\n",
              "      <td>3.389466</td>\n",
              "    </tr>\n",
              "    <tr>\n",
              "      <th>2</th>\n",
              "      <td>7.530204</td>\n",
              "      <td>-0.782923</td>\n",
              "      <td>18.657673</td>\n",
              "      <td>5.614745</td>\n",
              "      <td>10.417236</td>\n",
              "      <td>27.424179</td>\n",
              "      <td>6.029967</td>\n",
              "      <td>21.301627</td>\n",
              "      <td>16.474466</td>\n",
              "      <td>9.588895</td>\n",
              "      <td>7.260662</td>\n",
              "      <td>7.114455</td>\n",
              "      <td>7.784410</td>\n",
              "      <td>3.501363</td>\n",
              "    </tr>\n",
              "    <tr>\n",
              "      <th>3</th>\n",
              "      <td>6.693587</td>\n",
              "      <td>-0.544731</td>\n",
              "      <td>10.741317</td>\n",
              "      <td>2.077965</td>\n",
              "      <td>6.730101</td>\n",
              "      <td>20.074855</td>\n",
              "      <td>3.468383</td>\n",
              "      <td>11.018418</td>\n",
              "      <td>10.039118</td>\n",
              "      <td>3.181693</td>\n",
              "      <td>4.892212</td>\n",
              "      <td>3.330787</td>\n",
              "      <td>5.348207</td>\n",
              "      <td>3.263341</td>\n",
              "    </tr>\n",
              "    <tr>\n",
              "      <th>4</th>\n",
              "      <td>4.931778</td>\n",
              "      <td>-3.009003</td>\n",
              "      <td>2.780105</td>\n",
              "      <td>0.083343</td>\n",
              "      <td>4.821253</td>\n",
              "      <td>12.640440</td>\n",
              "      <td>0.011022</td>\n",
              "      <td>5.131228</td>\n",
              "      <td>8.766224</td>\n",
              "      <td>3.223796</td>\n",
              "      <td>4.376092</td>\n",
              "      <td>2.660290</td>\n",
              "      <td>0.995507</td>\n",
              "      <td>2.996399</td>\n",
              "    </tr>\n",
              "    <tr>\n",
              "      <th>5</th>\n",
              "      <td>5.173878</td>\n",
              "      <td>-1.716398</td>\n",
              "      <td>-0.709019</td>\n",
              "      <td>0.149333</td>\n",
              "      <td>7.724290</td>\n",
              "      <td>13.007554</td>\n",
              "      <td>0.826426</td>\n",
              "      <td>5.466790</td>\n",
              "      <td>22.397347</td>\n",
              "      <td>4.141162</td>\n",
              "      <td>6.827695</td>\n",
              "      <td>0.681605</td>\n",
              "      <td>7.102021</td>\n",
              "      <td>5.680777</td>\n",
              "    </tr>\n",
              "  </tbody>\n",
              "</table>\n",
              "</div>"
            ],
            "text/plain": [
              "             AA        AS         B6  ...        US        VX        WN\n",
              "Month                                 ...                              \n",
              "1      6.955843 -0.320888   7.347281  ...  3.107457  1.420702  3.389466\n",
              "2      7.530204 -0.782923  18.657673  ...  7.114455  7.784410  3.501363\n",
              "3      6.693587 -0.544731  10.741317  ...  3.330787  5.348207  3.263341\n",
              "4      4.931778 -3.009003   2.780105  ...  2.660290  0.995507  2.996399\n",
              "5      5.173878 -1.716398  -0.709019  ...  0.681605  7.102021  5.680777\n",
              "\n",
              "[5 rows x 14 columns]"
            ]
          },
          "metadata": {
            "tags": []
          },
          "execution_count": 4
        }
      ]
    },
    {
      "cell_type": "code",
      "metadata": {
        "id": "GCqLjEXQyE_d",
        "colab_type": "code",
        "outputId": "6d152725-6857-41dd-957c-aff048208d2d",
        "colab": {
          "base_uri": "https://localhost:8080/",
          "height": 435
        }
      },
      "source": [
        "# Print the data\n",
        "flight_data"
      ],
      "execution_count": 5,
      "outputs": [
        {
          "output_type": "execute_result",
          "data": {
            "text/html": [
              "<div>\n",
              "<style scoped>\n",
              "    .dataframe tbody tr th:only-of-type {\n",
              "        vertical-align: middle;\n",
              "    }\n",
              "\n",
              "    .dataframe tbody tr th {\n",
              "        vertical-align: top;\n",
              "    }\n",
              "\n",
              "    .dataframe thead th {\n",
              "        text-align: right;\n",
              "    }\n",
              "</style>\n",
              "<table border=\"1\" class=\"dataframe\">\n",
              "  <thead>\n",
              "    <tr style=\"text-align: right;\">\n",
              "      <th></th>\n",
              "      <th>AA</th>\n",
              "      <th>AS</th>\n",
              "      <th>B6</th>\n",
              "      <th>DL</th>\n",
              "      <th>EV</th>\n",
              "      <th>F9</th>\n",
              "      <th>HA</th>\n",
              "      <th>MQ</th>\n",
              "      <th>NK</th>\n",
              "      <th>OO</th>\n",
              "      <th>UA</th>\n",
              "      <th>US</th>\n",
              "      <th>VX</th>\n",
              "      <th>WN</th>\n",
              "    </tr>\n",
              "    <tr>\n",
              "      <th>Month</th>\n",
              "      <th></th>\n",
              "      <th></th>\n",
              "      <th></th>\n",
              "      <th></th>\n",
              "      <th></th>\n",
              "      <th></th>\n",
              "      <th></th>\n",
              "      <th></th>\n",
              "      <th></th>\n",
              "      <th></th>\n",
              "      <th></th>\n",
              "      <th></th>\n",
              "      <th></th>\n",
              "      <th></th>\n",
              "    </tr>\n",
              "  </thead>\n",
              "  <tbody>\n",
              "    <tr>\n",
              "      <th>1</th>\n",
              "      <td>6.955843</td>\n",
              "      <td>-0.320888</td>\n",
              "      <td>7.347281</td>\n",
              "      <td>-2.043847</td>\n",
              "      <td>8.537497</td>\n",
              "      <td>18.357238</td>\n",
              "      <td>3.512640</td>\n",
              "      <td>18.164974</td>\n",
              "      <td>11.398054</td>\n",
              "      <td>10.889894</td>\n",
              "      <td>6.352729</td>\n",
              "      <td>3.107457</td>\n",
              "      <td>1.420702</td>\n",
              "      <td>3.389466</td>\n",
              "    </tr>\n",
              "    <tr>\n",
              "      <th>2</th>\n",
              "      <td>7.530204</td>\n",
              "      <td>-0.782923</td>\n",
              "      <td>18.657673</td>\n",
              "      <td>5.614745</td>\n",
              "      <td>10.417236</td>\n",
              "      <td>27.424179</td>\n",
              "      <td>6.029967</td>\n",
              "      <td>21.301627</td>\n",
              "      <td>16.474466</td>\n",
              "      <td>9.588895</td>\n",
              "      <td>7.260662</td>\n",
              "      <td>7.114455</td>\n",
              "      <td>7.784410</td>\n",
              "      <td>3.501363</td>\n",
              "    </tr>\n",
              "    <tr>\n",
              "      <th>3</th>\n",
              "      <td>6.693587</td>\n",
              "      <td>-0.544731</td>\n",
              "      <td>10.741317</td>\n",
              "      <td>2.077965</td>\n",
              "      <td>6.730101</td>\n",
              "      <td>20.074855</td>\n",
              "      <td>3.468383</td>\n",
              "      <td>11.018418</td>\n",
              "      <td>10.039118</td>\n",
              "      <td>3.181693</td>\n",
              "      <td>4.892212</td>\n",
              "      <td>3.330787</td>\n",
              "      <td>5.348207</td>\n",
              "      <td>3.263341</td>\n",
              "    </tr>\n",
              "    <tr>\n",
              "      <th>4</th>\n",
              "      <td>4.931778</td>\n",
              "      <td>-3.009003</td>\n",
              "      <td>2.780105</td>\n",
              "      <td>0.083343</td>\n",
              "      <td>4.821253</td>\n",
              "      <td>12.640440</td>\n",
              "      <td>0.011022</td>\n",
              "      <td>5.131228</td>\n",
              "      <td>8.766224</td>\n",
              "      <td>3.223796</td>\n",
              "      <td>4.376092</td>\n",
              "      <td>2.660290</td>\n",
              "      <td>0.995507</td>\n",
              "      <td>2.996399</td>\n",
              "    </tr>\n",
              "    <tr>\n",
              "      <th>5</th>\n",
              "      <td>5.173878</td>\n",
              "      <td>-1.716398</td>\n",
              "      <td>-0.709019</td>\n",
              "      <td>0.149333</td>\n",
              "      <td>7.724290</td>\n",
              "      <td>13.007554</td>\n",
              "      <td>0.826426</td>\n",
              "      <td>5.466790</td>\n",
              "      <td>22.397347</td>\n",
              "      <td>4.141162</td>\n",
              "      <td>6.827695</td>\n",
              "      <td>0.681605</td>\n",
              "      <td>7.102021</td>\n",
              "      <td>5.680777</td>\n",
              "    </tr>\n",
              "    <tr>\n",
              "      <th>6</th>\n",
              "      <td>8.191017</td>\n",
              "      <td>-0.220621</td>\n",
              "      <td>5.047155</td>\n",
              "      <td>4.419594</td>\n",
              "      <td>13.952793</td>\n",
              "      <td>19.712951</td>\n",
              "      <td>0.882786</td>\n",
              "      <td>9.639323</td>\n",
              "      <td>35.561501</td>\n",
              "      <td>8.338477</td>\n",
              "      <td>16.932663</td>\n",
              "      <td>5.766296</td>\n",
              "      <td>5.779415</td>\n",
              "      <td>10.743462</td>\n",
              "    </tr>\n",
              "    <tr>\n",
              "      <th>7</th>\n",
              "      <td>3.870440</td>\n",
              "      <td>0.377408</td>\n",
              "      <td>5.841454</td>\n",
              "      <td>1.204862</td>\n",
              "      <td>6.926421</td>\n",
              "      <td>14.464543</td>\n",
              "      <td>2.001586</td>\n",
              "      <td>3.980289</td>\n",
              "      <td>14.352382</td>\n",
              "      <td>6.790333</td>\n",
              "      <td>10.262551</td>\n",
              "      <td>NaN</td>\n",
              "      <td>7.135773</td>\n",
              "      <td>10.504942</td>\n",
              "    </tr>\n",
              "    <tr>\n",
              "      <th>8</th>\n",
              "      <td>3.193907</td>\n",
              "      <td>2.503899</td>\n",
              "      <td>9.280950</td>\n",
              "      <td>0.653114</td>\n",
              "      <td>5.154422</td>\n",
              "      <td>9.175737</td>\n",
              "      <td>7.448029</td>\n",
              "      <td>1.896565</td>\n",
              "      <td>20.519018</td>\n",
              "      <td>5.606689</td>\n",
              "      <td>5.014041</td>\n",
              "      <td>NaN</td>\n",
              "      <td>5.106221</td>\n",
              "      <td>5.532108</td>\n",
              "    </tr>\n",
              "    <tr>\n",
              "      <th>9</th>\n",
              "      <td>-1.432732</td>\n",
              "      <td>-1.813800</td>\n",
              "      <td>3.539154</td>\n",
              "      <td>-3.703377</td>\n",
              "      <td>0.851062</td>\n",
              "      <td>0.978460</td>\n",
              "      <td>3.696915</td>\n",
              "      <td>-2.167268</td>\n",
              "      <td>8.000101</td>\n",
              "      <td>1.530896</td>\n",
              "      <td>-1.794265</td>\n",
              "      <td>NaN</td>\n",
              "      <td>0.070998</td>\n",
              "      <td>-1.336260</td>\n",
              "    </tr>\n",
              "    <tr>\n",
              "      <th>10</th>\n",
              "      <td>-0.580930</td>\n",
              "      <td>-2.993617</td>\n",
              "      <td>3.676787</td>\n",
              "      <td>-5.011516</td>\n",
              "      <td>2.303760</td>\n",
              "      <td>0.082127</td>\n",
              "      <td>0.467074</td>\n",
              "      <td>-3.735054</td>\n",
              "      <td>6.810736</td>\n",
              "      <td>1.750897</td>\n",
              "      <td>-2.456542</td>\n",
              "      <td>NaN</td>\n",
              "      <td>2.254278</td>\n",
              "      <td>-0.688851</td>\n",
              "    </tr>\n",
              "    <tr>\n",
              "      <th>11</th>\n",
              "      <td>0.772630</td>\n",
              "      <td>-1.916516</td>\n",
              "      <td>1.418299</td>\n",
              "      <td>-3.175414</td>\n",
              "      <td>4.415930</td>\n",
              "      <td>11.164527</td>\n",
              "      <td>-2.719894</td>\n",
              "      <td>0.220061</td>\n",
              "      <td>7.543881</td>\n",
              "      <td>4.925548</td>\n",
              "      <td>0.281064</td>\n",
              "      <td>NaN</td>\n",
              "      <td>0.116370</td>\n",
              "      <td>0.995684</td>\n",
              "    </tr>\n",
              "    <tr>\n",
              "      <th>12</th>\n",
              "      <td>4.149684</td>\n",
              "      <td>-1.846681</td>\n",
              "      <td>13.839290</td>\n",
              "      <td>2.504595</td>\n",
              "      <td>6.685176</td>\n",
              "      <td>9.346221</td>\n",
              "      <td>-1.706475</td>\n",
              "      <td>0.662486</td>\n",
              "      <td>12.733123</td>\n",
              "      <td>10.947612</td>\n",
              "      <td>7.012079</td>\n",
              "      <td>NaN</td>\n",
              "      <td>13.498720</td>\n",
              "      <td>6.720893</td>\n",
              "    </tr>\n",
              "  </tbody>\n",
              "</table>\n",
              "</div>"
            ],
            "text/plain": [
              "             AA        AS         B6  ...        US         VX         WN\n",
              "Month                                 ...                                \n",
              "1      6.955843 -0.320888   7.347281  ...  3.107457   1.420702   3.389466\n",
              "2      7.530204 -0.782923  18.657673  ...  7.114455   7.784410   3.501363\n",
              "3      6.693587 -0.544731  10.741317  ...  3.330787   5.348207   3.263341\n",
              "4      4.931778 -3.009003   2.780105  ...  2.660290   0.995507   2.996399\n",
              "5      5.173878 -1.716398  -0.709019  ...  0.681605   7.102021   5.680777\n",
              "6      8.191017 -0.220621   5.047155  ...  5.766296   5.779415  10.743462\n",
              "7      3.870440  0.377408   5.841454  ...       NaN   7.135773  10.504942\n",
              "8      3.193907  2.503899   9.280950  ...       NaN   5.106221   5.532108\n",
              "9     -1.432732 -1.813800   3.539154  ...       NaN   0.070998  -1.336260\n",
              "10    -0.580930 -2.993617   3.676787  ...       NaN   2.254278  -0.688851\n",
              "11     0.772630 -1.916516   1.418299  ...       NaN   0.116370   0.995684\n",
              "12     4.149684 -1.846681  13.839290  ...       NaN  13.498720   6.720893\n",
              "\n",
              "[12 rows x 14 columns]"
            ]
          },
          "metadata": {
            "tags": []
          },
          "execution_count": 5
        }
      ]
    },
    {
      "cell_type": "markdown",
      "metadata": {
        "id": "XS-CzqBtyQXv",
        "colab_type": "text"
      },
      "source": [
        "##Bar chart\n"
      ]
    },
    {
      "cell_type": "code",
      "metadata": {
        "id": "f9e-nVVbyHp3",
        "colab_type": "code",
        "outputId": "d26a46b3-4561-4cbe-a131-45ec58855ff4",
        "colab": {
          "base_uri": "https://localhost:8080/",
          "height": 421
        }
      },
      "source": [
        "# Set the width and height of the figure\n",
        "plt.figure(figsize=(10,6))\n",
        "\n",
        "# Add title\n",
        "plt.title(\"Average Arrival Delay for Spirit Airlines Flights, by Month\")\n",
        "\n",
        "# Bar chart showing average arrival delay for Spirit Airlines flights by month\n",
        "sns.barplot(x=flight_data.index, y=flight_data['NK'])\n",
        "\n",
        "# Add label for vertical axis\n",
        "plt.ylabel(\"Arrival delay (in minutes)\")"
      ],
      "execution_count": 6,
      "outputs": [
        {
          "output_type": "execute_result",
          "data": {
            "text/plain": [
              "Text(0, 0.5, 'Arrival delay (in minutes)')"
            ]
          },
          "metadata": {
            "tags": []
          },
          "execution_count": 6
        },
        {
          "output_type": "display_data",
          "data": {
            "image/png": "[encoded data removed]",
            "text/plain": [
              "<Figure size 720x432 with 1 Axes>"
            ]
          },
          "metadata": {
            "tags": [],
            "needs_background": "light"
          }
        }
      ]
    },
    {
      "cell_type": "markdown",
      "metadata": {
        "id": "kaLCK2iE4cWy",
        "colab_type": "text"
      },
      "source": [
        "##Heatmap"
      ]
    },
    {
      "cell_type": "code",
      "metadata": {
        "id": "KeLlTpID0Noh",
        "colab_type": "code",
        "outputId": "87d972ae-fc98-48a7-f982-d5497641b2d5",
        "colab": {
          "base_uri": "https://localhost:8080/",
          "height": 475
        }
      },
      "source": [
        "# Set the width and height of the figure\n",
        "plt.figure(figsize=(14,7))\n",
        "\n",
        "# Add title\n",
        "plt.title(\"Average Arrival Delay for Each Airline, by Month\")\n",
        "\n",
        "# Heatmap showing average arrival delay for each airline by month\n",
        "sns.heatmap(data=flight_data, annot=True)\n",
        "\n",
        "# Add label for horizontal axis\n",
        "plt.xlabel(\"Airline\")"
      ],
      "execution_count": 7,
      "outputs": [
        {
          "output_type": "execute_result",
          "data": {
            "text/plain": [
              "Text(0.5, 42.0, 'Airline')"
            ]
          },
          "metadata": {
            "tags": []
          },
          "execution_count": 7
        },
        {
          "output_type": "display_data",
          "data": {
            "image/png": "[encoded data removed]",
            "text/plain": [
              "<Figure size 1008x504 with 2 Axes>"
            ]
          },
          "metadata": {
            "tags": [],
            "needs_background": "light"
          }
        }
      ]
    },
    {
      "cell_type": "markdown",
      "metadata": {
        "id": "eb9YZaOQykqH",
        "colab_type": "text"
      },
      "source": [
        "#Exercise: Bar Charts and Heatmaps"
      ]
    },
    {
      "cell_type": "code",
      "metadata": {
        "id": "EAhBUBjMyiMn",
        "colab_type": "code",
        "outputId": "f184447a-850c-4959-e712-361c8bf7fc1d",
        "colab": {
          "base_uri": "https://localhost:8080/",
          "height": 33
        }
      },
      "source": [
        "import pandas as pd\n",
        "pd.plotting.register_matplotlib_converters()\n",
        "import matplotlib.pyplot as plt\n",
        "%matplotlib inline\n",
        "import seaborn as sns\n",
        "print(\"Setup Complete\")"
      ],
      "execution_count": 8,
      "outputs": [
        {
          "output_type": "stream",
          "text": [
            "Setup Complete\n"
          ],
          "name": "stdout"
        }
      ]
    },
    {
      "cell_type": "code",
      "metadata": {
        "id": "GlNSaHOV0apR",
        "colab_type": "code",
        "colab": {}
      },
      "source": [
        "# Path of the file to read\n",
        "dataset_filepath = \"./drive/My Drive/kaggle/input/data-for-datavis/ign_scores.csv\"\n",
        "\n",
        "# Read the file into a variable fifa_data\n",
        "ign_data = pd.read_csv(dataset_filepath, index_col=\"Platform\", parse_dates=True)"
      ],
      "execution_count": 0,
      "outputs": []
    },
    {
      "cell_type": "code",
      "metadata": {
        "id": "x8s1fTJZ5Luq",
        "colab_type": "code",
        "colab": {
          "base_uri": "https://localhost:8080/",
          "height": 226
        },
        "outputId": "8fa1a143-4ef1-42a9-bf56-1d049f6c874f"
      },
      "source": [
        "ign_data.head()"
      ],
      "execution_count": 11,
      "outputs": [
        {
          "output_type": "execute_result",
          "data": {
            "text/html": [
              "<div>\n",
              "<style scoped>\n",
              "    .dataframe tbody tr th:only-of-type {\n",
              "        vertical-align: middle;\n",
              "    }\n",
              "\n",
              "    .dataframe tbody tr th {\n",
              "        vertical-align: top;\n",
              "    }\n",
              "\n",
              "    .dataframe thead th {\n",
              "        text-align: right;\n",
              "    }\n",
              "</style>\n",
              "<table border=\"1\" class=\"dataframe\">\n",
              "  <thead>\n",
              "    <tr style=\"text-align: right;\">\n",
              "      <th></th>\n",
              "      <th>Action</th>\n",
              "      <th>Action, Adventure</th>\n",
              "      <th>Adventure</th>\n",
              "      <th>Fighting</th>\n",
              "      <th>Platformer</th>\n",
              "      <th>Puzzle</th>\n",
              "      <th>RPG</th>\n",
              "      <th>Racing</th>\n",
              "      <th>Shooter</th>\n",
              "      <th>Simulation</th>\n",
              "      <th>Sports</th>\n",
              "      <th>Strategy</th>\n",
              "    </tr>\n",
              "    <tr>\n",
              "      <th>Platform</th>\n",
              "      <th></th>\n",
              "      <th></th>\n",
              "      <th></th>\n",
              "      <th></th>\n",
              "      <th></th>\n",
              "      <th></th>\n",
              "      <th></th>\n",
              "      <th></th>\n",
              "      <th></th>\n",
              "      <th></th>\n",
              "      <th></th>\n",
              "      <th></th>\n",
              "    </tr>\n",
              "  </thead>\n",
              "  <tbody>\n",
              "    <tr>\n",
              "      <th>Dreamcast</th>\n",
              "      <td>6.882857</td>\n",
              "      <td>7.511111</td>\n",
              "      <td>6.281818</td>\n",
              "      <td>8.200000</td>\n",
              "      <td>8.340000</td>\n",
              "      <td>8.088889</td>\n",
              "      <td>7.700000</td>\n",
              "      <td>7.042500</td>\n",
              "      <td>7.616667</td>\n",
              "      <td>7.628571</td>\n",
              "      <td>7.272222</td>\n",
              "      <td>6.433333</td>\n",
              "    </tr>\n",
              "    <tr>\n",
              "      <th>Game Boy Advance</th>\n",
              "      <td>6.373077</td>\n",
              "      <td>7.507692</td>\n",
              "      <td>6.057143</td>\n",
              "      <td>6.226316</td>\n",
              "      <td>6.970588</td>\n",
              "      <td>6.532143</td>\n",
              "      <td>7.542857</td>\n",
              "      <td>6.657143</td>\n",
              "      <td>6.444444</td>\n",
              "      <td>6.928571</td>\n",
              "      <td>6.694444</td>\n",
              "      <td>7.175000</td>\n",
              "    </tr>\n",
              "    <tr>\n",
              "      <th>Game Boy Color</th>\n",
              "      <td>6.272727</td>\n",
              "      <td>8.166667</td>\n",
              "      <td>5.307692</td>\n",
              "      <td>4.500000</td>\n",
              "      <td>6.352941</td>\n",
              "      <td>6.583333</td>\n",
              "      <td>7.285714</td>\n",
              "      <td>5.897436</td>\n",
              "      <td>4.500000</td>\n",
              "      <td>5.900000</td>\n",
              "      <td>5.790698</td>\n",
              "      <td>7.400000</td>\n",
              "    </tr>\n",
              "    <tr>\n",
              "      <th>GameCube</th>\n",
              "      <td>6.532584</td>\n",
              "      <td>7.608333</td>\n",
              "      <td>6.753846</td>\n",
              "      <td>7.422222</td>\n",
              "      <td>6.665714</td>\n",
              "      <td>6.133333</td>\n",
              "      <td>7.890909</td>\n",
              "      <td>6.852632</td>\n",
              "      <td>6.981818</td>\n",
              "      <td>8.028571</td>\n",
              "      <td>7.481319</td>\n",
              "      <td>7.116667</td>\n",
              "    </tr>\n",
              "    <tr>\n",
              "      <th>Nintendo 3DS</th>\n",
              "      <td>6.670833</td>\n",
              "      <td>7.481818</td>\n",
              "      <td>7.414286</td>\n",
              "      <td>6.614286</td>\n",
              "      <td>7.503448</td>\n",
              "      <td>8.000000</td>\n",
              "      <td>7.719231</td>\n",
              "      <td>6.900000</td>\n",
              "      <td>7.033333</td>\n",
              "      <td>7.700000</td>\n",
              "      <td>6.388889</td>\n",
              "      <td>7.900000</td>\n",
              "    </tr>\n",
              "  </tbody>\n",
              "</table>\n",
              "</div>"
            ],
            "text/plain": [
              "                    Action  Action, Adventure  ...    Sports  Strategy\n",
              "Platform                                       ...                    \n",
              "Dreamcast         6.882857           7.511111  ...  7.272222  6.433333\n",
              "Game Boy Advance  6.373077           7.507692  ...  6.694444  7.175000\n",
              "Game Boy Color    6.272727           8.166667  ...  5.790698  7.400000\n",
              "GameCube          6.532584           7.608333  ...  7.481319  7.116667\n",
              "Nintendo 3DS      6.670833           7.481818  ...  6.388889  7.900000\n",
              "\n",
              "[5 rows x 12 columns]"
            ]
          },
          "metadata": {
            "tags": []
          },
          "execution_count": 11
        }
      ]
    },
    {
      "cell_type": "markdown",
      "metadata": {
        "id": "YLKlqAcl5V0_",
        "colab_type": "text"
      },
      "source": [
        "##Step 2: Review the data"
      ]
    },
    {
      "cell_type": "code",
      "metadata": {
        "id": "TdHqWbz-yqjX",
        "colab_type": "code",
        "outputId": "ba338529-5027-4095-d4a8-2857284ced94",
        "colab": {
          "base_uri": "https://localhost:8080/",
          "height": 703
        }
      },
      "source": [
        "ign_data"
      ],
      "execution_count": 12,
      "outputs": [
        {
          "output_type": "execute_result",
          "data": {
            "text/html": [
              "<div>\n",
              "<style scoped>\n",
              "    .dataframe tbody tr th:only-of-type {\n",
              "        vertical-align: middle;\n",
              "    }\n",
              "\n",
              "    .dataframe tbody tr th {\n",
              "        vertical-align: top;\n",
              "    }\n",
              "\n",
              "    .dataframe thead th {\n",
              "        text-align: right;\n",
              "    }\n",
              "</style>\n",
              "<table border=\"1\" class=\"dataframe\">\n",
              "  <thead>\n",
              "    <tr style=\"text-align: right;\">\n",
              "      <th></th>\n",
              "      <th>Action</th>\n",
              "      <th>Action, Adventure</th>\n",
              "      <th>Adventure</th>\n",
              "      <th>Fighting</th>\n",
              "      <th>Platformer</th>\n",
              "      <th>Puzzle</th>\n",
              "      <th>RPG</th>\n",
              "      <th>Racing</th>\n",
              "      <th>Shooter</th>\n",
              "      <th>Simulation</th>\n",
              "      <th>Sports</th>\n",
              "      <th>Strategy</th>\n",
              "    </tr>\n",
              "    <tr>\n",
              "      <th>Platform</th>\n",
              "      <th></th>\n",
              "      <th></th>\n",
              "      <th></th>\n",
              "      <th></th>\n",
              "      <th></th>\n",
              "      <th></th>\n",
              "      <th></th>\n",
              "      <th></th>\n",
              "      <th></th>\n",
              "      <th></th>\n",
              "      <th></th>\n",
              "      <th></th>\n",
              "    </tr>\n",
              "  </thead>\n",
              "  <tbody>\n",
              "    <tr>\n",
              "      <th>Dreamcast</th>\n",
              "      <td>6.882857</td>\n",
              "      <td>7.511111</td>\n",
              "      <td>6.281818</td>\n",
              "      <td>8.200000</td>\n",
              "      <td>8.340000</td>\n",
              "      <td>8.088889</td>\n",
              "      <td>7.700000</td>\n",
              "      <td>7.042500</td>\n",
              "      <td>7.616667</td>\n",
              "      <td>7.628571</td>\n",
              "      <td>7.272222</td>\n",
              "      <td>6.433333</td>\n",
              "    </tr>\n",
              "    <tr>\n",
              "      <th>Game Boy Advance</th>\n",
              "      <td>6.373077</td>\n",
              "      <td>7.507692</td>\n",
              "      <td>6.057143</td>\n",
              "      <td>6.226316</td>\n",
              "      <td>6.970588</td>\n",
              "      <td>6.532143</td>\n",
              "      <td>7.542857</td>\n",
              "      <td>6.657143</td>\n",
              "      <td>6.444444</td>\n",
              "      <td>6.928571</td>\n",
              "      <td>6.694444</td>\n",
              "      <td>7.175000</td>\n",
              "    </tr>\n",
              "    <tr>\n",
              "      <th>Game Boy Color</th>\n",
              "      <td>6.272727</td>\n",
              "      <td>8.166667</td>\n",
              "      <td>5.307692</td>\n",
              "      <td>4.500000</td>\n",
              "      <td>6.352941</td>\n",
              "      <td>6.583333</td>\n",
              "      <td>7.285714</td>\n",
              "      <td>5.897436</td>\n",
              "      <td>4.500000</td>\n",
              "      <td>5.900000</td>\n",
              "      <td>5.790698</td>\n",
              "      <td>7.400000</td>\n",
              "    </tr>\n",
              "    <tr>\n",
              "      <th>GameCube</th>\n",
              "      <td>6.532584</td>\n",
              "      <td>7.608333</td>\n",
              "      <td>6.753846</td>\n",
              "      <td>7.422222</td>\n",
              "      <td>6.665714</td>\n",
              "      <td>6.133333</td>\n",
              "      <td>7.890909</td>\n",
              "      <td>6.852632</td>\n",
              "      <td>6.981818</td>\n",
              "      <td>8.028571</td>\n",
              "      <td>7.481319</td>\n",
              "      <td>7.116667</td>\n",
              "    </tr>\n",
              "    <tr>\n",
              "      <th>Nintendo 3DS</th>\n",
              "      <td>6.670833</td>\n",
              "      <td>7.481818</td>\n",
              "      <td>7.414286</td>\n",
              "      <td>6.614286</td>\n",
              "      <td>7.503448</td>\n",
              "      <td>8.000000</td>\n",
              "      <td>7.719231</td>\n",
              "      <td>6.900000</td>\n",
              "      <td>7.033333</td>\n",
              "      <td>7.700000</td>\n",
              "      <td>6.388889</td>\n",
              "      <td>7.900000</td>\n",
              "    </tr>\n",
              "    <tr>\n",
              "      <th>Nintendo 64</th>\n",
              "      <td>6.649057</td>\n",
              "      <td>8.250000</td>\n",
              "      <td>7.000000</td>\n",
              "      <td>5.681250</td>\n",
              "      <td>6.889655</td>\n",
              "      <td>7.461538</td>\n",
              "      <td>6.050000</td>\n",
              "      <td>6.939623</td>\n",
              "      <td>8.042857</td>\n",
              "      <td>5.675000</td>\n",
              "      <td>6.967857</td>\n",
              "      <td>6.900000</td>\n",
              "    </tr>\n",
              "    <tr>\n",
              "      <th>Nintendo DS</th>\n",
              "      <td>5.903608</td>\n",
              "      <td>7.240000</td>\n",
              "      <td>6.259804</td>\n",
              "      <td>6.320000</td>\n",
              "      <td>6.840000</td>\n",
              "      <td>6.604615</td>\n",
              "      <td>7.222619</td>\n",
              "      <td>6.038636</td>\n",
              "      <td>6.965217</td>\n",
              "      <td>5.874359</td>\n",
              "      <td>5.936667</td>\n",
              "      <td>6.644737</td>\n",
              "    </tr>\n",
              "    <tr>\n",
              "      <th>Nintendo DSi</th>\n",
              "      <td>6.827027</td>\n",
              "      <td>8.500000</td>\n",
              "      <td>6.090909</td>\n",
              "      <td>7.500000</td>\n",
              "      <td>7.250000</td>\n",
              "      <td>6.810526</td>\n",
              "      <td>7.166667</td>\n",
              "      <td>6.563636</td>\n",
              "      <td>6.500000</td>\n",
              "      <td>5.195652</td>\n",
              "      <td>5.644444</td>\n",
              "      <td>6.566667</td>\n",
              "    </tr>\n",
              "    <tr>\n",
              "      <th>PC</th>\n",
              "      <td>6.805791</td>\n",
              "      <td>7.334746</td>\n",
              "      <td>7.136798</td>\n",
              "      <td>7.166667</td>\n",
              "      <td>7.410938</td>\n",
              "      <td>6.924706</td>\n",
              "      <td>7.759930</td>\n",
              "      <td>7.032418</td>\n",
              "      <td>7.084878</td>\n",
              "      <td>7.104889</td>\n",
              "      <td>6.902424</td>\n",
              "      <td>7.310207</td>\n",
              "    </tr>\n",
              "    <tr>\n",
              "      <th>PlayStation</th>\n",
              "      <td>6.016406</td>\n",
              "      <td>7.933333</td>\n",
              "      <td>6.313725</td>\n",
              "      <td>6.553731</td>\n",
              "      <td>6.579070</td>\n",
              "      <td>6.757895</td>\n",
              "      <td>7.910000</td>\n",
              "      <td>6.773387</td>\n",
              "      <td>6.424000</td>\n",
              "      <td>6.918182</td>\n",
              "      <td>6.751220</td>\n",
              "      <td>6.496875</td>\n",
              "    </tr>\n",
              "    <tr>\n",
              "      <th>PlayStation 2</th>\n",
              "      <td>6.467361</td>\n",
              "      <td>7.250000</td>\n",
              "      <td>6.315152</td>\n",
              "      <td>7.306349</td>\n",
              "      <td>7.068421</td>\n",
              "      <td>6.354545</td>\n",
              "      <td>7.473077</td>\n",
              "      <td>6.585065</td>\n",
              "      <td>6.641667</td>\n",
              "      <td>7.152632</td>\n",
              "      <td>7.197826</td>\n",
              "      <td>7.238889</td>\n",
              "    </tr>\n",
              "    <tr>\n",
              "      <th>PlayStation 3</th>\n",
              "      <td>6.853819</td>\n",
              "      <td>7.306154</td>\n",
              "      <td>6.820988</td>\n",
              "      <td>7.710938</td>\n",
              "      <td>7.735714</td>\n",
              "      <td>7.350000</td>\n",
              "      <td>7.436111</td>\n",
              "      <td>6.978571</td>\n",
              "      <td>7.219553</td>\n",
              "      <td>7.142857</td>\n",
              "      <td>7.485816</td>\n",
              "      <td>7.355172</td>\n",
              "    </tr>\n",
              "    <tr>\n",
              "      <th>PlayStation 4</th>\n",
              "      <td>7.550000</td>\n",
              "      <td>7.835294</td>\n",
              "      <td>7.388571</td>\n",
              "      <td>7.280000</td>\n",
              "      <td>8.390909</td>\n",
              "      <td>7.400000</td>\n",
              "      <td>7.944000</td>\n",
              "      <td>7.590000</td>\n",
              "      <td>7.804444</td>\n",
              "      <td>9.250000</td>\n",
              "      <td>7.430000</td>\n",
              "      <td>6.566667</td>\n",
              "    </tr>\n",
              "    <tr>\n",
              "      <th>PlayStation Portable</th>\n",
              "      <td>6.467797</td>\n",
              "      <td>7.000000</td>\n",
              "      <td>6.938095</td>\n",
              "      <td>6.822222</td>\n",
              "      <td>7.194737</td>\n",
              "      <td>6.726667</td>\n",
              "      <td>6.817778</td>\n",
              "      <td>6.401961</td>\n",
              "      <td>7.071053</td>\n",
              "      <td>6.761538</td>\n",
              "      <td>6.956790</td>\n",
              "      <td>6.550000</td>\n",
              "    </tr>\n",
              "    <tr>\n",
              "      <th>PlayStation Vita</th>\n",
              "      <td>7.173077</td>\n",
              "      <td>6.133333</td>\n",
              "      <td>8.057143</td>\n",
              "      <td>7.527273</td>\n",
              "      <td>8.568750</td>\n",
              "      <td>8.250000</td>\n",
              "      <td>7.337500</td>\n",
              "      <td>6.300000</td>\n",
              "      <td>7.660000</td>\n",
              "      <td>5.725000</td>\n",
              "      <td>7.130000</td>\n",
              "      <td>8.900000</td>\n",
              "    </tr>\n",
              "    <tr>\n",
              "      <th>Wii</th>\n",
              "      <td>6.262718</td>\n",
              "      <td>7.294643</td>\n",
              "      <td>6.234043</td>\n",
              "      <td>6.733333</td>\n",
              "      <td>7.054255</td>\n",
              "      <td>6.426984</td>\n",
              "      <td>7.410345</td>\n",
              "      <td>5.011667</td>\n",
              "      <td>6.479798</td>\n",
              "      <td>6.327027</td>\n",
              "      <td>5.966901</td>\n",
              "      <td>6.975000</td>\n",
              "    </tr>\n",
              "    <tr>\n",
              "      <th>Wireless</th>\n",
              "      <td>7.041699</td>\n",
              "      <td>7.312500</td>\n",
              "      <td>6.972414</td>\n",
              "      <td>6.740000</td>\n",
              "      <td>7.509091</td>\n",
              "      <td>7.360550</td>\n",
              "      <td>8.260000</td>\n",
              "      <td>6.898305</td>\n",
              "      <td>6.906780</td>\n",
              "      <td>7.802857</td>\n",
              "      <td>7.417699</td>\n",
              "      <td>7.542857</td>\n",
              "    </tr>\n",
              "    <tr>\n",
              "      <th>Xbox</th>\n",
              "      <td>6.819512</td>\n",
              "      <td>7.479032</td>\n",
              "      <td>6.821429</td>\n",
              "      <td>7.029630</td>\n",
              "      <td>7.303448</td>\n",
              "      <td>5.125000</td>\n",
              "      <td>8.277778</td>\n",
              "      <td>7.021591</td>\n",
              "      <td>7.485417</td>\n",
              "      <td>7.155556</td>\n",
              "      <td>7.884397</td>\n",
              "      <td>7.313333</td>\n",
              "    </tr>\n",
              "    <tr>\n",
              "      <th>Xbox 360</th>\n",
              "      <td>6.719048</td>\n",
              "      <td>7.137838</td>\n",
              "      <td>6.857353</td>\n",
              "      <td>7.552239</td>\n",
              "      <td>7.559574</td>\n",
              "      <td>7.141026</td>\n",
              "      <td>7.650000</td>\n",
              "      <td>6.996154</td>\n",
              "      <td>7.338153</td>\n",
              "      <td>7.325000</td>\n",
              "      <td>7.317857</td>\n",
              "      <td>7.112245</td>\n",
              "    </tr>\n",
              "    <tr>\n",
              "      <th>Xbox One</th>\n",
              "      <td>7.702857</td>\n",
              "      <td>7.566667</td>\n",
              "      <td>7.254545</td>\n",
              "      <td>7.171429</td>\n",
              "      <td>6.733333</td>\n",
              "      <td>8.100000</td>\n",
              "      <td>8.291667</td>\n",
              "      <td>8.163636</td>\n",
              "      <td>8.020000</td>\n",
              "      <td>7.733333</td>\n",
              "      <td>7.331818</td>\n",
              "      <td>8.500000</td>\n",
              "    </tr>\n",
              "    <tr>\n",
              "      <th>iPhone</th>\n",
              "      <td>6.865445</td>\n",
              "      <td>7.764286</td>\n",
              "      <td>7.745833</td>\n",
              "      <td>6.087500</td>\n",
              "      <td>7.471930</td>\n",
              "      <td>7.810784</td>\n",
              "      <td>7.185185</td>\n",
              "      <td>7.315789</td>\n",
              "      <td>6.995588</td>\n",
              "      <td>7.328571</td>\n",
              "      <td>7.152174</td>\n",
              "      <td>7.534921</td>\n",
              "    </tr>\n",
              "  </tbody>\n",
              "</table>\n",
              "</div>"
            ],
            "text/plain": [
              "                        Action  Action, Adventure  ...    Sports  Strategy\n",
              "Platform                                           ...                    \n",
              "Dreamcast             6.882857           7.511111  ...  7.272222  6.433333\n",
              "Game Boy Advance      6.373077           7.507692  ...  6.694444  7.175000\n",
              "Game Boy Color        6.272727           8.166667  ...  5.790698  7.400000\n",
              "GameCube              6.532584           7.608333  ...  7.481319  7.116667\n",
              "Nintendo 3DS          6.670833           7.481818  ...  6.388889  7.900000\n",
              "Nintendo 64           6.649057           8.250000  ...  6.967857  6.900000\n",
              "Nintendo DS           5.903608           7.240000  ...  5.936667  6.644737\n",
              "Nintendo DSi          6.827027           8.500000  ...  5.644444  6.566667\n",
              "PC                    6.805791           7.334746  ...  6.902424  7.310207\n",
              "PlayStation           6.016406           7.933333  ...  6.751220  6.496875\n",
              "PlayStation 2         6.467361           7.250000  ...  7.197826  7.238889\n",
              "PlayStation 3         6.853819           7.306154  ...  7.485816  7.355172\n",
              "PlayStation 4         7.550000           7.835294  ...  7.430000  6.566667\n",
              "PlayStation Portable  6.467797           7.000000  ...  6.956790  6.550000\n",
              "PlayStation Vita      7.173077           6.133333  ...  7.130000  8.900000\n",
              "Wii                   6.262718           7.294643  ...  5.966901  6.975000\n",
              "Wireless              7.041699           7.312500  ...  7.417699  7.542857\n",
              "Xbox                  6.819512           7.479032  ...  7.884397  7.313333\n",
              "Xbox 360              6.719048           7.137838  ...  7.317857  7.112245\n",
              "Xbox One              7.702857           7.566667  ...  7.331818  8.500000\n",
              "iPhone                6.865445           7.764286  ...  7.152174  7.534921\n",
              "\n",
              "[21 rows x 12 columns]"
            ]
          },
          "metadata": {
            "tags": []
          },
          "execution_count": 12
        }
      ]
    },
    {
      "cell_type": "code",
      "metadata": {
        "id": "Fy56r27d5fqd",
        "colab_type": "code",
        "colab": {}
      },
      "source": [
        "# Fill in the line below: What is the highest average score received by PC games,\n",
        "# for any platform?\n",
        "high_score = ign_data.loc['PC',:].max()\n",
        "\n",
        "# Fill in the line below: On the Playstation Vita platform, which genre has the \n",
        "# lowest average score? Please provide the name of the column, and put your answer \n",
        "# in single quotes (e.g., 'Action', 'Adventure', 'Fighting', etc.)\n",
        "worst_genre = ign_data.loc['PlayStation Vita',:].idxmin()"
      ],
      "execution_count": 0,
      "outputs": []
    },
    {
      "cell_type": "markdown",
      "metadata": {
        "id": "EWYWinHD1Fum",
        "colab_type": "text"
      },
      "source": [
        "##Step 3: Which platform is best?\n",
        "\n",
        "####Part A"
      ]
    },
    {
      "cell_type": "code",
      "metadata": {
        "id": "aV0pgfgdy5uh",
        "colab_type": "code",
        "colab": {
          "base_uri": "https://localhost:8080/",
          "height": 406
        },
        "outputId": "cd07852c-f76a-4697-9fe9-712d0e813a09"
      },
      "source": [
        "# Bar chart showing average score for racing games by platform\n",
        "\n",
        "# Set the width and height of the figure\n",
        "plt.figure(figsize=(8, 6))\n",
        "# Bar chart showing average score for racing games by platform\n",
        "sns.barplot(x=ign_data['Racing'], y=ign_data.index)\n",
        "# Add label for horizontal axis\n",
        "plt.xlabel(\"\")\n",
        "# Add label for vertical axis\n",
        "plt.title(\"Average Score for Racing Games, by Platform\")"
      ],
      "execution_count": 22,
      "outputs": [
        {
          "output_type": "execute_result",
          "data": {
            "text/plain": [
              "Text(0.5, 1.0, 'Average Score for Racing Games, by Platform')"
            ]
          },
          "metadata": {
            "tags": []
          },
          "execution_count": 22
        },
        {
          "output_type": "display_data",
          "data": {
            "image/png": "[encoded data removed]",
            "text/plain": [
              "<Figure size 576x432 with 1 Axes>"
            ]
          },
          "metadata": {
            "tags": [],
            "needs_background": "light"
          }
        }
      ]
    },
    {
      "cell_type": "markdown",
      "metadata": {
        "id": "2rBQZlpc1dp_",
        "colab_type": "text"
      },
      "source": [
        "#### Part B\n",
        "\n",
        "Based on the bar chart, do you expect a racing game for the **Wii** platform to receive a high rating?  If not, what gaming platform seems to be the best alternative?"
      ]
    },
    {
      "cell_type": "markdown",
      "metadata": {
        "id": "gjdpmVD_7SYW",
        "colab_type": "text"
      },
      "source": [
        "Solution: Based on the data, we should not expect a racing game for the Wii platform to receive a high rating. In fact, on average, racing games for Wii score lower than any other platform. Xbox One seems to be the best alternative, since it has the highest average ratings."
      ]
    },
    {
      "cell_type": "markdown",
      "metadata": {
        "id": "SUtbET8y2I60",
        "colab_type": "text"
      },
      "source": [
        "## Step 4: All possible combinations!\n",
        "\n",
        "Eventually, you decide against creating a racing game for Wii, but you're still committed to creating your own video game!  Since your gaming interests are pretty broad (_... you generally love most video games_), you decide to use the IGN data to inform your new choice of genre and platform.\n",
        "\n",
        "#### Part A\n",
        "\n",
        "Use the data to create a heatmap of average score by genre and platform.  "
      ]
    },
    {
      "cell_type": "code",
      "metadata": {
        "id": "IkL8Oy-r3CaN",
        "colab_type": "code",
        "colab": {
          "base_uri": "https://localhost:8080/",
          "height": 718
        },
        "outputId": "c775a387-23e6-48bd-aa47-dbb8523d451e"
      },
      "source": [
        "# Heatmap showing average game score by platform and genre\n",
        "# Set the width and height of the figure\n",
        "plt.figure(figsize=(10,10))\n",
        "# Heatmap showing average game score by platform and genre\n",
        "sns.heatmap(ign_data, annot=True)\n",
        "# Add label for horizontal axis\n",
        "plt.xlabel(\"Genre\")\n",
        "# Add label for vertical axis\n",
        "plt.title(\"Average Game Score, by Platform and Genre\")"
      ],
      "execution_count": 23,
      "outputs": [
        {
          "output_type": "execute_result",
          "data": {
            "text/plain": [
              "Text(0.5, 1.0, 'Average Game Score, by Platform and Genre')"
            ]
          },
          "metadata": {
            "tags": []
          },
          "execution_count": 23
        },
        {
          "output_type": "display_data",
          "data": {
            "image/png": "[encoded data removed]",
            "text/plain": [
              "<Figure size 720x720 with 2 Axes>"
            ]
          },
          "metadata": {
            "tags": [],
            "needs_background": "light"
          }
        }
      ]
    },
    {
      "cell_type": "markdown",
      "metadata": {
        "id": "yFK9brcc7y-q",
        "colab_type": "text"
      },
      "source": [
        "#### Part B\n",
        "\n",
        "Which combination of genre and platform receives the highest average ratings?  Which combination receives the lowest average rankings?"
      ]
    },
    {
      "cell_type": "markdown",
      "metadata": {
        "id": "RhpDYPko7-Sn",
        "colab_type": "text"
      },
      "source": [
        " Simulation games for Playstation 4 receive the highest average ratings (9.2). Shooting and Fighting games for Game Boy Color receive the lowest average rankings (4.5)."
      ]
    },
    {
      "cell_type": "code",
      "metadata": {
        "id": "-gs-yyQV7-pj",
        "colab_type": "code",
        "colab": {}
      },
      "source": [
        ""
      ],
      "execution_count": 0,
      "outputs": []
    }
  ]
}