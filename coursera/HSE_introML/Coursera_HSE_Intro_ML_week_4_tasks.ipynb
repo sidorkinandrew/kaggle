{
  "nbformat": 4,
  "nbformat_minor": 0,
  "metadata": {
    "colab": {
      "name": "Coursera_HSE_Intro_ML_week_4_tasks.ipynb",
      "provenance": [],
      "collapsed_sections": []
    },
    "kernelspec": {
      "name": "python3",
      "display_name": "Python 3"
    }
  },
  "cells": [
    {
      "cell_type": "code",
      "metadata": {
        "id": "pnxQeQ-AL--0",
        "colab_type": "code",
        "colab": {}
      },
      "source": [
        "import pandas as pd\n",
        "import numpy as np\n",
        "from sklearn import datasets\n",
        "from sklearn.model_selection import cross_val_score, KFold\n",
        "from sklearn import preprocessing as prep\n",
        "from sklearn import utils\n",
        "from sklearn import svm\n",
        "from sklearn.model_selection import GridSearchCV\n",
        "import seaborn as sns\n",
        "from sklearn.metrics import accuracy_score, precision_score, recall_score, f1_score, precision_recall_curve\n",
        "from sklearn.feature_extraction import DictVectorizer\n",
        "from sklearn.feature_extraction.text import TfidfVectorizer\n",
        "from scipy.sparse import hstack"
      ],
      "execution_count": 0,
      "outputs": []
    },
    {
      "cell_type": "code",
      "metadata": {
        "id": "BZ9Op25dic03",
        "colab_type": "code",
        "colab": {}
      },
      "source": [
        "dataset_url = '/content/drive/My Drive/coursera/Week 4/week_4_salary-train.csv'\n",
        "train = pd.read_csv(dataset_url)\n",
        "\n",
        "dataset_url = '/content/drive/My Drive/coursera/Week 4/week_4_salary-test-mini.csv'\n",
        "test = pd.read_csv(dataset_url)"
      ],
      "execution_count": 0,
      "outputs": []
    },
    {
      "cell_type": "code",
      "metadata": {
        "id": "OdOtc5SQlRDc",
        "colab_type": "code",
        "outputId": "6de47d31-5a88-4778-9f3e-83005c760e51",
        "colab": {
          "base_uri": "https://localhost:8080/",
          "height": 404
        }
      },
      "source": [
        "train"
      ],
      "execution_count": 49,
      "outputs": [
        {
          "output_type": "execute_result",
          "data": {
            "text/html": [
              "<div>\n",
              "<style scoped>\n",
              "    .dataframe tbody tr th:only-of-type {\n",
              "        vertical-align: middle;\n",
              "    }\n",
              "\n",
              "    .dataframe tbody tr th {\n",
              "        vertical-align: top;\n",
              "    }\n",
              "\n",
              "    .dataframe thead th {\n",
              "        text-align: right;\n",
              "    }\n",
              "</style>\n",
              "<table border=\"1\" class=\"dataframe\">\n",
              "  <thead>\n",
              "    <tr style=\"text-align: right;\">\n",
              "      <th></th>\n",
              "      <th>FullDescription</th>\n",
              "      <th>LocationNormalized</th>\n",
              "      <th>ContractTime</th>\n",
              "      <th>SalaryNormalized</th>\n",
              "    </tr>\n",
              "  </thead>\n",
              "  <tbody>\n",
              "    <tr>\n",
              "      <th>0</th>\n",
              "      <td>International Sales Manager London ****k  ****...</td>\n",
              "      <td>London</td>\n",
              "      <td>permanent</td>\n",
              "      <td>33000</td>\n",
              "    </tr>\n",
              "    <tr>\n",
              "      <th>1</th>\n",
              "      <td>An ideal opportunity for an individual that ha...</td>\n",
              "      <td>London</td>\n",
              "      <td>permanent</td>\n",
              "      <td>50000</td>\n",
              "    </tr>\n",
              "    <tr>\n",
              "      <th>2</th>\n",
              "      <td>Online Content and Brand Manager// Luxury Reta...</td>\n",
              "      <td>South East London</td>\n",
              "      <td>permanent</td>\n",
              "      <td>40000</td>\n",
              "    </tr>\n",
              "    <tr>\n",
              "      <th>3</th>\n",
              "      <td>A great local marketleader is seeking a perman...</td>\n",
              "      <td>Dereham</td>\n",
              "      <td>permanent</td>\n",
              "      <td>22500</td>\n",
              "    </tr>\n",
              "    <tr>\n",
              "      <th>4</th>\n",
              "      <td>Registered Nurse / RGN  Nursing Home for Young...</td>\n",
              "      <td>Sutton Coldfield</td>\n",
              "      <td>NaN</td>\n",
              "      <td>20355</td>\n",
              "    </tr>\n",
              "    <tr>\n",
              "      <th>...</th>\n",
              "      <td>...</td>\n",
              "      <td>...</td>\n",
              "      <td>...</td>\n",
              "      <td>...</td>\n",
              "    </tr>\n",
              "    <tr>\n",
              "      <th>59995</th>\n",
              "      <td>As a result of continued growth, First Class S...</td>\n",
              "      <td>Whitley Bay</td>\n",
              "      <td>contract</td>\n",
              "      <td>26400</td>\n",
              "    </tr>\n",
              "    <tr>\n",
              "      <th>59996</th>\n",
              "      <td>PHP / MVC Web Developer  MacclesfieldCirca ***...</td>\n",
              "      <td>Macclesfield</td>\n",
              "      <td>permanent</td>\n",
              "      <td>26000</td>\n",
              "    </tr>\n",
              "    <tr>\n",
              "      <th>59997</th>\n",
              "      <td>Staff Nurse, Nursing Home, Baldock White Recru...</td>\n",
              "      <td>Baldock</td>\n",
              "      <td>NaN</td>\n",
              "      <td>24500</td>\n",
              "    </tr>\n",
              "    <tr>\n",
              "      <th>59998</th>\n",
              "      <td>This is one of the best agency side opportunit...</td>\n",
              "      <td>The City</td>\n",
              "      <td>permanent</td>\n",
              "      <td>65000</td>\n",
              "    </tr>\n",
              "    <tr>\n",
              "      <th>59999</th>\n",
              "      <td>Must have CSCS card must have asbestos awarene...</td>\n",
              "      <td>London</td>\n",
              "      <td>NaN</td>\n",
              "      <td>23040</td>\n",
              "    </tr>\n",
              "  </tbody>\n",
              "</table>\n",
              "<p>60000 rows × 4 columns</p>\n",
              "</div>"
            ],
            "text/plain": [
              "                                         FullDescription  ... SalaryNormalized\n",
              "0      International Sales Manager London ****k  ****...  ...            33000\n",
              "1      An ideal opportunity for an individual that ha...  ...            50000\n",
              "2      Online Content and Brand Manager// Luxury Reta...  ...            40000\n",
              "3      A great local marketleader is seeking a perman...  ...            22500\n",
              "4      Registered Nurse / RGN  Nursing Home for Young...  ...            20355\n",
              "...                                                  ...  ...              ...\n",
              "59995  As a result of continued growth, First Class S...  ...            26400\n",
              "59996  PHP / MVC Web Developer  MacclesfieldCirca ***...  ...            26000\n",
              "59997  Staff Nurse, Nursing Home, Baldock White Recru...  ...            24500\n",
              "59998  This is one of the best agency side opportunit...  ...            65000\n",
              "59999  Must have CSCS card must have asbestos awarene...  ...            23040\n",
              "\n",
              "[60000 rows x 4 columns]"
            ]
          },
          "metadata": {
            "tags": []
          },
          "execution_count": 49
        }
      ]
    },
    {
      "cell_type": "code",
      "metadata": {
        "id": "wDIA7Cq9lInd",
        "colab_type": "code",
        "colab": {}
      },
      "source": [
        "X_train = train.drop(\"SalaryNormalized\", axis=1)\n",
        "y_train = train[\"SalaryNormalized\"]"
      ],
      "execution_count": 0,
      "outputs": []
    },
    {
      "cell_type": "code",
      "metadata": {
        "id": "DufpveWrlhui",
        "colab_type": "code",
        "colab": {}
      },
      "source": [
        "X_train = X_train.replace('[^a-zA-Z0-9]', ' ', regex = True)"
      ],
      "execution_count": 0,
      "outputs": []
    },
    {
      "cell_type": "code",
      "metadata": {
        "id": "7ul38diwmA2h",
        "colab_type": "code",
        "outputId": "19cfb724-b1ce-4d7f-cfe1-558cc468748e",
        "colab": {
          "base_uri": "https://localhost:8080/",
          "height": 84
        }
      },
      "source": [
        "X_train.isna().sum()"
      ],
      "execution_count": 52,
      "outputs": [
        {
          "output_type": "execute_result",
          "data": {
            "text/plain": [
              "FullDescription           0\n",
              "LocationNormalized        0\n",
              "ContractTime          15582\n",
              "dtype: int64"
            ]
          },
          "metadata": {
            "tags": []
          },
          "execution_count": 52
        }
      ]
    },
    {
      "cell_type": "code",
      "metadata": {
        "id": "hcKc5hMnlxT0",
        "colab_type": "code",
        "colab": {}
      },
      "source": [
        "X_train['LocationNormalized'].fillna('nan', inplace=True)\n",
        "X_train['ContractTime'].fillna('nan', inplace=True)"
      ],
      "execution_count": 0,
      "outputs": []
    },
    {
      "cell_type": "code",
      "metadata": {
        "id": "kZ3g3x9Tl3Xb",
        "colab_type": "code",
        "outputId": "b38d270d-347a-4673-9aa7-ab298cddbbd2",
        "colab": {
          "base_uri": "https://localhost:8080/",
          "height": 84
        }
      },
      "source": [
        "X_train.isna().sum()"
      ],
      "execution_count": 54,
      "outputs": [
        {
          "output_type": "execute_result",
          "data": {
            "text/plain": [
              "FullDescription       0\n",
              "LocationNormalized    0\n",
              "ContractTime          0\n",
              "dtype: int64"
            ]
          },
          "metadata": {
            "tags": []
          },
          "execution_count": 54
        }
      ]
    },
    {
      "cell_type": "code",
      "metadata": {
        "id": "-VzkA858mbvl",
        "colab_type": "code",
        "colab": {}
      },
      "source": [
        "X_train = X_train.apply(lambda x: x.map(str.lower))"
      ],
      "execution_count": 0,
      "outputs": []
    },
    {
      "cell_type": "code",
      "metadata": {
        "id": "PWg9nlmfnJJp",
        "colab_type": "code",
        "outputId": "d107d94d-2c41-4fc8-8169-997e19052bcd",
        "colab": {
          "base_uri": "https://localhost:8080/",
          "height": 404
        }
      },
      "source": [
        "X_train"
      ],
      "execution_count": 56,
      "outputs": [
        {
          "output_type": "execute_result",
          "data": {
            "text/html": [
              "<div>\n",
              "<style scoped>\n",
              "    .dataframe tbody tr th:only-of-type {\n",
              "        vertical-align: middle;\n",
              "    }\n",
              "\n",
              "    .dataframe tbody tr th {\n",
              "        vertical-align: top;\n",
              "    }\n",
              "\n",
              "    .dataframe thead th {\n",
              "        text-align: right;\n",
              "    }\n",
              "</style>\n",
              "<table border=\"1\" class=\"dataframe\">\n",
              "  <thead>\n",
              "    <tr style=\"text-align: right;\">\n",
              "      <th></th>\n",
              "      <th>FullDescription</th>\n",
              "      <th>LocationNormalized</th>\n",
              "      <th>ContractTime</th>\n",
              "    </tr>\n",
              "  </thead>\n",
              "  <tbody>\n",
              "    <tr>\n",
              "      <th>0</th>\n",
              "      <td>international sales manager london     k      ...</td>\n",
              "      <td>london</td>\n",
              "      <td>permanent</td>\n",
              "    </tr>\n",
              "    <tr>\n",
              "      <th>1</th>\n",
              "      <td>an ideal opportunity for an individual that ha...</td>\n",
              "      <td>london</td>\n",
              "      <td>permanent</td>\n",
              "    </tr>\n",
              "    <tr>\n",
              "      <th>2</th>\n",
              "      <td>online content and brand manager   luxury reta...</td>\n",
              "      <td>south east london</td>\n",
              "      <td>permanent</td>\n",
              "    </tr>\n",
              "    <tr>\n",
              "      <th>3</th>\n",
              "      <td>a great local marketleader is seeking a perman...</td>\n",
              "      <td>dereham</td>\n",
              "      <td>permanent</td>\n",
              "    </tr>\n",
              "    <tr>\n",
              "      <th>4</th>\n",
              "      <td>registered nurse   rgn  nursing home for young...</td>\n",
              "      <td>sutton coldfield</td>\n",
              "      <td>nan</td>\n",
              "    </tr>\n",
              "    <tr>\n",
              "      <th>...</th>\n",
              "      <td>...</td>\n",
              "      <td>...</td>\n",
              "      <td>...</td>\n",
              "    </tr>\n",
              "    <tr>\n",
              "      <th>59995</th>\n",
              "      <td>as a result of continued growth  first class s...</td>\n",
              "      <td>whitley bay</td>\n",
              "      <td>contract</td>\n",
              "    </tr>\n",
              "    <tr>\n",
              "      <th>59996</th>\n",
              "      <td>php   mvc web developer  macclesfieldcirca    ...</td>\n",
              "      <td>macclesfield</td>\n",
              "      <td>permanent</td>\n",
              "    </tr>\n",
              "    <tr>\n",
              "      <th>59997</th>\n",
              "      <td>staff nurse  nursing home  baldock white recru...</td>\n",
              "      <td>baldock</td>\n",
              "      <td>nan</td>\n",
              "    </tr>\n",
              "    <tr>\n",
              "      <th>59998</th>\n",
              "      <td>this is one of the best agency side opportunit...</td>\n",
              "      <td>the city</td>\n",
              "      <td>permanent</td>\n",
              "    </tr>\n",
              "    <tr>\n",
              "      <th>59999</th>\n",
              "      <td>must have cscs card must have asbestos awarene...</td>\n",
              "      <td>london</td>\n",
              "      <td>nan</td>\n",
              "    </tr>\n",
              "  </tbody>\n",
              "</table>\n",
              "<p>60000 rows × 3 columns</p>\n",
              "</div>"
            ],
            "text/plain": [
              "                                         FullDescription  ... ContractTime\n",
              "0      international sales manager london     k      ...  ...    permanent\n",
              "1      an ideal opportunity for an individual that ha...  ...    permanent\n",
              "2      online content and brand manager   luxury reta...  ...    permanent\n",
              "3      a great local marketleader is seeking a perman...  ...    permanent\n",
              "4      registered nurse   rgn  nursing home for young...  ...          nan\n",
              "...                                                  ...  ...          ...\n",
              "59995  as a result of continued growth  first class s...  ...     contract\n",
              "59996  php   mvc web developer  macclesfieldcirca    ...  ...    permanent\n",
              "59997  staff nurse  nursing home  baldock white recru...  ...          nan\n",
              "59998  this is one of the best agency side opportunit...  ...    permanent\n",
              "59999  must have cscs card must have asbestos awarene...  ...          nan\n",
              "\n",
              "[60000 rows x 3 columns]"
            ]
          },
          "metadata": {
            "tags": []
          },
          "execution_count": 56
        }
      ]
    },
    {
      "cell_type": "code",
      "metadata": {
        "id": "EHQdsWQ5nKJE",
        "colab_type": "code",
        "colab": {}
      },
      "source": [
        "enc = DictVectorizer()\n",
        "vectorizer = TfidfVectorizer(min_df=5)"
      ],
      "execution_count": 0,
      "outputs": []
    },
    {
      "cell_type": "code",
      "metadata": {
        "id": "rcDtad83nrPD",
        "colab_type": "code",
        "colab": {}
      },
      "source": [
        "X_train_vec = vectorizer.fit_transform(X_train['FullDescription'])\n",
        "X_test_vec = vectorizer.transform(test['FullDescription'])"
      ],
      "execution_count": 0,
      "outputs": []
    },
    {
      "cell_type": "code",
      "metadata": {
        "id": "xiaDF90Jo192",
        "colab_type": "code",
        "colab": {}
      },
      "source": [
        "X_train_categ = enc.fit_transform(X_train[['LocationNormalized', 'ContractTime']].to_dict('records'))\n",
        "X_test_categ = enc.transform(X_test[['LocationNormalized', 'ContractTime']].to_dict('records'))"
      ],
      "execution_count": 0,
      "outputs": []
    },
    {
      "cell_type": "code",
      "metadata": {
        "id": "BX8pQiyTo5aq",
        "colab_type": "code",
        "colab": {}
      },
      "source": [
        "X_for_train = hstack([X_train_vec, X_train_categ])\n",
        "X_for_test = hstack([X_test_vec, X_test_categ])"
      ],
      "execution_count": 0,
      "outputs": []
    },
    {
      "cell_type": "code",
      "metadata": {
        "id": "xJ6sNnDYo8tE",
        "colab_type": "code",
        "colab": {}
      },
      "source": [
        "from sklearn.linear_model import Ridge\n",
        "\n",
        "clf_ridge = Ridge(alpha = 1, random_state = 241)\n",
        "clf_ridge.fit(X_for_train, y_train)\n",
        "y_pred = clf_ridge.predict(X_for_test)"
      ],
      "execution_count": 0,
      "outputs": []
    },
    {
      "cell_type": "code",
      "metadata": {
        "id": "9JvyquLlpQwy",
        "colab_type": "code",
        "outputId": "7280be5b-ba09-4c7d-e78d-f5714473cdd9",
        "colab": {
          "base_uri": "https://localhost:8080/",
          "height": 33
        }
      },
      "source": [
        "np.round(y_pred, 2)"
      ],
      "execution_count": 62,
      "outputs": [
        {
          "output_type": "execute_result",
          "data": {
            "text/plain": [
              "array([55865.19, 37144.01])"
            ]
          },
          "metadata": {
            "tags": []
          },
          "execution_count": 62
        }
      ]
    },
    {
      "cell_type": "code",
      "metadata": {
        "id": "ty7VLAunA310",
        "colab_type": "code",
        "colab": {
          "base_uri": "https://localhost:8080/",
          "height": 592
        },
        "outputId": "d334109b-f300-459a-eb90-0de008beb6b1"
      },
      "source": [
        "dataset_url = '/content/drive/My Drive/coursera/Week 4/week_4_close_prices.csv'\n",
        "data = pd.read_csv(dataset_url)\n",
        "data"
      ],
      "execution_count": 63,
      "outputs": [
        {
          "output_type": "execute_result",
          "data": {
            "text/html": [
              "<div>\n",
              "<style scoped>\n",
              "    .dataframe tbody tr th:only-of-type {\n",
              "        vertical-align: middle;\n",
              "    }\n",
              "\n",
              "    .dataframe tbody tr th {\n",
              "        vertical-align: top;\n",
              "    }\n",
              "\n",
              "    .dataframe thead th {\n",
              "        text-align: right;\n",
              "    }\n",
              "</style>\n",
              "<table border=\"1\" class=\"dataframe\">\n",
              "  <thead>\n",
              "    <tr style=\"text-align: right;\">\n",
              "      <th></th>\n",
              "      <th>date</th>\n",
              "      <th>AXP</th>\n",
              "      <th>BA</th>\n",
              "      <th>CAT</th>\n",
              "      <th>CSCO</th>\n",
              "      <th>CVX</th>\n",
              "      <th>DD</th>\n",
              "      <th>DIS</th>\n",
              "      <th>GE</th>\n",
              "      <th>GS</th>\n",
              "      <th>HD</th>\n",
              "      <th>IBM</th>\n",
              "      <th>INTC</th>\n",
              "      <th>JNJ</th>\n",
              "      <th>JPM</th>\n",
              "      <th>KO</th>\n",
              "      <th>MCD</th>\n",
              "      <th>MMM</th>\n",
              "      <th>MRK</th>\n",
              "      <th>MSFT</th>\n",
              "      <th>NKE</th>\n",
              "      <th>PFE</th>\n",
              "      <th>PG</th>\n",
              "      <th>T</th>\n",
              "      <th>TRV</th>\n",
              "      <th>UNH</th>\n",
              "      <th>UTX</th>\n",
              "      <th>V</th>\n",
              "      <th>VZ</th>\n",
              "      <th>WMT</th>\n",
              "      <th>XOM</th>\n",
              "    </tr>\n",
              "  </thead>\n",
              "  <tbody>\n",
              "    <tr>\n",
              "      <th>0</th>\n",
              "      <td>2013-09-23</td>\n",
              "      <td>76.440002</td>\n",
              "      <td>117.510002</td>\n",
              "      <td>85.029999</td>\n",
              "      <td>24.270000</td>\n",
              "      <td>125.519997</td>\n",
              "      <td>59.409999</td>\n",
              "      <td>64.750000</td>\n",
              "      <td>24.280001</td>\n",
              "      <td>165.250000</td>\n",
              "      <td>75.910004</td>\n",
              "      <td>190.990005</td>\n",
              "      <td>23.620001</td>\n",
              "      <td>89.089996</td>\n",
              "      <td>51.459999</td>\n",
              "      <td>38.630001</td>\n",
              "      <td>97.279999</td>\n",
              "      <td>121.110001</td>\n",
              "      <td>47.680000</td>\n",
              "      <td>32.740002</td>\n",
              "      <td>68.980003</td>\n",
              "      <td>28.799999</td>\n",
              "      <td>79.279999</td>\n",
              "      <td>34.220001</td>\n",
              "      <td>86.379997</td>\n",
              "      <td>71.820000</td>\n",
              "      <td>109.419998</td>\n",
              "      <td>196.240005</td>\n",
              "      <td>47.980000</td>\n",
              "      <td>76.419998</td>\n",
              "      <td>87.750000</td>\n",
              "    </tr>\n",
              "    <tr>\n",
              "      <th>1</th>\n",
              "      <td>2013-09-24</td>\n",
              "      <td>76.070000</td>\n",
              "      <td>119.000000</td>\n",
              "      <td>85.110001</td>\n",
              "      <td>24.139999</td>\n",
              "      <td>124.489998</td>\n",
              "      <td>59.319997</td>\n",
              "      <td>64.320000</td>\n",
              "      <td>24.320000</td>\n",
              "      <td>162.970001</td>\n",
              "      <td>76.040001</td>\n",
              "      <td>189.970001</td>\n",
              "      <td>23.700001</td>\n",
              "      <td>88.220001</td>\n",
              "      <td>50.320000</td>\n",
              "      <td>38.529999</td>\n",
              "      <td>97.779999</td>\n",
              "      <td>120.800003</td>\n",
              "      <td>47.529999</td>\n",
              "      <td>32.450001</td>\n",
              "      <td>69.430000</td>\n",
              "      <td>28.709999</td>\n",
              "      <td>78.620003</td>\n",
              "      <td>34.090000</td>\n",
              "      <td>85.870003</td>\n",
              "      <td>72.320000</td>\n",
              "      <td>110.000000</td>\n",
              "      <td>193.339996</td>\n",
              "      <td>47.270000</td>\n",
              "      <td>75.750000</td>\n",
              "      <td>87.360001</td>\n",
              "    </tr>\n",
              "    <tr>\n",
              "      <th>2</th>\n",
              "      <td>2013-09-25</td>\n",
              "      <td>75.989998</td>\n",
              "      <td>118.510002</td>\n",
              "      <td>84.500000</td>\n",
              "      <td>24.430000</td>\n",
              "      <td>124.070000</td>\n",
              "      <td>59.319997</td>\n",
              "      <td>64.449997</td>\n",
              "      <td>24.230000</td>\n",
              "      <td>162.309998</td>\n",
              "      <td>75.519997</td>\n",
              "      <td>189.470001</td>\n",
              "      <td>23.700001</td>\n",
              "      <td>87.080002</td>\n",
              "      <td>51.700001</td>\n",
              "      <td>38.330002</td>\n",
              "      <td>97.620003</td>\n",
              "      <td>120.199997</td>\n",
              "      <td>47.669998</td>\n",
              "      <td>32.509998</td>\n",
              "      <td>68.919998</td>\n",
              "      <td>28.490000</td>\n",
              "      <td>77.720001</td>\n",
              "      <td>34.049999</td>\n",
              "      <td>85.980003</td>\n",
              "      <td>71.980003</td>\n",
              "      <td>109.260002</td>\n",
              "      <td>191.559998</td>\n",
              "      <td>46.950001</td>\n",
              "      <td>74.650002</td>\n",
              "      <td>87.139999</td>\n",
              "    </tr>\n",
              "    <tr>\n",
              "      <th>3</th>\n",
              "      <td>2013-09-26</td>\n",
              "      <td>76.320000</td>\n",
              "      <td>119.379997</td>\n",
              "      <td>84.199997</td>\n",
              "      <td>23.770000</td>\n",
              "      <td>123.489998</td>\n",
              "      <td>59.509996</td>\n",
              "      <td>65.239998</td>\n",
              "      <td>24.250000</td>\n",
              "      <td>162.289993</td>\n",
              "      <td>76.070000</td>\n",
              "      <td>190.220001</td>\n",
              "      <td>23.410000</td>\n",
              "      <td>87.070000</td>\n",
              "      <td>51.889999</td>\n",
              "      <td>38.740002</td>\n",
              "      <td>98.190002</td>\n",
              "      <td>120.660004</td>\n",
              "      <td>47.680000</td>\n",
              "      <td>32.770000</td>\n",
              "      <td>70.339996</td>\n",
              "      <td>28.520000</td>\n",
              "      <td>78.050003</td>\n",
              "      <td>34.230000</td>\n",
              "      <td>85.830002</td>\n",
              "      <td>72.160004</td>\n",
              "      <td>109.660004</td>\n",
              "      <td>193.559998</td>\n",
              "      <td>47.669998</td>\n",
              "      <td>74.620003</td>\n",
              "      <td>87.070000</td>\n",
              "    </tr>\n",
              "    <tr>\n",
              "      <th>4</th>\n",
              "      <td>2013-09-27</td>\n",
              "      <td>75.889999</td>\n",
              "      <td>118.739998</td>\n",
              "      <td>83.800003</td>\n",
              "      <td>23.330000</td>\n",
              "      <td>122.639999</td>\n",
              "      <td>59.009995</td>\n",
              "      <td>65.190002</td>\n",
              "      <td>24.049999</td>\n",
              "      <td>159.850006</td>\n",
              "      <td>75.959999</td>\n",
              "      <td>186.919998</td>\n",
              "      <td>22.980000</td>\n",
              "      <td>86.730003</td>\n",
              "      <td>52.240002</td>\n",
              "      <td>38.400002</td>\n",
              "      <td>97.120003</td>\n",
              "      <td>120.220001</td>\n",
              "      <td>47.790001</td>\n",
              "      <td>33.270000</td>\n",
              "      <td>73.639999</td>\n",
              "      <td>28.879999</td>\n",
              "      <td>77.209999</td>\n",
              "      <td>33.980000</td>\n",
              "      <td>85.410004</td>\n",
              "      <td>71.989998</td>\n",
              "      <td>109.360001</td>\n",
              "      <td>193.050003</td>\n",
              "      <td>47.000000</td>\n",
              "      <td>74.360001</td>\n",
              "      <td>86.900002</td>\n",
              "    </tr>\n",
              "    <tr>\n",
              "      <th>...</th>\n",
              "      <td>...</td>\n",
              "      <td>...</td>\n",
              "      <td>...</td>\n",
              "      <td>...</td>\n",
              "      <td>...</td>\n",
              "      <td>...</td>\n",
              "      <td>...</td>\n",
              "      <td>...</td>\n",
              "      <td>...</td>\n",
              "      <td>...</td>\n",
              "      <td>...</td>\n",
              "      <td>...</td>\n",
              "      <td>...</td>\n",
              "      <td>...</td>\n",
              "      <td>...</td>\n",
              "      <td>...</td>\n",
              "      <td>...</td>\n",
              "      <td>...</td>\n",
              "      <td>...</td>\n",
              "      <td>...</td>\n",
              "      <td>...</td>\n",
              "      <td>...</td>\n",
              "      <td>...</td>\n",
              "      <td>...</td>\n",
              "      <td>...</td>\n",
              "      <td>...</td>\n",
              "      <td>...</td>\n",
              "      <td>...</td>\n",
              "      <td>...</td>\n",
              "      <td>...</td>\n",
              "      <td>...</td>\n",
              "    </tr>\n",
              "    <tr>\n",
              "      <th>369</th>\n",
              "      <td>2015-03-12</td>\n",
              "      <td>81.559998</td>\n",
              "      <td>152.039993</td>\n",
              "      <td>80.190002</td>\n",
              "      <td>28.240000</td>\n",
              "      <td>102.419998</td>\n",
              "      <td>80.400001</td>\n",
              "      <td>107.169998</td>\n",
              "      <td>25.400000</td>\n",
              "      <td>189.949997</td>\n",
              "      <td>116.099998</td>\n",
              "      <td>157.979996</td>\n",
              "      <td>30.799999</td>\n",
              "      <td>99.830002</td>\n",
              "      <td>61.369999</td>\n",
              "      <td>40.570000</td>\n",
              "      <td>96.250000</td>\n",
              "      <td>164.470001</td>\n",
              "      <td>56.169998</td>\n",
              "      <td>41.020000</td>\n",
              "      <td>97.040001</td>\n",
              "      <td>34.000000</td>\n",
              "      <td>82.089996</td>\n",
              "      <td>33.130001</td>\n",
              "      <td>107.830002</td>\n",
              "      <td>114.879997</td>\n",
              "      <td>121.239998</td>\n",
              "      <td>269.579987</td>\n",
              "      <td>48.730000</td>\n",
              "      <td>81.900002</td>\n",
              "      <td>84.220001</td>\n",
              "    </tr>\n",
              "    <tr>\n",
              "      <th>370</th>\n",
              "      <td>2015-03-13</td>\n",
              "      <td>80.599998</td>\n",
              "      <td>151.570007</td>\n",
              "      <td>79.230003</td>\n",
              "      <td>27.940001</td>\n",
              "      <td>101.620003</td>\n",
              "      <td>80.499997</td>\n",
              "      <td>106.440002</td>\n",
              "      <td>25.040001</td>\n",
              "      <td>189.339996</td>\n",
              "      <td>114.820000</td>\n",
              "      <td>154.279999</td>\n",
              "      <td>30.930000</td>\n",
              "      <td>99.209999</td>\n",
              "      <td>61.000000</td>\n",
              "      <td>39.910000</td>\n",
              "      <td>96.349998</td>\n",
              "      <td>162.740005</td>\n",
              "      <td>56.200001</td>\n",
              "      <td>41.380001</td>\n",
              "      <td>95.809998</td>\n",
              "      <td>34.000000</td>\n",
              "      <td>81.830002</td>\n",
              "      <td>32.759998</td>\n",
              "      <td>106.720001</td>\n",
              "      <td>115.250000</td>\n",
              "      <td>118.739998</td>\n",
              "      <td>265.029999</td>\n",
              "      <td>48.840000</td>\n",
              "      <td>81.900002</td>\n",
              "      <td>83.870003</td>\n",
              "    </tr>\n",
              "    <tr>\n",
              "      <th>371</th>\n",
              "      <td>2015-03-16</td>\n",
              "      <td>81.500000</td>\n",
              "      <td>153.669998</td>\n",
              "      <td>79.970001</td>\n",
              "      <td>28.299999</td>\n",
              "      <td>103.129997</td>\n",
              "      <td>77.069994</td>\n",
              "      <td>107.370003</td>\n",
              "      <td>25.450001</td>\n",
              "      <td>191.899994</td>\n",
              "      <td>116.500000</td>\n",
              "      <td>157.080002</td>\n",
              "      <td>30.830000</td>\n",
              "      <td>101.059998</td>\n",
              "      <td>61.849998</td>\n",
              "      <td>40.290001</td>\n",
              "      <td>97.150002</td>\n",
              "      <td>166.210007</td>\n",
              "      <td>57.119999</td>\n",
              "      <td>41.560001</td>\n",
              "      <td>96.440002</td>\n",
              "      <td>34.439999</td>\n",
              "      <td>83.559998</td>\n",
              "      <td>33.060001</td>\n",
              "      <td>108.930000</td>\n",
              "      <td>118.519997</td>\n",
              "      <td>120.070000</td>\n",
              "      <td>269.019989</td>\n",
              "      <td>49.270000</td>\n",
              "      <td>83.290001</td>\n",
              "      <td>84.760002</td>\n",
              "    </tr>\n",
              "    <tr>\n",
              "      <th>372</th>\n",
              "      <td>2015-03-17</td>\n",
              "      <td>81.059998</td>\n",
              "      <td>154.509995</td>\n",
              "      <td>78.449997</td>\n",
              "      <td>28.150000</td>\n",
              "      <td>103.169998</td>\n",
              "      <td>74.680001</td>\n",
              "      <td>106.959999</td>\n",
              "      <td>25.309999</td>\n",
              "      <td>190.570007</td>\n",
              "      <td>115.580002</td>\n",
              "      <td>156.960007</td>\n",
              "      <td>30.590000</td>\n",
              "      <td>99.889999</td>\n",
              "      <td>61.610001</td>\n",
              "      <td>40.509998</td>\n",
              "      <td>96.169998</td>\n",
              "      <td>164.229996</td>\n",
              "      <td>56.470001</td>\n",
              "      <td>41.700001</td>\n",
              "      <td>96.540001</td>\n",
              "      <td>34.169998</td>\n",
              "      <td>82.849998</td>\n",
              "      <td>32.900002</td>\n",
              "      <td>108.750000</td>\n",
              "      <td>117.599998</td>\n",
              "      <td>119.860001</td>\n",
              "      <td>264.500000</td>\n",
              "      <td>48.950001</td>\n",
              "      <td>82.620003</td>\n",
              "      <td>84.080002</td>\n",
              "    </tr>\n",
              "    <tr>\n",
              "      <th>373</th>\n",
              "      <td>2015-03-18</td>\n",
              "      <td>81.860001</td>\n",
              "      <td>155.729996</td>\n",
              "      <td>81.330002</td>\n",
              "      <td>28.150000</td>\n",
              "      <td>106.699997</td>\n",
              "      <td>76.009997</td>\n",
              "      <td>107.970001</td>\n",
              "      <td>25.639999</td>\n",
              "      <td>192.320007</td>\n",
              "      <td>116.080002</td>\n",
              "      <td>159.809998</td>\n",
              "      <td>30.889999</td>\n",
              "      <td>101.459999</td>\n",
              "      <td>61.750000</td>\n",
              "      <td>40.599998</td>\n",
              "      <td>97.000000</td>\n",
              "      <td>166.470001</td>\n",
              "      <td>57.650002</td>\n",
              "      <td>42.500000</td>\n",
              "      <td>97.510002</td>\n",
              "      <td>34.380001</td>\n",
              "      <td>83.750000</td>\n",
              "      <td>33.590000</td>\n",
              "      <td>109.519997</td>\n",
              "      <td>119.959999</td>\n",
              "      <td>120.309998</td>\n",
              "      <td>267.670013</td>\n",
              "      <td>49.540001</td>\n",
              "      <td>82.529999</td>\n",
              "      <td>86.070000</td>\n",
              "    </tr>\n",
              "  </tbody>\n",
              "</table>\n",
              "<p>374 rows × 31 columns</p>\n",
              "</div>"
            ],
            "text/plain": [
              "           date        AXP          BA  ...         VZ        WMT        XOM\n",
              "0    2013-09-23  76.440002  117.510002  ...  47.980000  76.419998  87.750000\n",
              "1    2013-09-24  76.070000  119.000000  ...  47.270000  75.750000  87.360001\n",
              "2    2013-09-25  75.989998  118.510002  ...  46.950001  74.650002  87.139999\n",
              "3    2013-09-26  76.320000  119.379997  ...  47.669998  74.620003  87.070000\n",
              "4    2013-09-27  75.889999  118.739998  ...  47.000000  74.360001  86.900002\n",
              "..          ...        ...         ...  ...        ...        ...        ...\n",
              "369  2015-03-12  81.559998  152.039993  ...  48.730000  81.900002  84.220001\n",
              "370  2015-03-13  80.599998  151.570007  ...  48.840000  81.900002  83.870003\n",
              "371  2015-03-16  81.500000  153.669998  ...  49.270000  83.290001  84.760002\n",
              "372  2015-03-17  81.059998  154.509995  ...  48.950001  82.620003  84.080002\n",
              "373  2015-03-18  81.860001  155.729996  ...  49.540001  82.529999  86.070000\n",
              "\n",
              "[374 rows x 31 columns]"
            ]
          },
          "metadata": {
            "tags": []
          },
          "execution_count": 63
        }
      ]
    },
    {
      "cell_type": "code",
      "metadata": {
        "id": "2AWVxM9RbmFa",
        "colab_type": "code",
        "colab": {
          "base_uri": "https://localhost:8080/",
          "height": 50
        },
        "outputId": "7031bcbe-487d-4a47-e060-38c546c102af"
      },
      "source": [
        "from sklearn.decomposition import PCA\n",
        "pca = PCA(n_components=10)\n",
        "pca.fit(data.drop(['date'],axis=1))"
      ],
      "execution_count": 65,
      "outputs": [
        {
          "output_type": "execute_result",
          "data": {
            "text/plain": [
              "PCA(copy=True, iterated_power='auto', n_components=10, random_state=None,\n",
              "    svd_solver='auto', tol=0.0, whiten=False)"
            ]
          },
          "metadata": {
            "tags": []
          },
          "execution_count": 65
        }
      ]
    },
    {
      "cell_type": "code",
      "metadata": {
        "id": "EsyakIsjb-AD",
        "colab_type": "code",
        "colab": {
          "base_uri": "https://localhost:8080/",
          "height": 50
        },
        "outputId": "468b2d1c-0b7d-4683-9b33-cd17d18e8c22"
      },
      "source": [
        "print(pca.explained_variance_ratio_)"
      ],
      "execution_count": 66,
      "outputs": [
        {
          "output_type": "stream",
          "text": [
            "[0.73897118 0.11007169 0.04995088 0.0287492  0.02215448 0.01931577\n",
            " 0.00674853 0.00614091 0.00320594 0.00305611]\n"
          ],
          "name": "stdout"
        }
      ]
    },
    {
      "cell_type": "code",
      "metadata": {
        "id": "sNzNkA5BcrW6",
        "colab_type": "code",
        "colab": {
          "base_uri": "https://localhost:8080/",
          "height": 33
        },
        "outputId": "3c945dc4-8ff9-41c2-fa22-501e729e9ad1"
      },
      "source": [
        "sum(pca.explained_variance_ratio_[:4])"
      ],
      "execution_count": 72,
      "outputs": [
        {
          "output_type": "execute_result",
          "data": {
            "text/plain": [
              "0.9277429537836402"
            ]
          },
          "metadata": {
            "tags": []
          },
          "execution_count": 72
        }
      ]
    },
    {
      "cell_type": "code",
      "metadata": {
        "id": "0m6Lx7YjcO3K",
        "colab_type": "code",
        "colab": {
          "base_uri": "https://localhost:8080/",
          "height": 50
        },
        "outputId": "4a4c92c1-771b-4200-d10a-68ec05a67b02"
      },
      "source": [
        "print(pca.singular_values_)"
      ],
      "execution_count": 67,
      "outputs": [
        {
          "output_type": "stream",
          "text": [
            "[753.53936404 290.82384392 195.9132354  148.62951526 130.4736952\n",
            " 121.82829504  72.01066717  68.69238032  49.6329401   48.4592519 ]\n"
          ],
          "name": "stdout"
        }
      ]
    },
    {
      "cell_type": "code",
      "metadata": {
        "id": "GPyPGeoCcf9a",
        "colab_type": "code",
        "colab": {}
      },
      "source": [
        "print(pca.components_)"
      ],
      "execution_count": 0,
      "outputs": []
    },
    {
      "cell_type": "code",
      "metadata": {
        "id": "y7v5rSGYcRS-",
        "colab_type": "code",
        "colab": {}
      },
      "source": [
        "X = pca.transform(data.drop(['date'],axis=1))"
      ],
      "execution_count": 0,
      "outputs": []
    },
    {
      "cell_type": "code",
      "metadata": {
        "id": "gVoYsDf3cbz-",
        "colab_type": "code",
        "colab": {}
      },
      "source": [
        "X.T[0]"
      ],
      "execution_count": 0,
      "outputs": []
    },
    {
      "cell_type": "code",
      "metadata": {
        "id": "2u69tM8cccPO",
        "colab_type": "code",
        "colab": {}
      },
      "source": [
        "first_component = X.T[0]\n",
        "first_component"
      ],
      "execution_count": 0,
      "outputs": []
    },
    {
      "cell_type": "code",
      "metadata": {
        "id": "bBWqieogdvVE",
        "colab_type": "code",
        "colab": {
          "base_uri": "https://localhost:8080/",
          "height": 404
        },
        "outputId": "6e4f1198-68cd-4b44-d82a-e0f50877db6f"
      },
      "source": [
        "dataset_url = '/content/drive/My Drive/coursera/Week 4/week_4_djia_index.csv'\n",
        "data_jones = pd.read_csv(dataset_url)\n",
        "data_jones"
      ],
      "execution_count": 97,
      "outputs": [
        {
          "output_type": "execute_result",
          "data": {
            "text/html": [
              "<div>\n",
              "<style scoped>\n",
              "    .dataframe tbody tr th:only-of-type {\n",
              "        vertical-align: middle;\n",
              "    }\n",
              "\n",
              "    .dataframe tbody tr th {\n",
              "        vertical-align: top;\n",
              "    }\n",
              "\n",
              "    .dataframe thead th {\n",
              "        text-align: right;\n",
              "    }\n",
              "</style>\n",
              "<table border=\"1\" class=\"dataframe\">\n",
              "  <thead>\n",
              "    <tr style=\"text-align: right;\">\n",
              "      <th></th>\n",
              "      <th>date</th>\n",
              "      <th>^DJI</th>\n",
              "    </tr>\n",
              "  </thead>\n",
              "  <tbody>\n",
              "    <tr>\n",
              "      <th>0</th>\n",
              "      <td>2013-09-23</td>\n",
              "      <td>15401.379883</td>\n",
              "    </tr>\n",
              "    <tr>\n",
              "      <th>1</th>\n",
              "      <td>2013-09-24</td>\n",
              "      <td>15334.589844</td>\n",
              "    </tr>\n",
              "    <tr>\n",
              "      <th>2</th>\n",
              "      <td>2013-09-25</td>\n",
              "      <td>15273.259766</td>\n",
              "    </tr>\n",
              "    <tr>\n",
              "      <th>3</th>\n",
              "      <td>2013-09-26</td>\n",
              "      <td>15328.299805</td>\n",
              "    </tr>\n",
              "    <tr>\n",
              "      <th>4</th>\n",
              "      <td>2013-09-27</td>\n",
              "      <td>15258.240234</td>\n",
              "    </tr>\n",
              "    <tr>\n",
              "      <th>...</th>\n",
              "      <td>...</td>\n",
              "      <td>...</td>\n",
              "    </tr>\n",
              "    <tr>\n",
              "      <th>369</th>\n",
              "      <td>2015-03-12</td>\n",
              "      <td>17895.220703</td>\n",
              "    </tr>\n",
              "    <tr>\n",
              "      <th>370</th>\n",
              "      <td>2015-03-13</td>\n",
              "      <td>17749.310547</td>\n",
              "    </tr>\n",
              "    <tr>\n",
              "      <th>371</th>\n",
              "      <td>2015-03-16</td>\n",
              "      <td>17977.419922</td>\n",
              "    </tr>\n",
              "    <tr>\n",
              "      <th>372</th>\n",
              "      <td>2015-03-17</td>\n",
              "      <td>17849.080078</td>\n",
              "    </tr>\n",
              "    <tr>\n",
              "      <th>373</th>\n",
              "      <td>2015-03-18</td>\n",
              "      <td>18076.189453</td>\n",
              "    </tr>\n",
              "  </tbody>\n",
              "</table>\n",
              "<p>374 rows × 2 columns</p>\n",
              "</div>"
            ],
            "text/plain": [
              "           date          ^DJI\n",
              "0    2013-09-23  15401.379883\n",
              "1    2013-09-24  15334.589844\n",
              "2    2013-09-25  15273.259766\n",
              "3    2013-09-26  15328.299805\n",
              "4    2013-09-27  15258.240234\n",
              "..          ...           ...\n",
              "369  2015-03-12  17895.220703\n",
              "370  2015-03-13  17749.310547\n",
              "371  2015-03-16  17977.419922\n",
              "372  2015-03-17  17849.080078\n",
              "373  2015-03-18  18076.189453\n",
              "\n",
              "[374 rows x 2 columns]"
            ]
          },
          "metadata": {
            "tags": []
          },
          "execution_count": 97
        }
      ]
    },
    {
      "cell_type": "code",
      "metadata": {
        "id": "C3Xt3J1pd2b_",
        "colab_type": "code",
        "colab": {
          "base_uri": "https://localhost:8080/",
          "height": 50
        },
        "outputId": "8c99dcd3-d579-4e14-c941-1c292bb5cceb"
      },
      "source": [
        "np.corrcoef(first_component, data_jones.iloc[:,1])"
      ],
      "execution_count": 98,
      "outputs": [
        {
          "output_type": "execute_result",
          "data": {
            "text/plain": [
              "array([[1.        , 0.90965222],\n",
              "       [0.90965222, 1.        ]])"
            ]
          },
          "metadata": {
            "tags": []
          },
          "execution_count": 98
        }
      ]
    },
    {
      "cell_type": "code",
      "metadata": {
        "id": "_9_j6OrWc0RT",
        "colab_type": "code",
        "colab": {
          "base_uri": "https://localhost:8080/",
          "height": 53
        },
        "outputId": "a63d7156-1810-4a87-d884-e0c976ab42ad"
      },
      "source": [
        "print(sorted(zip(pca.components_[0],data.columns[1:]), key=lambda x: x[0])[::-1])"
      ],
      "execution_count": 81,
      "outputs": [
        {
          "output_type": "stream",
          "text": [
            "[(0.5796839457473608, 'V'), (0.3296155838158525, 'MMM'), (0.32156401737619067, 'UNH'), (0.2889960291670742, 'HD'), (0.251227032090898, 'GS'), (0.2339062895179173, 'DIS'), (0.21188886780132188, 'NKE'), (0.18947974464619466, 'TRV'), (0.1206449232286106, 'BA'), (0.11408956671451208, 'DD'), (0.09313201682640561, 'INTC'), (0.09139484029206306, 'JNJ'), (0.08716143338286819, 'WMT'), (0.07773169539162303, 'PG'), (0.0762295698765115, 'MSFT'), (0.07138971328880254, 'MRK'), (0.053683487328683256, 'UTX'), (0.050484236916854025, 'CSCO'), (0.04698793402659355, 'JPM'), (0.02905494171554044, 'KO'), (0.023092294068853506, 'PFE'), (0.01613838398473476, 'AXP'), (0.00010912222981037401, 'VZ'), (-0.006205137490081555, 'GE'), (-0.00720594589500823, 'T'), (-0.026106882759563018, 'MCD'), (-0.042942141992919666, 'XOM'), (-0.051661271080882996, 'CAT'), (-0.12585993303584916, 'CVX'), (-0.26499879525484726, 'IBM')]\n"
          ],
          "name": "stdout"
        }
      ]
    },
    {
      "cell_type": "code",
      "metadata": {
        "id": "K07sdHvddR4y",
        "colab_type": "code",
        "colab": {}
      },
      "source": [
        ""
      ],
      "execution_count": 0,
      "outputs": []
    }
  ]
}