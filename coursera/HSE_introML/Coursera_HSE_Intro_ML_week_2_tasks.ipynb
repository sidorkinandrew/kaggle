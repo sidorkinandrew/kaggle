{
  "nbformat": 4,
  "nbformat_minor": 0,
  "metadata": {
    "colab": {
      "name": "Coursera_HSE_Intro_ML_week_2_tasks.ipynb",
      "provenance": [],
      "collapsed_sections": []
    },
    "kernelspec": {
      "name": "python3",
      "display_name": "Python 3"
    }
  },
  "cells": [
    {
      "cell_type": "code",
      "metadata": {
        "id": "pnxQeQ-AL--0",
        "colab_type": "code",
        "colab": {}
      },
      "source": [
        "import pandas as pd\n",
        "import numpy as np\n",
        "from sklearn import datasets\n",
        "from sklearn.model_selection import cross_val_score, KFold\n",
        "from sklearn import preprocessing as prep\n",
        "from sklearn import utils"
      ],
      "execution_count": 0,
      "outputs": []
    },
    {
      "cell_type": "code",
      "metadata": {
        "id": "RJe_xHzUQFHb",
        "colab_type": "code",
        "colab": {}
      },
      "source": [
        "dataset_url = 'https://archive.ics.uci.edu/ml/machine-learning-databases/wine/wine.data'\n",
        "data = pd.read_csv(dataset_url,  header=None)"
      ],
      "execution_count": 0,
      "outputs": []
    },
    {
      "cell_type": "code",
      "metadata": {
        "id": "UlYTYcXVYND-",
        "colab_type": "code",
        "outputId": "72cd5758-849b-4302-9419-da2aecd7a4e3",
        "colab": {
          "base_uri": "https://localhost:8080/",
          "height": 251
        }
      },
      "source": [
        "feature_names_raw = \"\"\"1) Alcohol\n",
        "2) Malic acid\n",
        "3) Ash\n",
        "4) Alcalinity of ash\n",
        "5) Magnesium\n",
        "6) Total phenols\n",
        "7) Flavanoids\n",
        "8) Nonflavanoid phenols\n",
        "9) Proanthocyanins\n",
        "10)Color intensity\n",
        "11)Hue\n",
        "12)OD280/OD315 of diluted wines\n",
        "13)Proline\"\"\"\n",
        "feature_names = ['Class']\n",
        "for afeat in feature_names_raw.split('\\n'):\n",
        "    feature_names.append(afeat.replace(\") \",\")\").split(\")\")[1])\n",
        "\n",
        "feature_names"
      ],
      "execution_count": 90,
      "outputs": [
        {
          "output_type": "execute_result",
          "data": {
            "text/plain": [
              "['Class',\n",
              " 'Alcohol',\n",
              " 'Malic acid',\n",
              " 'Ash',\n",
              " 'Alcalinity of ash',\n",
              " 'Magnesium',\n",
              " 'Total phenols',\n",
              " 'Flavanoids',\n",
              " 'Nonflavanoid phenols',\n",
              " 'Proanthocyanins',\n",
              " 'Color intensity',\n",
              " 'Hue',\n",
              " 'OD280/OD315 of diluted wines',\n",
              " 'Proline']"
            ]
          },
          "metadata": {
            "tags": []
          },
          "execution_count": 90
        }
      ]
    },
    {
      "cell_type": "code",
      "metadata": {
        "id": "EueFXU6fQPLJ",
        "colab_type": "code",
        "outputId": "b04c9365-5b7d-42c9-f724-1fa9ebda395b",
        "colab": {
          "base_uri": "https://localhost:8080/",
          "height": 421
        }
      },
      "source": [
        "data.columns = feature_names\n",
        "data"
      ],
      "execution_count": 91,
      "outputs": [
        {
          "output_type": "execute_result",
          "data": {
            "text/html": [
              "<div>\n",
              "<style scoped>\n",
              "    .dataframe tbody tr th:only-of-type {\n",
              "        vertical-align: middle;\n",
              "    }\n",
              "\n",
              "    .dataframe tbody tr th {\n",
              "        vertical-align: top;\n",
              "    }\n",
              "\n",
              "    .dataframe thead th {\n",
              "        text-align: right;\n",
              "    }\n",
              "</style>\n",
              "<table border=\"1\" class=\"dataframe\">\n",
              "  <thead>\n",
              "    <tr style=\"text-align: right;\">\n",
              "      <th></th>\n",
              "      <th>Class</th>\n",
              "      <th>Alcohol</th>\n",
              "      <th>Malic acid</th>\n",
              "      <th>Ash</th>\n",
              "      <th>Alcalinity of ash</th>\n",
              "      <th>Magnesium</th>\n",
              "      <th>Total phenols</th>\n",
              "      <th>Flavanoids</th>\n",
              "      <th>Nonflavanoid phenols</th>\n",
              "      <th>Proanthocyanins</th>\n",
              "      <th>Color intensity</th>\n",
              "      <th>Hue</th>\n",
              "      <th>OD280/OD315 of diluted wines</th>\n",
              "      <th>Proline</th>\n",
              "    </tr>\n",
              "  </thead>\n",
              "  <tbody>\n",
              "    <tr>\n",
              "      <th>0</th>\n",
              "      <td>1</td>\n",
              "      <td>14.23</td>\n",
              "      <td>1.71</td>\n",
              "      <td>2.43</td>\n",
              "      <td>15.6</td>\n",
              "      <td>127</td>\n",
              "      <td>2.80</td>\n",
              "      <td>3.06</td>\n",
              "      <td>0.28</td>\n",
              "      <td>2.29</td>\n",
              "      <td>5.64</td>\n",
              "      <td>1.04</td>\n",
              "      <td>3.92</td>\n",
              "      <td>1065</td>\n",
              "    </tr>\n",
              "    <tr>\n",
              "      <th>1</th>\n",
              "      <td>1</td>\n",
              "      <td>13.20</td>\n",
              "      <td>1.78</td>\n",
              "      <td>2.14</td>\n",
              "      <td>11.2</td>\n",
              "      <td>100</td>\n",
              "      <td>2.65</td>\n",
              "      <td>2.76</td>\n",
              "      <td>0.26</td>\n",
              "      <td>1.28</td>\n",
              "      <td>4.38</td>\n",
              "      <td>1.05</td>\n",
              "      <td>3.40</td>\n",
              "      <td>1050</td>\n",
              "    </tr>\n",
              "    <tr>\n",
              "      <th>2</th>\n",
              "      <td>1</td>\n",
              "      <td>13.16</td>\n",
              "      <td>2.36</td>\n",
              "      <td>2.67</td>\n",
              "      <td>18.6</td>\n",
              "      <td>101</td>\n",
              "      <td>2.80</td>\n",
              "      <td>3.24</td>\n",
              "      <td>0.30</td>\n",
              "      <td>2.81</td>\n",
              "      <td>5.68</td>\n",
              "      <td>1.03</td>\n",
              "      <td>3.17</td>\n",
              "      <td>1185</td>\n",
              "    </tr>\n",
              "    <tr>\n",
              "      <th>3</th>\n",
              "      <td>1</td>\n",
              "      <td>14.37</td>\n",
              "      <td>1.95</td>\n",
              "      <td>2.50</td>\n",
              "      <td>16.8</td>\n",
              "      <td>113</td>\n",
              "      <td>3.85</td>\n",
              "      <td>3.49</td>\n",
              "      <td>0.24</td>\n",
              "      <td>2.18</td>\n",
              "      <td>7.80</td>\n",
              "      <td>0.86</td>\n",
              "      <td>3.45</td>\n",
              "      <td>1480</td>\n",
              "    </tr>\n",
              "    <tr>\n",
              "      <th>4</th>\n",
              "      <td>1</td>\n",
              "      <td>13.24</td>\n",
              "      <td>2.59</td>\n",
              "      <td>2.87</td>\n",
              "      <td>21.0</td>\n",
              "      <td>118</td>\n",
              "      <td>2.80</td>\n",
              "      <td>2.69</td>\n",
              "      <td>0.39</td>\n",
              "      <td>1.82</td>\n",
              "      <td>4.32</td>\n",
              "      <td>1.04</td>\n",
              "      <td>2.93</td>\n",
              "      <td>735</td>\n",
              "    </tr>\n",
              "    <tr>\n",
              "      <th>...</th>\n",
              "      <td>...</td>\n",
              "      <td>...</td>\n",
              "      <td>...</td>\n",
              "      <td>...</td>\n",
              "      <td>...</td>\n",
              "      <td>...</td>\n",
              "      <td>...</td>\n",
              "      <td>...</td>\n",
              "      <td>...</td>\n",
              "      <td>...</td>\n",
              "      <td>...</td>\n",
              "      <td>...</td>\n",
              "      <td>...</td>\n",
              "      <td>...</td>\n",
              "    </tr>\n",
              "    <tr>\n",
              "      <th>173</th>\n",
              "      <td>3</td>\n",
              "      <td>13.71</td>\n",
              "      <td>5.65</td>\n",
              "      <td>2.45</td>\n",
              "      <td>20.5</td>\n",
              "      <td>95</td>\n",
              "      <td>1.68</td>\n",
              "      <td>0.61</td>\n",
              "      <td>0.52</td>\n",
              "      <td>1.06</td>\n",
              "      <td>7.70</td>\n",
              "      <td>0.64</td>\n",
              "      <td>1.74</td>\n",
              "      <td>740</td>\n",
              "    </tr>\n",
              "    <tr>\n",
              "      <th>174</th>\n",
              "      <td>3</td>\n",
              "      <td>13.40</td>\n",
              "      <td>3.91</td>\n",
              "      <td>2.48</td>\n",
              "      <td>23.0</td>\n",
              "      <td>102</td>\n",
              "      <td>1.80</td>\n",
              "      <td>0.75</td>\n",
              "      <td>0.43</td>\n",
              "      <td>1.41</td>\n",
              "      <td>7.30</td>\n",
              "      <td>0.70</td>\n",
              "      <td>1.56</td>\n",
              "      <td>750</td>\n",
              "    </tr>\n",
              "    <tr>\n",
              "      <th>175</th>\n",
              "      <td>3</td>\n",
              "      <td>13.27</td>\n",
              "      <td>4.28</td>\n",
              "      <td>2.26</td>\n",
              "      <td>20.0</td>\n",
              "      <td>120</td>\n",
              "      <td>1.59</td>\n",
              "      <td>0.69</td>\n",
              "      <td>0.43</td>\n",
              "      <td>1.35</td>\n",
              "      <td>10.20</td>\n",
              "      <td>0.59</td>\n",
              "      <td>1.56</td>\n",
              "      <td>835</td>\n",
              "    </tr>\n",
              "    <tr>\n",
              "      <th>176</th>\n",
              "      <td>3</td>\n",
              "      <td>13.17</td>\n",
              "      <td>2.59</td>\n",
              "      <td>2.37</td>\n",
              "      <td>20.0</td>\n",
              "      <td>120</td>\n",
              "      <td>1.65</td>\n",
              "      <td>0.68</td>\n",
              "      <td>0.53</td>\n",
              "      <td>1.46</td>\n",
              "      <td>9.30</td>\n",
              "      <td>0.60</td>\n",
              "      <td>1.62</td>\n",
              "      <td>840</td>\n",
              "    </tr>\n",
              "    <tr>\n",
              "      <th>177</th>\n",
              "      <td>3</td>\n",
              "      <td>14.13</td>\n",
              "      <td>4.10</td>\n",
              "      <td>2.74</td>\n",
              "      <td>24.5</td>\n",
              "      <td>96</td>\n",
              "      <td>2.05</td>\n",
              "      <td>0.76</td>\n",
              "      <td>0.56</td>\n",
              "      <td>1.35</td>\n",
              "      <td>9.20</td>\n",
              "      <td>0.61</td>\n",
              "      <td>1.60</td>\n",
              "      <td>560</td>\n",
              "    </tr>\n",
              "  </tbody>\n",
              "</table>\n",
              "<p>178 rows × 14 columns</p>\n",
              "</div>"
            ],
            "text/plain": [
              "     Class  Alcohol  Malic acid  ...   Hue  OD280/OD315 of diluted wines  Proline\n",
              "0        1    14.23        1.71  ...  1.04                          3.92     1065\n",
              "1        1    13.20        1.78  ...  1.05                          3.40     1050\n",
              "2        1    13.16        2.36  ...  1.03                          3.17     1185\n",
              "3        1    14.37        1.95  ...  0.86                          3.45     1480\n",
              "4        1    13.24        2.59  ...  1.04                          2.93      735\n",
              "..     ...      ...         ...  ...   ...                           ...      ...\n",
              "173      3    13.71        5.65  ...  0.64                          1.74      740\n",
              "174      3    13.40        3.91  ...  0.70                          1.56      750\n",
              "175      3    13.27        4.28  ...  0.59                          1.56      835\n",
              "176      3    13.17        2.59  ...  0.60                          1.62      840\n",
              "177      3    14.13        4.10  ...  0.61                          1.60      560\n",
              "\n",
              "[178 rows x 14 columns]"
            ]
          },
          "metadata": {
            "tags": []
          },
          "execution_count": 91
        }
      ]
    },
    {
      "cell_type": "code",
      "metadata": {
        "id": "YuFjX78nT6Qp",
        "colab_type": "code",
        "colab": {}
      },
      "source": [
        "def get_outliers_count(data, outliers_level = 2):\n",
        "    feature_names = data.columns\n",
        "    params = {afeat:{'median':data[afeat].median(),'count':0} for afeat in feature_names}\n",
        "    for afeat in feature_names:\n",
        "        params[afeat]['count'] = data[afeat].apply(lambda x: 0 if x < params[afeat]['median']*outliers_level else 1).sum()\n",
        "        print(afeat, params[afeat]['count'])\n"
      ],
      "execution_count": 0,
      "outputs": []
    },
    {
      "cell_type": "code",
      "metadata": {
        "id": "Tv7DqCc-aERi",
        "colab_type": "code",
        "outputId": "53c86e56-dd26-46a4-d070-f06e3a0cad59",
        "colab": {
          "base_uri": "https://localhost:8080/",
          "height": 251
        }
      },
      "source": [
        "get_outliers_count(data, 2)"
      ],
      "execution_count": 93,
      "outputs": [
        {
          "output_type": "stream",
          "text": [
            "Class 0\n",
            "Alcohol 0\n",
            "Malic acid 28\n",
            "Ash 0\n",
            "Alcalinity of ash 0\n",
            "Magnesium 0\n",
            "Total phenols 0\n",
            "Flavanoids 1\n",
            "Nonflavanoid phenols 0\n",
            "Proanthocyanins 2\n",
            "Color intensity 11\n",
            "Hue 0\n",
            "OD280/OD315 of diluted wines 0\n",
            "Proline 7\n"
          ],
          "name": "stdout"
        }
      ]
    },
    {
      "cell_type": "code",
      "metadata": {
        "id": "Qj17iV4BN1_X",
        "colab_type": "code",
        "outputId": "f123b3a0-8374-4c61-f338-6c20a7f0893e",
        "colab": {
          "base_uri": "https://localhost:8080/",
          "height": 33
        }
      },
      "source": [
        "X = data.drop(['Class'], axis=1)\n",
        "y= data.Class\n",
        "X.shape, y.shape"
      ],
      "execution_count": 94,
      "outputs": [
        {
          "output_type": "execute_result",
          "data": {
            "text/plain": [
              "((178, 13), (178,))"
            ]
          },
          "metadata": {
            "tags": []
          },
          "execution_count": 94
        }
      ]
    },
    {
      "cell_type": "code",
      "metadata": {
        "id": "y0AbyJAlN8N6",
        "colab_type": "code",
        "outputId": "a1851516-4794-4516-9818-961e97cf0f36",
        "colab": {
          "base_uri": "https://localhost:8080/",
          "height": 67
        }
      },
      "source": [
        "from sklearn.neighbors import KNeighborsClassifier\n",
        "clf  = KNeighborsClassifier(n_neighbors=3)\n",
        "clf.fit(X, y)"
      ],
      "execution_count": 95,
      "outputs": [
        {
          "output_type": "execute_result",
          "data": {
            "text/plain": [
              "KNeighborsClassifier(algorithm='auto', leaf_size=30, metric='minkowski',\n",
              "                     metric_params=None, n_jobs=None, n_neighbors=3, p=2,\n",
              "                     weights='uniform')"
            ]
          },
          "metadata": {
            "tags": []
          },
          "execution_count": 95
        }
      ]
    },
    {
      "cell_type": "code",
      "metadata": {
        "id": "7JRVmomTP1Ni",
        "colab_type": "code",
        "colab": {}
      },
      "source": [
        "# from sklearn.model_selection import cross_val_score, KFold\n",
        "\n",
        "clf_kfold = KFold(n_splits = 5, shuffle = True, random_state = 42)\n",
        "\n",
        "\n",
        "scores = cross_val_score(clf, X, y, cv=KFold(n_splits = 5, shuffle = True, random_state = 42))"
      ],
      "execution_count": 0,
      "outputs": []
    },
    {
      "cell_type": "code",
      "metadata": {
        "id": "ycweaWt8QGAZ",
        "colab_type": "code",
        "colab": {}
      },
      "source": [
        "def get_cross_val_scores_knn(n_neighbors):\n",
        "    scores = {}\n",
        "    for neighbors in range(1,n_neighbors+1):\n",
        "        clf  = KNeighborsClassifier(n_neighbors=neighbors)\n",
        "        clf.fit(X, y)\n",
        "        scores[neighbors] = cross_val_score(clf, X, y, cv=KFold(n_splits = 5, shuffle = True, random_state = 42))\n",
        "    return scores"
      ],
      "execution_count": 0,
      "outputs": []
    },
    {
      "cell_type": "code",
      "metadata": {
        "id": "BJbLVrwpTaAg",
        "colab_type": "code",
        "colab": {}
      },
      "source": [
        "scores = get_cross_val_scores_knn(50)\n",
        "df_scores = pd.DataFrame(scores).T.mean(axis=1)"
      ],
      "execution_count": 0,
      "outputs": []
    },
    {
      "cell_type": "code",
      "metadata": {
        "id": "S_L5MVdzTeK6",
        "colab_type": "code",
        "outputId": "a86faa4e-d041-4dcf-c17f-9a651ea986aa",
        "colab": {
          "base_uri": "https://localhost:8080/",
          "height": 33
        }
      },
      "source": [
        "df_scores.idxmax(), df_scores[df_scores.idxmax()]"
      ],
      "execution_count": 99,
      "outputs": [
        {
          "output_type": "execute_result",
          "data": {
            "text/plain": [
              "(1, 0.7304761904761905)"
            ]
          },
          "metadata": {
            "tags": []
          },
          "execution_count": 99
        }
      ]
    },
    {
      "cell_type": "code",
      "metadata": {
        "id": "5ejfCCG7apVL",
        "colab_type": "code",
        "outputId": "cdb2dd2b-8b4a-444b-e0d8-b430ea646c4f",
        "colab": {
          "base_uri": "https://localhost:8080/",
          "height": 421
        }
      },
      "source": [
        "X"
      ],
      "execution_count": 100,
      "outputs": [
        {
          "output_type": "execute_result",
          "data": {
            "text/html": [
              "<div>\n",
              "<style scoped>\n",
              "    .dataframe tbody tr th:only-of-type {\n",
              "        vertical-align: middle;\n",
              "    }\n",
              "\n",
              "    .dataframe tbody tr th {\n",
              "        vertical-align: top;\n",
              "    }\n",
              "\n",
              "    .dataframe thead th {\n",
              "        text-align: right;\n",
              "    }\n",
              "</style>\n",
              "<table border=\"1\" class=\"dataframe\">\n",
              "  <thead>\n",
              "    <tr style=\"text-align: right;\">\n",
              "      <th></th>\n",
              "      <th>Alcohol</th>\n",
              "      <th>Malic acid</th>\n",
              "      <th>Ash</th>\n",
              "      <th>Alcalinity of ash</th>\n",
              "      <th>Magnesium</th>\n",
              "      <th>Total phenols</th>\n",
              "      <th>Flavanoids</th>\n",
              "      <th>Nonflavanoid phenols</th>\n",
              "      <th>Proanthocyanins</th>\n",
              "      <th>Color intensity</th>\n",
              "      <th>Hue</th>\n",
              "      <th>OD280/OD315 of diluted wines</th>\n",
              "      <th>Proline</th>\n",
              "    </tr>\n",
              "  </thead>\n",
              "  <tbody>\n",
              "    <tr>\n",
              "      <th>0</th>\n",
              "      <td>14.23</td>\n",
              "      <td>1.71</td>\n",
              "      <td>2.43</td>\n",
              "      <td>15.6</td>\n",
              "      <td>127</td>\n",
              "      <td>2.80</td>\n",
              "      <td>3.06</td>\n",
              "      <td>0.28</td>\n",
              "      <td>2.29</td>\n",
              "      <td>5.64</td>\n",
              "      <td>1.04</td>\n",
              "      <td>3.92</td>\n",
              "      <td>1065</td>\n",
              "    </tr>\n",
              "    <tr>\n",
              "      <th>1</th>\n",
              "      <td>13.20</td>\n",
              "      <td>1.78</td>\n",
              "      <td>2.14</td>\n",
              "      <td>11.2</td>\n",
              "      <td>100</td>\n",
              "      <td>2.65</td>\n",
              "      <td>2.76</td>\n",
              "      <td>0.26</td>\n",
              "      <td>1.28</td>\n",
              "      <td>4.38</td>\n",
              "      <td>1.05</td>\n",
              "      <td>3.40</td>\n",
              "      <td>1050</td>\n",
              "    </tr>\n",
              "    <tr>\n",
              "      <th>2</th>\n",
              "      <td>13.16</td>\n",
              "      <td>2.36</td>\n",
              "      <td>2.67</td>\n",
              "      <td>18.6</td>\n",
              "      <td>101</td>\n",
              "      <td>2.80</td>\n",
              "      <td>3.24</td>\n",
              "      <td>0.30</td>\n",
              "      <td>2.81</td>\n",
              "      <td>5.68</td>\n",
              "      <td>1.03</td>\n",
              "      <td>3.17</td>\n",
              "      <td>1185</td>\n",
              "    </tr>\n",
              "    <tr>\n",
              "      <th>3</th>\n",
              "      <td>14.37</td>\n",
              "      <td>1.95</td>\n",
              "      <td>2.50</td>\n",
              "      <td>16.8</td>\n",
              "      <td>113</td>\n",
              "      <td>3.85</td>\n",
              "      <td>3.49</td>\n",
              "      <td>0.24</td>\n",
              "      <td>2.18</td>\n",
              "      <td>7.80</td>\n",
              "      <td>0.86</td>\n",
              "      <td>3.45</td>\n",
              "      <td>1480</td>\n",
              "    </tr>\n",
              "    <tr>\n",
              "      <th>4</th>\n",
              "      <td>13.24</td>\n",
              "      <td>2.59</td>\n",
              "      <td>2.87</td>\n",
              "      <td>21.0</td>\n",
              "      <td>118</td>\n",
              "      <td>2.80</td>\n",
              "      <td>2.69</td>\n",
              "      <td>0.39</td>\n",
              "      <td>1.82</td>\n",
              "      <td>4.32</td>\n",
              "      <td>1.04</td>\n",
              "      <td>2.93</td>\n",
              "      <td>735</td>\n",
              "    </tr>\n",
              "    <tr>\n",
              "      <th>...</th>\n",
              "      <td>...</td>\n",
              "      <td>...</td>\n",
              "      <td>...</td>\n",
              "      <td>...</td>\n",
              "      <td>...</td>\n",
              "      <td>...</td>\n",
              "      <td>...</td>\n",
              "      <td>...</td>\n",
              "      <td>...</td>\n",
              "      <td>...</td>\n",
              "      <td>...</td>\n",
              "      <td>...</td>\n",
              "      <td>...</td>\n",
              "    </tr>\n",
              "    <tr>\n",
              "      <th>173</th>\n",
              "      <td>13.71</td>\n",
              "      <td>5.65</td>\n",
              "      <td>2.45</td>\n",
              "      <td>20.5</td>\n",
              "      <td>95</td>\n",
              "      <td>1.68</td>\n",
              "      <td>0.61</td>\n",
              "      <td>0.52</td>\n",
              "      <td>1.06</td>\n",
              "      <td>7.70</td>\n",
              "      <td>0.64</td>\n",
              "      <td>1.74</td>\n",
              "      <td>740</td>\n",
              "    </tr>\n",
              "    <tr>\n",
              "      <th>174</th>\n",
              "      <td>13.40</td>\n",
              "      <td>3.91</td>\n",
              "      <td>2.48</td>\n",
              "      <td>23.0</td>\n",
              "      <td>102</td>\n",
              "      <td>1.80</td>\n",
              "      <td>0.75</td>\n",
              "      <td>0.43</td>\n",
              "      <td>1.41</td>\n",
              "      <td>7.30</td>\n",
              "      <td>0.70</td>\n",
              "      <td>1.56</td>\n",
              "      <td>750</td>\n",
              "    </tr>\n",
              "    <tr>\n",
              "      <th>175</th>\n",
              "      <td>13.27</td>\n",
              "      <td>4.28</td>\n",
              "      <td>2.26</td>\n",
              "      <td>20.0</td>\n",
              "      <td>120</td>\n",
              "      <td>1.59</td>\n",
              "      <td>0.69</td>\n",
              "      <td>0.43</td>\n",
              "      <td>1.35</td>\n",
              "      <td>10.20</td>\n",
              "      <td>0.59</td>\n",
              "      <td>1.56</td>\n",
              "      <td>835</td>\n",
              "    </tr>\n",
              "    <tr>\n",
              "      <th>176</th>\n",
              "      <td>13.17</td>\n",
              "      <td>2.59</td>\n",
              "      <td>2.37</td>\n",
              "      <td>20.0</td>\n",
              "      <td>120</td>\n",
              "      <td>1.65</td>\n",
              "      <td>0.68</td>\n",
              "      <td>0.53</td>\n",
              "      <td>1.46</td>\n",
              "      <td>9.30</td>\n",
              "      <td>0.60</td>\n",
              "      <td>1.62</td>\n",
              "      <td>840</td>\n",
              "    </tr>\n",
              "    <tr>\n",
              "      <th>177</th>\n",
              "      <td>14.13</td>\n",
              "      <td>4.10</td>\n",
              "      <td>2.74</td>\n",
              "      <td>24.5</td>\n",
              "      <td>96</td>\n",
              "      <td>2.05</td>\n",
              "      <td>0.76</td>\n",
              "      <td>0.56</td>\n",
              "      <td>1.35</td>\n",
              "      <td>9.20</td>\n",
              "      <td>0.61</td>\n",
              "      <td>1.60</td>\n",
              "      <td>560</td>\n",
              "    </tr>\n",
              "  </tbody>\n",
              "</table>\n",
              "<p>178 rows × 13 columns</p>\n",
              "</div>"
            ],
            "text/plain": [
              "     Alcohol  Malic acid   Ash  ...   Hue  OD280/OD315 of diluted wines  Proline\n",
              "0      14.23        1.71  2.43  ...  1.04                          3.92     1065\n",
              "1      13.20        1.78  2.14  ...  1.05                          3.40     1050\n",
              "2      13.16        2.36  2.67  ...  1.03                          3.17     1185\n",
              "3      14.37        1.95  2.50  ...  0.86                          3.45     1480\n",
              "4      13.24        2.59  2.87  ...  1.04                          2.93      735\n",
              "..       ...         ...   ...  ...   ...                           ...      ...\n",
              "173    13.71        5.65  2.45  ...  0.64                          1.74      740\n",
              "174    13.40        3.91  2.48  ...  0.70                          1.56      750\n",
              "175    13.27        4.28  2.26  ...  0.59                          1.56      835\n",
              "176    13.17        2.59  2.37  ...  0.60                          1.62      840\n",
              "177    14.13        4.10  2.74  ...  0.61                          1.60      560\n",
              "\n",
              "[178 rows x 13 columns]"
            ]
          },
          "metadata": {
            "tags": []
          },
          "execution_count": 100
        }
      ]
    },
    {
      "cell_type": "code",
      "metadata": {
        "id": "pKuNDumOTxfS",
        "colab_type": "code",
        "colab": {}
      },
      "source": [
        "X_old = X.copy()\n",
        "from sklearn import preprocessing\n",
        "X = pd.DataFrame(preprocessing.scale(X), columns=X_old.columns)\n"
      ],
      "execution_count": 0,
      "outputs": []
    },
    {
      "cell_type": "code",
      "metadata": {
        "id": "AANbWyf2ZNt_",
        "colab_type": "code",
        "colab": {}
      },
      "source": [
        "scores = get_cross_val_scores_knn(50)\n",
        "df_scores = pd.DataFrame(scores).T.mean(axis=1)"
      ],
      "execution_count": 0,
      "outputs": []
    },
    {
      "cell_type": "code",
      "metadata": {
        "id": "4WuZxReRa-e0",
        "colab_type": "code",
        "outputId": "213859f2-546c-4116-e626-7652f35fa744",
        "colab": {
          "base_uri": "https://localhost:8080/",
          "height": 33
        }
      },
      "source": [
        "df_scores.idxmax(), df_scores[df_scores.idxmax()]"
      ],
      "execution_count": 103,
      "outputs": [
        {
          "output_type": "execute_result",
          "data": {
            "text/plain": [
              "(29, 0.9776190476190475)"
            ]
          },
          "metadata": {
            "tags": []
          },
          "execution_count": 103
        }
      ]
    },
    {
      "cell_type": "code",
      "metadata": {
        "id": "euMr89R7a-2M",
        "colab_type": "code",
        "colab": {}
      },
      "source": [
        "# from sklearn import datasets\n",
        "data = datasets.load_boston()"
      ],
      "execution_count": 0,
      "outputs": []
    },
    {
      "cell_type": "code",
      "metadata": {
        "id": "u1RZ33eu981R",
        "colab_type": "code",
        "colab": {
          "base_uri": "https://localhost:8080/",
          "height": 890
        },
        "outputId": "0d1b168a-34f5-420c-86c6-2236bfd8b24e"
      },
      "source": [
        "print(data.DESCR)"
      ],
      "execution_count": 112,
      "outputs": [
        {
          "output_type": "stream",
          "text": [
            ".. _boston_dataset:\n",
            "\n",
            "Boston house prices dataset\n",
            "---------------------------\n",
            "\n",
            "**Data Set Characteristics:**  \n",
            "\n",
            "    :Number of Instances: 506 \n",
            "\n",
            "    :Number of Attributes: 13 numeric/categorical predictive. Median Value (attribute 14) is usually the target.\n",
            "\n",
            "    :Attribute Information (in order):\n",
            "        - CRIM     per capita crime rate by town\n",
            "        - ZN       proportion of residential land zoned for lots over 25,000 sq.ft.\n",
            "        - INDUS    proportion of non-retail business acres per town\n",
            "        - CHAS     Charles River dummy variable (= 1 if tract bounds river; 0 otherwise)\n",
            "        - NOX      nitric oxides concentration (parts per 10 million)\n",
            "        - RM       average number of rooms per dwelling\n",
            "        - AGE      proportion of owner-occupied units built prior to 1940\n",
            "        - DIS      weighted distances to five Boston employment centres\n",
            "        - RAD      index of accessibility to radial highways\n",
            "        - TAX      full-value property-tax rate per $10,000\n",
            "        - PTRATIO  pupil-teacher ratio by town\n",
            "        - B        1000(Bk - 0.63)^2 where Bk is the proportion of blacks by town\n",
            "        - LSTAT    % lower status of the population\n",
            "        - MEDV     Median value of owner-occupied homes in $1000's\n",
            "\n",
            "    :Missing Attribute Values: None\n",
            "\n",
            "    :Creator: Harrison, D. and Rubinfeld, D.L.\n",
            "\n",
            "This is a copy of UCI ML housing dataset.\n",
            "https://archive.ics.uci.edu/ml/machine-learning-databases/housing/\n",
            "\n",
            "\n",
            "This dataset was taken from the StatLib library which is maintained at Carnegie Mellon University.\n",
            "\n",
            "The Boston house-price data of Harrison, D. and Rubinfeld, D.L. 'Hedonic\n",
            "prices and the demand for clean air', J. Environ. Economics & Management,\n",
            "vol.5, 81-102, 1978.   Used in Belsley, Kuh & Welsch, 'Regression diagnostics\n",
            "...', Wiley, 1980.   N.B. Various transformations are used in the table on\n",
            "pages 244-261 of the latter.\n",
            "\n",
            "The Boston house-price data has been used in many machine learning papers that address regression\n",
            "problems.   \n",
            "     \n",
            ".. topic:: References\n",
            "\n",
            "   - Belsley, Kuh & Welsch, 'Regression diagnostics: Identifying Influential Data and Sources of Collinearity', Wiley, 1980. 244-261.\n",
            "   - Quinlan,R. (1993). Combining Instance-Based and Model-Based Learning. In Proceedings on the Tenth International Conference of Machine Learning, 236-243, University of Massachusetts, Amherst. Morgan Kaufmann.\n",
            "\n"
          ],
          "name": "stdout"
        }
      ]
    },
    {
      "cell_type": "code",
      "metadata": {
        "id": "geMuwglj-Hra",
        "colab_type": "code",
        "colab": {
          "base_uri": "https://localhost:8080/",
          "height": 33
        },
        "outputId": "8db6e265-6c25-47b2-fc4a-379284f2b12a"
      },
      "source": [
        "data.keys()"
      ],
      "execution_count": 116,
      "outputs": [
        {
          "output_type": "execute_result",
          "data": {
            "text/plain": [
              "dict_keys(['data', 'target', 'feature_names', 'DESCR', 'filename'])"
            ]
          },
          "metadata": {
            "tags": []
          },
          "execution_count": 116
        }
      ]
    },
    {
      "cell_type": "code",
      "metadata": {
        "id": "nDpHSKfr-TKK",
        "colab_type": "code",
        "colab": {}
      },
      "source": [
        "X = pd.DataFrame(data.data, columns=data.feature_names)\n",
        "y = pd.DataFrame(data.target, columns = ['Target'])"
      ],
      "execution_count": 0,
      "outputs": []
    },
    {
      "cell_type": "code",
      "metadata": {
        "id": "5v8dLlhU-aG4",
        "colab_type": "code",
        "colab": {
          "base_uri": "https://localhost:8080/",
          "height": 196
        },
        "outputId": "acb9f220-6d2a-4254-9078-346b32cc27c3"
      },
      "source": [
        "X.head()"
      ],
      "execution_count": 151,
      "outputs": [
        {
          "output_type": "execute_result",
          "data": {
            "text/html": [
              "<div>\n",
              "<style scoped>\n",
              "    .dataframe tbody tr th:only-of-type {\n",
              "        vertical-align: middle;\n",
              "    }\n",
              "\n",
              "    .dataframe tbody tr th {\n",
              "        vertical-align: top;\n",
              "    }\n",
              "\n",
              "    .dataframe thead th {\n",
              "        text-align: right;\n",
              "    }\n",
              "</style>\n",
              "<table border=\"1\" class=\"dataframe\">\n",
              "  <thead>\n",
              "    <tr style=\"text-align: right;\">\n",
              "      <th></th>\n",
              "      <th>CRIM</th>\n",
              "      <th>ZN</th>\n",
              "      <th>INDUS</th>\n",
              "      <th>CHAS</th>\n",
              "      <th>NOX</th>\n",
              "      <th>RM</th>\n",
              "      <th>AGE</th>\n",
              "      <th>DIS</th>\n",
              "      <th>RAD</th>\n",
              "      <th>TAX</th>\n",
              "      <th>PTRATIO</th>\n",
              "      <th>B</th>\n",
              "      <th>LSTAT</th>\n",
              "    </tr>\n",
              "  </thead>\n",
              "  <tbody>\n",
              "    <tr>\n",
              "      <th>0</th>\n",
              "      <td>6.32e-03</td>\n",
              "      <td>18.0</td>\n",
              "      <td>2.31</td>\n",
              "      <td>0.0</td>\n",
              "      <td>0.54</td>\n",
              "      <td>6.58</td>\n",
              "      <td>65.2</td>\n",
              "      <td>4.09</td>\n",
              "      <td>1.0</td>\n",
              "      <td>296.0</td>\n",
              "      <td>15.3</td>\n",
              "      <td>396.90</td>\n",
              "      <td>4.98</td>\n",
              "    </tr>\n",
              "    <tr>\n",
              "      <th>1</th>\n",
              "      <td>2.73e-02</td>\n",
              "      <td>0.0</td>\n",
              "      <td>7.07</td>\n",
              "      <td>0.0</td>\n",
              "      <td>0.47</td>\n",
              "      <td>6.42</td>\n",
              "      <td>78.9</td>\n",
              "      <td>4.97</td>\n",
              "      <td>2.0</td>\n",
              "      <td>242.0</td>\n",
              "      <td>17.8</td>\n",
              "      <td>396.90</td>\n",
              "      <td>9.14</td>\n",
              "    </tr>\n",
              "    <tr>\n",
              "      <th>2</th>\n",
              "      <td>2.73e-02</td>\n",
              "      <td>0.0</td>\n",
              "      <td>7.07</td>\n",
              "      <td>0.0</td>\n",
              "      <td>0.47</td>\n",
              "      <td>7.18</td>\n",
              "      <td>61.1</td>\n",
              "      <td>4.97</td>\n",
              "      <td>2.0</td>\n",
              "      <td>242.0</td>\n",
              "      <td>17.8</td>\n",
              "      <td>392.83</td>\n",
              "      <td>4.03</td>\n",
              "    </tr>\n",
              "    <tr>\n",
              "      <th>3</th>\n",
              "      <td>3.24e-02</td>\n",
              "      <td>0.0</td>\n",
              "      <td>2.18</td>\n",
              "      <td>0.0</td>\n",
              "      <td>0.46</td>\n",
              "      <td>7.00</td>\n",
              "      <td>45.8</td>\n",
              "      <td>6.06</td>\n",
              "      <td>3.0</td>\n",
              "      <td>222.0</td>\n",
              "      <td>18.7</td>\n",
              "      <td>394.63</td>\n",
              "      <td>2.94</td>\n",
              "    </tr>\n",
              "    <tr>\n",
              "      <th>4</th>\n",
              "      <td>6.91e-02</td>\n",
              "      <td>0.0</td>\n",
              "      <td>2.18</td>\n",
              "      <td>0.0</td>\n",
              "      <td>0.46</td>\n",
              "      <td>7.15</td>\n",
              "      <td>54.2</td>\n",
              "      <td>6.06</td>\n",
              "      <td>3.0</td>\n",
              "      <td>222.0</td>\n",
              "      <td>18.7</td>\n",
              "      <td>396.90</td>\n",
              "      <td>5.33</td>\n",
              "    </tr>\n",
              "  </tbody>\n",
              "</table>\n",
              "</div>"
            ],
            "text/plain": [
              "       CRIM    ZN  INDUS  CHAS   NOX  ...  RAD    TAX  PTRATIO       B  LSTAT\n",
              "0  6.32e-03  18.0   2.31   0.0  0.54  ...  1.0  296.0     15.3  396.90   4.98\n",
              "1  2.73e-02   0.0   7.07   0.0  0.47  ...  2.0  242.0     17.8  396.90   9.14\n",
              "2  2.73e-02   0.0   7.07   0.0  0.47  ...  2.0  242.0     17.8  392.83   4.03\n",
              "3  3.24e-02   0.0   2.18   0.0  0.46  ...  3.0  222.0     18.7  394.63   2.94\n",
              "4  6.91e-02   0.0   2.18   0.0  0.46  ...  3.0  222.0     18.7  396.90   5.33\n",
              "\n",
              "[5 rows x 13 columns]"
            ]
          },
          "metadata": {
            "tags": []
          },
          "execution_count": 151
        }
      ]
    },
    {
      "cell_type": "code",
      "metadata": {
        "id": "I9gqCy7a-peC",
        "colab_type": "code",
        "colab": {}
      },
      "source": [
        "X = pd.DataFrame(prep.scale(X), columns = data.feature_names)\n",
        "label_encoder = prep.LabelEncoder()\n",
        "y = label_encoder.fit_transform(y.Target)"
      ],
      "execution_count": 0,
      "outputs": []
    },
    {
      "cell_type": "code",
      "metadata": {
        "id": "fRdNPyWX-40g",
        "colab_type": "code",
        "colab": {
          "base_uri": "https://localhost:8080/",
          "height": 33
        },
        "outputId": "34e00d60-db60-429c-9691-45edf4501429"
      },
      "source": [
        "print(utils.multiclass.type_of_target(y))"
      ],
      "execution_count": 181,
      "outputs": [
        {
          "output_type": "stream",
          "text": [
            "multiclass\n"
          ],
          "name": "stdout"
        }
      ]
    },
    {
      "cell_type": "code",
      "metadata": {
        "id": "s1MhFLZF_G5i",
        "colab_type": "code",
        "colab": {
          "base_uri": "https://localhost:8080/",
          "height": 286
        },
        "outputId": "89ce73af-d3d4-4f3c-9926-056bbfc44607"
      },
      "source": [
        "X.describe()"
      ],
      "execution_count": 147,
      "outputs": [
        {
          "output_type": "execute_result",
          "data": {
            "text/html": [
              "<div>\n",
              "<style scoped>\n",
              "    .dataframe tbody tr th:only-of-type {\n",
              "        vertical-align: middle;\n",
              "    }\n",
              "\n",
              "    .dataframe tbody tr th {\n",
              "        vertical-align: top;\n",
              "    }\n",
              "\n",
              "    .dataframe thead th {\n",
              "        text-align: right;\n",
              "    }\n",
              "</style>\n",
              "<table border=\"1\" class=\"dataframe\">\n",
              "  <thead>\n",
              "    <tr style=\"text-align: right;\">\n",
              "      <th></th>\n",
              "      <th>CRIM</th>\n",
              "      <th>ZN</th>\n",
              "      <th>INDUS</th>\n",
              "      <th>CHAS</th>\n",
              "      <th>NOX</th>\n",
              "      <th>RM</th>\n",
              "      <th>AGE</th>\n",
              "      <th>DIS</th>\n",
              "      <th>RAD</th>\n",
              "      <th>TAX</th>\n",
              "      <th>PTRATIO</th>\n",
              "      <th>B</th>\n",
              "      <th>LSTAT</th>\n",
              "    </tr>\n",
              "  </thead>\n",
              "  <tbody>\n",
              "    <tr>\n",
              "      <th>count</th>\n",
              "      <td>5.06e+02</td>\n",
              "      <td>5.06e+02</td>\n",
              "      <td>5.06e+02</td>\n",
              "      <td>5.06e+02</td>\n",
              "      <td>5.06e+02</td>\n",
              "      <td>5.06e+02</td>\n",
              "      <td>5.06e+02</td>\n",
              "      <td>5.06e+02</td>\n",
              "      <td>5.06e+02</td>\n",
              "      <td>5.06e+02</td>\n",
              "      <td>5.06e+02</td>\n",
              "      <td>5.06e+02</td>\n",
              "      <td>5.06e+02</td>\n",
              "    </tr>\n",
              "    <tr>\n",
              "      <th>mean</th>\n",
              "      <td>6.91e-18</td>\n",
              "      <td>7.66e-17</td>\n",
              "      <td>-2.24e-16</td>\n",
              "      <td>-1.18e-15</td>\n",
              "      <td>-2.90e-16</td>\n",
              "      <td>-2.41e-18</td>\n",
              "      <td>8.35e-17</td>\n",
              "      <td>-7.46e-18</td>\n",
              "      <td>-6.54e-17</td>\n",
              "      <td>-8.03e-17</td>\n",
              "      <td>1.58e-15</td>\n",
              "      <td>-5.05e-17</td>\n",
              "      <td>-5.18e-17</td>\n",
              "    </tr>\n",
              "    <tr>\n",
              "      <th>std</th>\n",
              "      <td>1.00e+00</td>\n",
              "      <td>1.00e+00</td>\n",
              "      <td>1.00e+00</td>\n",
              "      <td>1.00e+00</td>\n",
              "      <td>1.00e+00</td>\n",
              "      <td>1.00e+00</td>\n",
              "      <td>1.00e+00</td>\n",
              "      <td>1.00e+00</td>\n",
              "      <td>1.00e+00</td>\n",
              "      <td>1.00e+00</td>\n",
              "      <td>1.00e+00</td>\n",
              "      <td>1.00e+00</td>\n",
              "      <td>1.00e+00</td>\n",
              "    </tr>\n",
              "    <tr>\n",
              "      <th>min</th>\n",
              "      <td>-4.20e-01</td>\n",
              "      <td>-4.88e-01</td>\n",
              "      <td>-1.56e+00</td>\n",
              "      <td>-2.73e-01</td>\n",
              "      <td>-1.47e+00</td>\n",
              "      <td>-3.88e+00</td>\n",
              "      <td>-2.34e+00</td>\n",
              "      <td>-1.27e+00</td>\n",
              "      <td>-9.83e-01</td>\n",
              "      <td>-1.31e+00</td>\n",
              "      <td>-2.71e+00</td>\n",
              "      <td>-3.91e+00</td>\n",
              "      <td>-1.53e+00</td>\n",
              "    </tr>\n",
              "    <tr>\n",
              "      <th>25%</th>\n",
              "      <td>-4.11e-01</td>\n",
              "      <td>-4.88e-01</td>\n",
              "      <td>-8.68e-01</td>\n",
              "      <td>-2.73e-01</td>\n",
              "      <td>-9.13e-01</td>\n",
              "      <td>-5.69e-01</td>\n",
              "      <td>-8.37e-01</td>\n",
              "      <td>-8.06e-01</td>\n",
              "      <td>-6.38e-01</td>\n",
              "      <td>-7.68e-01</td>\n",
              "      <td>-4.88e-01</td>\n",
              "      <td>2.05e-01</td>\n",
              "      <td>-7.99e-01</td>\n",
              "    </tr>\n",
              "    <tr>\n",
              "      <th>50%</th>\n",
              "      <td>-3.91e-01</td>\n",
              "      <td>-4.88e-01</td>\n",
              "      <td>-2.11e-01</td>\n",
              "      <td>-2.73e-01</td>\n",
              "      <td>-1.44e-01</td>\n",
              "      <td>-1.08e-01</td>\n",
              "      <td>3.17e-01</td>\n",
              "      <td>-2.79e-01</td>\n",
              "      <td>-5.23e-01</td>\n",
              "      <td>-4.65e-01</td>\n",
              "      <td>2.75e-01</td>\n",
              "      <td>3.81e-01</td>\n",
              "      <td>-1.81e-01</td>\n",
              "    </tr>\n",
              "    <tr>\n",
              "      <th>75%</th>\n",
              "      <td>7.40e-03</td>\n",
              "      <td>4.88e-02</td>\n",
              "      <td>1.02e+00</td>\n",
              "      <td>-2.73e-01</td>\n",
              "      <td>5.99e-01</td>\n",
              "      <td>4.83e-01</td>\n",
              "      <td>9.07e-01</td>\n",
              "      <td>6.62e-01</td>\n",
              "      <td>1.66e+00</td>\n",
              "      <td>1.53e+00</td>\n",
              "      <td>8.07e-01</td>\n",
              "      <td>4.34e-01</td>\n",
              "      <td>6.03e-01</td>\n",
              "    </tr>\n",
              "    <tr>\n",
              "      <th>max</th>\n",
              "      <td>9.93e+00</td>\n",
              "      <td>3.80e+00</td>\n",
              "      <td>2.42e+00</td>\n",
              "      <td>3.67e+00</td>\n",
              "      <td>2.73e+00</td>\n",
              "      <td>3.56e+00</td>\n",
              "      <td>1.12e+00</td>\n",
              "      <td>3.96e+00</td>\n",
              "      <td>1.66e+00</td>\n",
              "      <td>1.80e+00</td>\n",
              "      <td>1.64e+00</td>\n",
              "      <td>4.41e-01</td>\n",
              "      <td>3.55e+00</td>\n",
              "    </tr>\n",
              "  </tbody>\n",
              "</table>\n",
              "</div>"
            ],
            "text/plain": [
              "           CRIM        ZN     INDUS  ...   PTRATIO         B     LSTAT\n",
              "count  5.06e+02  5.06e+02  5.06e+02  ...  5.06e+02  5.06e+02  5.06e+02\n",
              "mean   6.91e-18  7.66e-17 -2.24e-16  ...  1.58e-15 -5.05e-17 -5.18e-17\n",
              "std    1.00e+00  1.00e+00  1.00e+00  ...  1.00e+00  1.00e+00  1.00e+00\n",
              "min   -4.20e-01 -4.88e-01 -1.56e+00  ... -2.71e+00 -3.91e+00 -1.53e+00\n",
              "25%   -4.11e-01 -4.88e-01 -8.68e-01  ... -4.88e-01  2.05e-01 -7.99e-01\n",
              "50%   -3.91e-01 -4.88e-01 -2.11e-01  ...  2.75e-01  3.81e-01 -1.81e-01\n",
              "75%    7.40e-03  4.88e-02  1.02e+00  ...  8.07e-01  4.34e-01  6.03e-01\n",
              "max    9.93e+00  3.80e+00  2.42e+00  ...  1.64e+00  4.41e-01  3.55e+00\n",
              "\n",
              "[8 rows x 13 columns]"
            ]
          },
          "metadata": {
            "tags": []
          },
          "execution_count": 147
        }
      ]
    },
    {
      "cell_type": "code",
      "metadata": {
        "id": "SGhwpkVrDP9m",
        "colab_type": "code",
        "colab": {
          "base_uri": "https://localhost:8080/",
          "height": 669
        },
        "outputId": "436fe82e-de06-4272-81ea-14522df84f62"
      },
      "source": [
        "y"
      ],
      "execution_count": 182,
      "outputs": [
        {
          "output_type": "execute_result",
          "data": {
            "text/plain": [
              "array([137, 113, 196, 193, 203, 165, 126, 156,  64,  87,  52,  87, 114,\n",
              "       102,  80,  97, 128,  73, 100,  80,  40,  94,  54,  48,  57,  42,\n",
              "        65,  50,  82, 108,  32,  48,  36,  35,  39,  87,  98, 108, 144,\n",
              "       176, 197, 153, 149, 144, 110,  91,  98,  65,  47,  92,  95, 103,\n",
              "       146, 131,  87, 200, 144, 181, 130,  94,  85,  59, 119, 146, 189,\n",
              "       132,  92, 117,  72, 107, 139, 114, 125, 131, 138, 111,  98, 106,\n",
              "       110, 101, 159, 136, 145, 126, 136, 153, 122, 119, 133, 165, 123,\n",
              "       117, 126, 146, 104, 162, 111, 211, 219, 191, 157, 152,  84,  91,\n",
              "        99,  93,  93, 102,  96,  92, 114, 125,  86,  85,  83,  81, 110,\n",
              "        90, 102,  91, 117, 101, 103,  71,  86, 111,  58,  61,  78,  46,\n",
              "        90,  94, 127,  82,  57,  79,  72,  69,  37,  76,  43,  47,  38,\n",
              "        57,  25,  41,  57,  49,  76,  56, 112,  94,  55,  92,  68,  57,\n",
              "        35, 213, 140, 130, 155, 228, 228, 228, 124, 146, 228, 135, 135,\n",
              "       120,  72,  89, 128, 133, 123, 168, 129, 143, 171, 207, 212, 203,\n",
              "       210, 186, 151, 169, 228, 183, 170, 197, 206, 174, 204, 178, 167,\n",
              "       228, 192, 173, 195, 197, 188, 138, 215, 226, 228, 123, 141, 122,\n",
              "       141,  98, 114,  91, 121, 160, 134, 146, 130, 165, 112, 127, 154,\n",
              "       114, 157, 172, 221, 228, 209, 181, 224, 180, 140, 182, 214, 225,\n",
              "       166, 137, 147, 180, 134, 130, 117,  99, 119, 134,  74,  83, 140,\n",
              "       103, 142, 150, 141, 145, 169, 216, 116, 107, 220, 228, 201, 172,\n",
              "       194, 217, 227, 177, 205, 125, 175, 228, 218, 105, 109, 148, 141,\n",
              "       199, 185, 183, 191, 190, 167, 198, 222, 200, 223, 228, 184, 117,\n",
              "        99, 129, 120, 145, 163, 208, 158, 136, 114, 164, 156, 101, 122,\n",
              "       166, 145, 117, 151, 190, 202, 162, 193, 161, 125, 101,  60, 118,\n",
              "        92, 113, 135,  61,  76,  96, 128, 108, 135, 128, 102,  83, 146,\n",
              "       143, 127, 119,  91, 123,  96,  69,  92, 119, 105, 109,  93,  83,\n",
              "       104,  88,  85, 187,  64, 136, 179,  73,  70, 128, 142, 153, 126,\n",
              "       138,  84, 172,  80, 104,  76, 114, 124, 123, 146,  97, 106,  67,\n",
              "       116, 157, 116, 128, 228, 228, 228, 228, 228,  41,  41,  52,  42,\n",
              "        37,  35,  16,  17,  20,  22,  29,  12,   4,  18,   5,  16,  23,\n",
              "        53, 129,  15,  41,  32,  35,  30,  10,   0,   2,   1,   4,  28,\n",
              "         8,  10,   0,  26, 158,  70, 157,  52,  70,  77,  62,   3,   4,\n",
              "         6,  17,  12,   9,  66,  45, 106,  38,  24,   8,  16,  20,  21,\n",
              "        13,  48,  44,  60,  46,  24,  38,  14,  11,   9,  33,  18,  69,\n",
              "        82,  56,  19,  25,  51,  31,  44,  34,  38,  54,  60,  76,  51,\n",
              "        44,  32,  39,  51,  98,  63,  75,  93, 100, 111,  97,  88,  89,\n",
              "        89,  99,  97,  94, 129, 170,  41,  37,  66,  27,  49, 111, 127,\n",
              "       134, 146, 115, 104, 110,  89, 104,  54,   3,   7,  40,  99, 115,\n",
              "       142, 128,  95,  81, 110,  73,  67, 121, 104, 136, 117,  26])"
            ]
          },
          "metadata": {
            "tags": []
          },
          "execution_count": 182
        }
      ]
    },
    {
      "cell_type": "code",
      "metadata": {
        "id": "KDgC9_Xk_Kld",
        "colab_type": "code",
        "colab": {
          "base_uri": "https://localhost:8080/",
          "height": 33
        },
        "outputId": "37216043-a1a0-4a1d-cac9-30abb58dd3d3"
      },
      "source": [
        "def get_cross_val_scores_knn_parametric(parameter_name, parameter_values, **kwargs):\n",
        "    scores = {}\n",
        "    params = {}\n",
        "    params.update(kwargs)\n",
        "    print(\"testing parameters:\", kwargs)\n",
        "    for test_value in parameter_values:\n",
        "        params[parameter_name] = test_value\n",
        "        clf  = KNeighborsClassifier(**params)\n",
        "        clf.fit(X, y)\n",
        "        scores[test_value] = cross_val_score(clf, X, y, cv=KFold(n_splits = 5, shuffle = True, random_state = 42), scoring='neg_mean_squared_error')\n",
        "    return scores\n",
        "\n",
        "parameter_name = 'p'\n",
        "parameter_values = np.linspace(1, 10, 200)\n",
        "model_parameters = {'n_neighbors': 5, 'weights': 'distance', 'metric': 'minkowski'}\n",
        "result = get_cross_val_scores_knn_parametric(parameter_name, parameter_values, **model_parameters)"
      ],
      "execution_count": 192,
      "outputs": [
        {
          "output_type": "stream",
          "text": [
            "testing parameters: {'n_neighbors': 5, 'weights': 'distance', 'metric': 'minkowski'}\n"
          ],
          "name": "stdout"
        }
      ]
    },
    {
      "cell_type": "code",
      "metadata": {
        "id": "0m1SOXfzDuYM",
        "colab_type": "code",
        "colab": {}
      },
      "source": [
        "df_scores = pd.DataFrame(result).T"
      ],
      "execution_count": 0,
      "outputs": []
    },
    {
      "cell_type": "code",
      "metadata": {
        "id": "CGZ0jJxLHY1n",
        "colab_type": "code",
        "colab": {}
      },
      "source": [
        "df_scores = df_scores.mean(axis=1)"
      ],
      "execution_count": 0,
      "outputs": []
    },
    {
      "cell_type": "code",
      "metadata": {
        "id": "dwy1VUbYDutM",
        "colab_type": "code",
        "colab": {
          "base_uri": "https://localhost:8080/",
          "height": 33
        },
        "outputId": "49debaba-79e0-4f17-9fc3-6f66affad9ec"
      },
      "source": [
        "df_scores.idxmax(), df_scores[df_scores.idxmax()]"
      ],
      "execution_count": 210,
      "outputs": [
        {
          "output_type": "execute_result",
          "data": {
            "text/plain": [
              "(1.0452261306532664, -746.4670743544942)"
            ]
          },
          "metadata": {
            "tags": []
          },
          "execution_count": 210
        }
      ]
    }
  ]
}