{
  "nbformat": 4,
  "nbformat_minor": 0,
  "metadata": {
    "colab": {
      "name": "Coursera_HSE_Intro_ML_week_2_tasks.ipynb",
      "provenance": [],
      "collapsed_sections": []
    },
    "kernelspec": {
      "name": "python3",
      "display_name": "Python 3"
    }
  },
  "cells": [
    {
      "cell_type": "code",
      "metadata": {
        "id": "pnxQeQ-AL--0",
        "colab_type": "code",
        "colab": {}
      },
      "source": [
        "import pandas as pd\n",
        "import numpy as np\n",
        "from sklearn import datasets\n",
        "from sklearn.model_selection import cross_val_score, KFold\n",
        "from sklearn import preprocessing as prep\n",
        "from sklearn import utils"
      ],
      "execution_count": 0,
      "outputs": []
    },
    {
      "cell_type": "code",
      "metadata": {
        "id": "RJe_xHzUQFHb",
        "colab_type": "code",
        "colab": {}
      },
      "source": [
        "dataset_url = 'https://archive.ics.uci.edu/ml/machine-learning-databases/wine/wine.data'\n",
        "data = pd.read_csv(dataset_url,  header=None)"
      ],
      "execution_count": 0,
      "outputs": []
    },
    {
      "cell_type": "code",
      "metadata": {
        "id": "UlYTYcXVYND-",
        "colab_type": "code",
        "outputId": "7487a5e1-3e53-4fa6-e620-3043b355694a",
        "colab": {
          "base_uri": "https://localhost:8080/",
          "height": 251
        }
      },
      "source": [
        "feature_names_raw = \"\"\"1) Alcohol\n",
        "2) Malic acid\n",
        "3) Ash\n",
        "4) Alcalinity of ash\n",
        "5) Magnesium\n",
        "6) Total phenols\n",
        "7) Flavanoids\n",
        "8) Nonflavanoid phenols\n",
        "9) Proanthocyanins\n",
        "10)Color intensity\n",
        "11)Hue\n",
        "12)OD280/OD315 of diluted wines\n",
        "13)Proline\"\"\"\n",
        "feature_names = ['Class']\n",
        "for afeat in feature_names_raw.split('\\n'):\n",
        "    feature_names.append(afeat.replace(\") \",\")\").split(\")\")[1])\n",
        "\n",
        "feature_names"
      ],
      "execution_count": 119,
      "outputs": [
        {
          "output_type": "execute_result",
          "data": {
            "text/plain": [
              "['Class',\n",
              " 'Alcohol',\n",
              " 'Malic acid',\n",
              " 'Ash',\n",
              " 'Alcalinity of ash',\n",
              " 'Magnesium',\n",
              " 'Total phenols',\n",
              " 'Flavanoids',\n",
              " 'Nonflavanoid phenols',\n",
              " 'Proanthocyanins',\n",
              " 'Color intensity',\n",
              " 'Hue',\n",
              " 'OD280/OD315 of diluted wines',\n",
              " 'Proline']"
            ]
          },
          "metadata": {
            "tags": []
          },
          "execution_count": 119
        }
      ]
    },
    {
      "cell_type": "code",
      "metadata": {
        "id": "EueFXU6fQPLJ",
        "colab_type": "code",
        "outputId": "b12e95fd-b6a7-405e-9da2-79f33471a2c5",
        "colab": {
          "base_uri": "https://localhost:8080/",
          "height": 421
        }
      },
      "source": [
        "data.columns = feature_names\n",
        "data"
      ],
      "execution_count": 120,
      "outputs": [
        {
          "output_type": "execute_result",
          "data": {
            "text/html": [
              "<div>\n",
              "<style scoped>\n",
              "    .dataframe tbody tr th:only-of-type {\n",
              "        vertical-align: middle;\n",
              "    }\n",
              "\n",
              "    .dataframe tbody tr th {\n",
              "        vertical-align: top;\n",
              "    }\n",
              "\n",
              "    .dataframe thead th {\n",
              "        text-align: right;\n",
              "    }\n",
              "</style>\n",
              "<table border=\"1\" class=\"dataframe\">\n",
              "  <thead>\n",
              "    <tr style=\"text-align: right;\">\n",
              "      <th></th>\n",
              "      <th>Class</th>\n",
              "      <th>Alcohol</th>\n",
              "      <th>Malic acid</th>\n",
              "      <th>Ash</th>\n",
              "      <th>Alcalinity of ash</th>\n",
              "      <th>Magnesium</th>\n",
              "      <th>Total phenols</th>\n",
              "      <th>Flavanoids</th>\n",
              "      <th>Nonflavanoid phenols</th>\n",
              "      <th>Proanthocyanins</th>\n",
              "      <th>Color intensity</th>\n",
              "      <th>Hue</th>\n",
              "      <th>OD280/OD315 of diluted wines</th>\n",
              "      <th>Proline</th>\n",
              "    </tr>\n",
              "  </thead>\n",
              "  <tbody>\n",
              "    <tr>\n",
              "      <th>0</th>\n",
              "      <td>1</td>\n",
              "      <td>14.23</td>\n",
              "      <td>1.71</td>\n",
              "      <td>2.43</td>\n",
              "      <td>15.6</td>\n",
              "      <td>127</td>\n",
              "      <td>2.80</td>\n",
              "      <td>3.06</td>\n",
              "      <td>0.28</td>\n",
              "      <td>2.29</td>\n",
              "      <td>5.64</td>\n",
              "      <td>1.04</td>\n",
              "      <td>3.92</td>\n",
              "      <td>1065</td>\n",
              "    </tr>\n",
              "    <tr>\n",
              "      <th>1</th>\n",
              "      <td>1</td>\n",
              "      <td>13.20</td>\n",
              "      <td>1.78</td>\n",
              "      <td>2.14</td>\n",
              "      <td>11.2</td>\n",
              "      <td>100</td>\n",
              "      <td>2.65</td>\n",
              "      <td>2.76</td>\n",
              "      <td>0.26</td>\n",
              "      <td>1.28</td>\n",
              "      <td>4.38</td>\n",
              "      <td>1.05</td>\n",
              "      <td>3.40</td>\n",
              "      <td>1050</td>\n",
              "    </tr>\n",
              "    <tr>\n",
              "      <th>2</th>\n",
              "      <td>1</td>\n",
              "      <td>13.16</td>\n",
              "      <td>2.36</td>\n",
              "      <td>2.67</td>\n",
              "      <td>18.6</td>\n",
              "      <td>101</td>\n",
              "      <td>2.80</td>\n",
              "      <td>3.24</td>\n",
              "      <td>0.30</td>\n",
              "      <td>2.81</td>\n",
              "      <td>5.68</td>\n",
              "      <td>1.03</td>\n",
              "      <td>3.17</td>\n",
              "      <td>1185</td>\n",
              "    </tr>\n",
              "    <tr>\n",
              "      <th>3</th>\n",
              "      <td>1</td>\n",
              "      <td>14.37</td>\n",
              "      <td>1.95</td>\n",
              "      <td>2.50</td>\n",
              "      <td>16.8</td>\n",
              "      <td>113</td>\n",
              "      <td>3.85</td>\n",
              "      <td>3.49</td>\n",
              "      <td>0.24</td>\n",
              "      <td>2.18</td>\n",
              "      <td>7.80</td>\n",
              "      <td>0.86</td>\n",
              "      <td>3.45</td>\n",
              "      <td>1480</td>\n",
              "    </tr>\n",
              "    <tr>\n",
              "      <th>4</th>\n",
              "      <td>1</td>\n",
              "      <td>13.24</td>\n",
              "      <td>2.59</td>\n",
              "      <td>2.87</td>\n",
              "      <td>21.0</td>\n",
              "      <td>118</td>\n",
              "      <td>2.80</td>\n",
              "      <td>2.69</td>\n",
              "      <td>0.39</td>\n",
              "      <td>1.82</td>\n",
              "      <td>4.32</td>\n",
              "      <td>1.04</td>\n",
              "      <td>2.93</td>\n",
              "      <td>735</td>\n",
              "    </tr>\n",
              "    <tr>\n",
              "      <th>...</th>\n",
              "      <td>...</td>\n",
              "      <td>...</td>\n",
              "      <td>...</td>\n",
              "      <td>...</td>\n",
              "      <td>...</td>\n",
              "      <td>...</td>\n",
              "      <td>...</td>\n",
              "      <td>...</td>\n",
              "      <td>...</td>\n",
              "      <td>...</td>\n",
              "      <td>...</td>\n",
              "      <td>...</td>\n",
              "      <td>...</td>\n",
              "      <td>...</td>\n",
              "    </tr>\n",
              "    <tr>\n",
              "      <th>173</th>\n",
              "      <td>3</td>\n",
              "      <td>13.71</td>\n",
              "      <td>5.65</td>\n",
              "      <td>2.45</td>\n",
              "      <td>20.5</td>\n",
              "      <td>95</td>\n",
              "      <td>1.68</td>\n",
              "      <td>0.61</td>\n",
              "      <td>0.52</td>\n",
              "      <td>1.06</td>\n",
              "      <td>7.70</td>\n",
              "      <td>0.64</td>\n",
              "      <td>1.74</td>\n",
              "      <td>740</td>\n",
              "    </tr>\n",
              "    <tr>\n",
              "      <th>174</th>\n",
              "      <td>3</td>\n",
              "      <td>13.40</td>\n",
              "      <td>3.91</td>\n",
              "      <td>2.48</td>\n",
              "      <td>23.0</td>\n",
              "      <td>102</td>\n",
              "      <td>1.80</td>\n",
              "      <td>0.75</td>\n",
              "      <td>0.43</td>\n",
              "      <td>1.41</td>\n",
              "      <td>7.30</td>\n",
              "      <td>0.70</td>\n",
              "      <td>1.56</td>\n",
              "      <td>750</td>\n",
              "    </tr>\n",
              "    <tr>\n",
              "      <th>175</th>\n",
              "      <td>3</td>\n",
              "      <td>13.27</td>\n",
              "      <td>4.28</td>\n",
              "      <td>2.26</td>\n",
              "      <td>20.0</td>\n",
              "      <td>120</td>\n",
              "      <td>1.59</td>\n",
              "      <td>0.69</td>\n",
              "      <td>0.43</td>\n",
              "      <td>1.35</td>\n",
              "      <td>10.20</td>\n",
              "      <td>0.59</td>\n",
              "      <td>1.56</td>\n",
              "      <td>835</td>\n",
              "    </tr>\n",
              "    <tr>\n",
              "      <th>176</th>\n",
              "      <td>3</td>\n",
              "      <td>13.17</td>\n",
              "      <td>2.59</td>\n",
              "      <td>2.37</td>\n",
              "      <td>20.0</td>\n",
              "      <td>120</td>\n",
              "      <td>1.65</td>\n",
              "      <td>0.68</td>\n",
              "      <td>0.53</td>\n",
              "      <td>1.46</td>\n",
              "      <td>9.30</td>\n",
              "      <td>0.60</td>\n",
              "      <td>1.62</td>\n",
              "      <td>840</td>\n",
              "    </tr>\n",
              "    <tr>\n",
              "      <th>177</th>\n",
              "      <td>3</td>\n",
              "      <td>14.13</td>\n",
              "      <td>4.10</td>\n",
              "      <td>2.74</td>\n",
              "      <td>24.5</td>\n",
              "      <td>96</td>\n",
              "      <td>2.05</td>\n",
              "      <td>0.76</td>\n",
              "      <td>0.56</td>\n",
              "      <td>1.35</td>\n",
              "      <td>9.20</td>\n",
              "      <td>0.61</td>\n",
              "      <td>1.60</td>\n",
              "      <td>560</td>\n",
              "    </tr>\n",
              "  </tbody>\n",
              "</table>\n",
              "<p>178 rows × 14 columns</p>\n",
              "</div>"
            ],
            "text/plain": [
              "     Class  Alcohol  Malic acid  ...   Hue  OD280/OD315 of diluted wines  Proline\n",
              "0        1    14.23        1.71  ...  1.04                          3.92     1065\n",
              "1        1    13.20        1.78  ...  1.05                          3.40     1050\n",
              "2        1    13.16        2.36  ...  1.03                          3.17     1185\n",
              "3        1    14.37        1.95  ...  0.86                          3.45     1480\n",
              "4        1    13.24        2.59  ...  1.04                          2.93      735\n",
              "..     ...      ...         ...  ...   ...                           ...      ...\n",
              "173      3    13.71        5.65  ...  0.64                          1.74      740\n",
              "174      3    13.40        3.91  ...  0.70                          1.56      750\n",
              "175      3    13.27        4.28  ...  0.59                          1.56      835\n",
              "176      3    13.17        2.59  ...  0.60                          1.62      840\n",
              "177      3    14.13        4.10  ...  0.61                          1.60      560\n",
              "\n",
              "[178 rows x 14 columns]"
            ]
          },
          "metadata": {
            "tags": []
          },
          "execution_count": 120
        }
      ]
    },
    {
      "cell_type": "code",
      "metadata": {
        "id": "YuFjX78nT6Qp",
        "colab_type": "code",
        "colab": {}
      },
      "source": [
        "def get_outliers_count(data, outliers_level = 2):\n",
        "    feature_names = data.columns\n",
        "    params = {afeat:{'median':data[afeat].median(),'count':0} for afeat in feature_names}\n",
        "    for afeat in feature_names:\n",
        "        params[afeat]['count'] = data[afeat].apply(lambda x: 0 if x < params[afeat]['median']*outliers_level else 1).sum()\n",
        "        print(afeat, params[afeat]['count'])\n"
      ],
      "execution_count": 0,
      "outputs": []
    },
    {
      "cell_type": "code",
      "metadata": {
        "id": "Tv7DqCc-aERi",
        "colab_type": "code",
        "outputId": "b5949c19-9fdc-42a9-c60d-84e14c08db06",
        "colab": {
          "base_uri": "https://localhost:8080/",
          "height": 251
        }
      },
      "source": [
        "get_outliers_count(data, 2)"
      ],
      "execution_count": 122,
      "outputs": [
        {
          "output_type": "stream",
          "text": [
            "Class 0\n",
            "Alcohol 0\n",
            "Malic acid 28\n",
            "Ash 0\n",
            "Alcalinity of ash 0\n",
            "Magnesium 0\n",
            "Total phenols 0\n",
            "Flavanoids 1\n",
            "Nonflavanoid phenols 0\n",
            "Proanthocyanins 2\n",
            "Color intensity 11\n",
            "Hue 0\n",
            "OD280/OD315 of diluted wines 0\n",
            "Proline 7\n"
          ],
          "name": "stdout"
        }
      ]
    },
    {
      "cell_type": "code",
      "metadata": {
        "id": "Qj17iV4BN1_X",
        "colab_type": "code",
        "outputId": "08cc88b9-e2ec-4200-a884-05ae6a7f8b58",
        "colab": {
          "base_uri": "https://localhost:8080/",
          "height": 33
        }
      },
      "source": [
        "X = data.drop(['Class'], axis=1)\n",
        "y= data.Class\n",
        "X.shape, y.shape"
      ],
      "execution_count": 123,
      "outputs": [
        {
          "output_type": "execute_result",
          "data": {
            "text/plain": [
              "((178, 13), (178,))"
            ]
          },
          "metadata": {
            "tags": []
          },
          "execution_count": 123
        }
      ]
    },
    {
      "cell_type": "code",
      "metadata": {
        "id": "y0AbyJAlN8N6",
        "colab_type": "code",
        "outputId": "205d4ffb-0cfb-471a-b51e-059c7a2c1e6e",
        "colab": {
          "base_uri": "https://localhost:8080/",
          "height": 67
        }
      },
      "source": [
        "from sklearn.neighbors import KNeighborsClassifier\n",
        "clf  = KNeighborsClassifier(n_neighbors=3)\n",
        "clf.fit(X, y)"
      ],
      "execution_count": 124,
      "outputs": [
        {
          "output_type": "execute_result",
          "data": {
            "text/plain": [
              "KNeighborsClassifier(algorithm='auto', leaf_size=30, metric='minkowski',\n",
              "                     metric_params=None, n_jobs=None, n_neighbors=3, p=2,\n",
              "                     weights='uniform')"
            ]
          },
          "metadata": {
            "tags": []
          },
          "execution_count": 124
        }
      ]
    },
    {
      "cell_type": "code",
      "metadata": {
        "id": "7JRVmomTP1Ni",
        "colab_type": "code",
        "colab": {}
      },
      "source": [
        "# from sklearn.model_selection import cross_val_score, KFold\n",
        "\n",
        "clf_kfold = KFold(n_splits = 5, shuffle = True, random_state = 42)\n",
        "\n",
        "\n",
        "scores = cross_val_score(clf, X, y, cv=KFold(n_splits = 5, shuffle = True, random_state = 42))"
      ],
      "execution_count": 0,
      "outputs": []
    },
    {
      "cell_type": "code",
      "metadata": {
        "id": "ycweaWt8QGAZ",
        "colab_type": "code",
        "colab": {}
      },
      "source": [
        "def get_cross_val_scores_knn(n_neighbors):\n",
        "    scores = {}\n",
        "    for neighbors in range(1,n_neighbors+1):\n",
        "        clf  = KNeighborsClassifier(n_neighbors=neighbors)\n",
        "        clf.fit(X, y)\n",
        "        scores[neighbors] = cross_val_score(clf, X, y, cv=KFold(n_splits = 5, shuffle = True, random_state = 42))\n",
        "    return scores"
      ],
      "execution_count": 0,
      "outputs": []
    },
    {
      "cell_type": "code",
      "metadata": {
        "id": "BJbLVrwpTaAg",
        "colab_type": "code",
        "colab": {}
      },
      "source": [
        "scores = get_cross_val_scores_knn(50)\n",
        "df_scores = pd.DataFrame(scores).T.mean(axis=1)"
      ],
      "execution_count": 0,
      "outputs": []
    },
    {
      "cell_type": "code",
      "metadata": {
        "id": "S_L5MVdzTeK6",
        "colab_type": "code",
        "outputId": "71b58693-57b1-43a4-f742-24691fe2f3ac",
        "colab": {
          "base_uri": "https://localhost:8080/",
          "height": 33
        }
      },
      "source": [
        "df_scores.idxmax(), df_scores[df_scores.idxmax()]"
      ],
      "execution_count": 128,
      "outputs": [
        {
          "output_type": "execute_result",
          "data": {
            "text/plain": [
              "(1, 0.7304761904761905)"
            ]
          },
          "metadata": {
            "tags": []
          },
          "execution_count": 128
        }
      ]
    },
    {
      "cell_type": "code",
      "metadata": {
        "id": "5ejfCCG7apVL",
        "colab_type": "code",
        "outputId": "b3ba4f36-8a18-4b30-baee-ac959f006430",
        "colab": {
          "base_uri": "https://localhost:8080/",
          "height": 421
        }
      },
      "source": [
        "X"
      ],
      "execution_count": 129,
      "outputs": [
        {
          "output_type": "execute_result",
          "data": {
            "text/html": [
              "<div>\n",
              "<style scoped>\n",
              "    .dataframe tbody tr th:only-of-type {\n",
              "        vertical-align: middle;\n",
              "    }\n",
              "\n",
              "    .dataframe tbody tr th {\n",
              "        vertical-align: top;\n",
              "    }\n",
              "\n",
              "    .dataframe thead th {\n",
              "        text-align: right;\n",
              "    }\n",
              "</style>\n",
              "<table border=\"1\" class=\"dataframe\">\n",
              "  <thead>\n",
              "    <tr style=\"text-align: right;\">\n",
              "      <th></th>\n",
              "      <th>Alcohol</th>\n",
              "      <th>Malic acid</th>\n",
              "      <th>Ash</th>\n",
              "      <th>Alcalinity of ash</th>\n",
              "      <th>Magnesium</th>\n",
              "      <th>Total phenols</th>\n",
              "      <th>Flavanoids</th>\n",
              "      <th>Nonflavanoid phenols</th>\n",
              "      <th>Proanthocyanins</th>\n",
              "      <th>Color intensity</th>\n",
              "      <th>Hue</th>\n",
              "      <th>OD280/OD315 of diluted wines</th>\n",
              "      <th>Proline</th>\n",
              "    </tr>\n",
              "  </thead>\n",
              "  <tbody>\n",
              "    <tr>\n",
              "      <th>0</th>\n",
              "      <td>14.23</td>\n",
              "      <td>1.71</td>\n",
              "      <td>2.43</td>\n",
              "      <td>15.6</td>\n",
              "      <td>127</td>\n",
              "      <td>2.80</td>\n",
              "      <td>3.06</td>\n",
              "      <td>0.28</td>\n",
              "      <td>2.29</td>\n",
              "      <td>5.64</td>\n",
              "      <td>1.04</td>\n",
              "      <td>3.92</td>\n",
              "      <td>1065</td>\n",
              "    </tr>\n",
              "    <tr>\n",
              "      <th>1</th>\n",
              "      <td>13.20</td>\n",
              "      <td>1.78</td>\n",
              "      <td>2.14</td>\n",
              "      <td>11.2</td>\n",
              "      <td>100</td>\n",
              "      <td>2.65</td>\n",
              "      <td>2.76</td>\n",
              "      <td>0.26</td>\n",
              "      <td>1.28</td>\n",
              "      <td>4.38</td>\n",
              "      <td>1.05</td>\n",
              "      <td>3.40</td>\n",
              "      <td>1050</td>\n",
              "    </tr>\n",
              "    <tr>\n",
              "      <th>2</th>\n",
              "      <td>13.16</td>\n",
              "      <td>2.36</td>\n",
              "      <td>2.67</td>\n",
              "      <td>18.6</td>\n",
              "      <td>101</td>\n",
              "      <td>2.80</td>\n",
              "      <td>3.24</td>\n",
              "      <td>0.30</td>\n",
              "      <td>2.81</td>\n",
              "      <td>5.68</td>\n",
              "      <td>1.03</td>\n",
              "      <td>3.17</td>\n",
              "      <td>1185</td>\n",
              "    </tr>\n",
              "    <tr>\n",
              "      <th>3</th>\n",
              "      <td>14.37</td>\n",
              "      <td>1.95</td>\n",
              "      <td>2.50</td>\n",
              "      <td>16.8</td>\n",
              "      <td>113</td>\n",
              "      <td>3.85</td>\n",
              "      <td>3.49</td>\n",
              "      <td>0.24</td>\n",
              "      <td>2.18</td>\n",
              "      <td>7.80</td>\n",
              "      <td>0.86</td>\n",
              "      <td>3.45</td>\n",
              "      <td>1480</td>\n",
              "    </tr>\n",
              "    <tr>\n",
              "      <th>4</th>\n",
              "      <td>13.24</td>\n",
              "      <td>2.59</td>\n",
              "      <td>2.87</td>\n",
              "      <td>21.0</td>\n",
              "      <td>118</td>\n",
              "      <td>2.80</td>\n",
              "      <td>2.69</td>\n",
              "      <td>0.39</td>\n",
              "      <td>1.82</td>\n",
              "      <td>4.32</td>\n",
              "      <td>1.04</td>\n",
              "      <td>2.93</td>\n",
              "      <td>735</td>\n",
              "    </tr>\n",
              "    <tr>\n",
              "      <th>...</th>\n",
              "      <td>...</td>\n",
              "      <td>...</td>\n",
              "      <td>...</td>\n",
              "      <td>...</td>\n",
              "      <td>...</td>\n",
              "      <td>...</td>\n",
              "      <td>...</td>\n",
              "      <td>...</td>\n",
              "      <td>...</td>\n",
              "      <td>...</td>\n",
              "      <td>...</td>\n",
              "      <td>...</td>\n",
              "      <td>...</td>\n",
              "    </tr>\n",
              "    <tr>\n",
              "      <th>173</th>\n",
              "      <td>13.71</td>\n",
              "      <td>5.65</td>\n",
              "      <td>2.45</td>\n",
              "      <td>20.5</td>\n",
              "      <td>95</td>\n",
              "      <td>1.68</td>\n",
              "      <td>0.61</td>\n",
              "      <td>0.52</td>\n",
              "      <td>1.06</td>\n",
              "      <td>7.70</td>\n",
              "      <td>0.64</td>\n",
              "      <td>1.74</td>\n",
              "      <td>740</td>\n",
              "    </tr>\n",
              "    <tr>\n",
              "      <th>174</th>\n",
              "      <td>13.40</td>\n",
              "      <td>3.91</td>\n",
              "      <td>2.48</td>\n",
              "      <td>23.0</td>\n",
              "      <td>102</td>\n",
              "      <td>1.80</td>\n",
              "      <td>0.75</td>\n",
              "      <td>0.43</td>\n",
              "      <td>1.41</td>\n",
              "      <td>7.30</td>\n",
              "      <td>0.70</td>\n",
              "      <td>1.56</td>\n",
              "      <td>750</td>\n",
              "    </tr>\n",
              "    <tr>\n",
              "      <th>175</th>\n",
              "      <td>13.27</td>\n",
              "      <td>4.28</td>\n",
              "      <td>2.26</td>\n",
              "      <td>20.0</td>\n",
              "      <td>120</td>\n",
              "      <td>1.59</td>\n",
              "      <td>0.69</td>\n",
              "      <td>0.43</td>\n",
              "      <td>1.35</td>\n",
              "      <td>10.20</td>\n",
              "      <td>0.59</td>\n",
              "      <td>1.56</td>\n",
              "      <td>835</td>\n",
              "    </tr>\n",
              "    <tr>\n",
              "      <th>176</th>\n",
              "      <td>13.17</td>\n",
              "      <td>2.59</td>\n",
              "      <td>2.37</td>\n",
              "      <td>20.0</td>\n",
              "      <td>120</td>\n",
              "      <td>1.65</td>\n",
              "      <td>0.68</td>\n",
              "      <td>0.53</td>\n",
              "      <td>1.46</td>\n",
              "      <td>9.30</td>\n",
              "      <td>0.60</td>\n",
              "      <td>1.62</td>\n",
              "      <td>840</td>\n",
              "    </tr>\n",
              "    <tr>\n",
              "      <th>177</th>\n",
              "      <td>14.13</td>\n",
              "      <td>4.10</td>\n",
              "      <td>2.74</td>\n",
              "      <td>24.5</td>\n",
              "      <td>96</td>\n",
              "      <td>2.05</td>\n",
              "      <td>0.76</td>\n",
              "      <td>0.56</td>\n",
              "      <td>1.35</td>\n",
              "      <td>9.20</td>\n",
              "      <td>0.61</td>\n",
              "      <td>1.60</td>\n",
              "      <td>560</td>\n",
              "    </tr>\n",
              "  </tbody>\n",
              "</table>\n",
              "<p>178 rows × 13 columns</p>\n",
              "</div>"
            ],
            "text/plain": [
              "     Alcohol  Malic acid   Ash  ...   Hue  OD280/OD315 of diluted wines  Proline\n",
              "0      14.23        1.71  2.43  ...  1.04                          3.92     1065\n",
              "1      13.20        1.78  2.14  ...  1.05                          3.40     1050\n",
              "2      13.16        2.36  2.67  ...  1.03                          3.17     1185\n",
              "3      14.37        1.95  2.50  ...  0.86                          3.45     1480\n",
              "4      13.24        2.59  2.87  ...  1.04                          2.93      735\n",
              "..       ...         ...   ...  ...   ...                           ...      ...\n",
              "173    13.71        5.65  2.45  ...  0.64                          1.74      740\n",
              "174    13.40        3.91  2.48  ...  0.70                          1.56      750\n",
              "175    13.27        4.28  2.26  ...  0.59                          1.56      835\n",
              "176    13.17        2.59  2.37  ...  0.60                          1.62      840\n",
              "177    14.13        4.10  2.74  ...  0.61                          1.60      560\n",
              "\n",
              "[178 rows x 13 columns]"
            ]
          },
          "metadata": {
            "tags": []
          },
          "execution_count": 129
        }
      ]
    },
    {
      "cell_type": "code",
      "metadata": {
        "id": "pKuNDumOTxfS",
        "colab_type": "code",
        "colab": {}
      },
      "source": [
        "X_old = X.copy()\n",
        "from sklearn import preprocessing\n",
        "X = pd.DataFrame(preprocessing.scale(X), columns=X_old.columns)\n"
      ],
      "execution_count": 0,
      "outputs": []
    },
    {
      "cell_type": "code",
      "metadata": {
        "id": "AANbWyf2ZNt_",
        "colab_type": "code",
        "colab": {}
      },
      "source": [
        "scores = get_cross_val_scores_knn(50)\n",
        "df_scores = pd.DataFrame(scores).T.mean(axis=1)"
      ],
      "execution_count": 0,
      "outputs": []
    },
    {
      "cell_type": "code",
      "metadata": {
        "id": "4WuZxReRa-e0",
        "colab_type": "code",
        "outputId": "3d93307d-a375-4688-94a6-13589d6175bb",
        "colab": {
          "base_uri": "https://localhost:8080/",
          "height": 33
        }
      },
      "source": [
        "df_scores.idxmax(), df_scores[df_scores.idxmax()]"
      ],
      "execution_count": 132,
      "outputs": [
        {
          "output_type": "execute_result",
          "data": {
            "text/plain": [
              "(29, 0.9776190476190475)"
            ]
          },
          "metadata": {
            "tags": []
          },
          "execution_count": 132
        }
      ]
    },
    {
      "cell_type": "code",
      "metadata": {
        "id": "euMr89R7a-2M",
        "colab_type": "code",
        "colab": {}
      },
      "source": [
        "# from sklearn import datasets\n",
        "data = datasets.load_boston()"
      ],
      "execution_count": 0,
      "outputs": []
    },
    {
      "cell_type": "code",
      "metadata": {
        "id": "u1RZ33eu981R",
        "colab_type": "code",
        "outputId": "648423ae-78fe-497b-baa0-96480b090e98",
        "colab": {
          "base_uri": "https://localhost:8080/",
          "height": 890
        }
      },
      "source": [
        "print(data.DESCR)"
      ],
      "execution_count": 134,
      "outputs": [
        {
          "output_type": "stream",
          "text": [
            ".. _boston_dataset:\n",
            "\n",
            "Boston house prices dataset\n",
            "---------------------------\n",
            "\n",
            "**Data Set Characteristics:**  \n",
            "\n",
            "    :Number of Instances: 506 \n",
            "\n",
            "    :Number of Attributes: 13 numeric/categorical predictive. Median Value (attribute 14) is usually the target.\n",
            "\n",
            "    :Attribute Information (in order):\n",
            "        - CRIM     per capita crime rate by town\n",
            "        - ZN       proportion of residential land zoned for lots over 25,000 sq.ft.\n",
            "        - INDUS    proportion of non-retail business acres per town\n",
            "        - CHAS     Charles River dummy variable (= 1 if tract bounds river; 0 otherwise)\n",
            "        - NOX      nitric oxides concentration (parts per 10 million)\n",
            "        - RM       average number of rooms per dwelling\n",
            "        - AGE      proportion of owner-occupied units built prior to 1940\n",
            "        - DIS      weighted distances to five Boston employment centres\n",
            "        - RAD      index of accessibility to radial highways\n",
            "        - TAX      full-value property-tax rate per $10,000\n",
            "        - PTRATIO  pupil-teacher ratio by town\n",
            "        - B        1000(Bk - 0.63)^2 where Bk is the proportion of blacks by town\n",
            "        - LSTAT    % lower status of the population\n",
            "        - MEDV     Median value of owner-occupied homes in $1000's\n",
            "\n",
            "    :Missing Attribute Values: None\n",
            "\n",
            "    :Creator: Harrison, D. and Rubinfeld, D.L.\n",
            "\n",
            "This is a copy of UCI ML housing dataset.\n",
            "https://archive.ics.uci.edu/ml/machine-learning-databases/housing/\n",
            "\n",
            "\n",
            "This dataset was taken from the StatLib library which is maintained at Carnegie Mellon University.\n",
            "\n",
            "The Boston house-price data of Harrison, D. and Rubinfeld, D.L. 'Hedonic\n",
            "prices and the demand for clean air', J. Environ. Economics & Management,\n",
            "vol.5, 81-102, 1978.   Used in Belsley, Kuh & Welsch, 'Regression diagnostics\n",
            "...', Wiley, 1980.   N.B. Various transformations are used in the table on\n",
            "pages 244-261 of the latter.\n",
            "\n",
            "The Boston house-price data has been used in many machine learning papers that address regression\n",
            "problems.   \n",
            "     \n",
            ".. topic:: References\n",
            "\n",
            "   - Belsley, Kuh & Welsch, 'Regression diagnostics: Identifying Influential Data and Sources of Collinearity', Wiley, 1980. 244-261.\n",
            "   - Quinlan,R. (1993). Combining Instance-Based and Model-Based Learning. In Proceedings on the Tenth International Conference of Machine Learning, 236-243, University of Massachusetts, Amherst. Morgan Kaufmann.\n",
            "\n"
          ],
          "name": "stdout"
        }
      ]
    },
    {
      "cell_type": "code",
      "metadata": {
        "id": "geMuwglj-Hra",
        "colab_type": "code",
        "outputId": "fd3b5ace-65b4-471b-fd9c-7f1a89e4b4d4",
        "colab": {
          "base_uri": "https://localhost:8080/",
          "height": 33
        }
      },
      "source": [
        "data.keys()"
      ],
      "execution_count": 135,
      "outputs": [
        {
          "output_type": "execute_result",
          "data": {
            "text/plain": [
              "dict_keys(['data', 'target', 'feature_names', 'DESCR', 'filename'])"
            ]
          },
          "metadata": {
            "tags": []
          },
          "execution_count": 135
        }
      ]
    },
    {
      "cell_type": "code",
      "metadata": {
        "id": "nDpHSKfr-TKK",
        "colab_type": "code",
        "colab": {}
      },
      "source": [
        "X = pd.DataFrame(data.data, columns=data.feature_names)\n",
        "y = pd.DataFrame(data.target, columns = ['Target'])"
      ],
      "execution_count": 0,
      "outputs": []
    },
    {
      "cell_type": "code",
      "metadata": {
        "id": "5v8dLlhU-aG4",
        "colab_type": "code",
        "outputId": "661b0f6f-fcd2-4467-f65d-83c9b464d6b9",
        "colab": {
          "base_uri": "https://localhost:8080/",
          "height": 196
        }
      },
      "source": [
        "X.head()"
      ],
      "execution_count": 137,
      "outputs": [
        {
          "output_type": "execute_result",
          "data": {
            "text/html": [
              "<div>\n",
              "<style scoped>\n",
              "    .dataframe tbody tr th:only-of-type {\n",
              "        vertical-align: middle;\n",
              "    }\n",
              "\n",
              "    .dataframe tbody tr th {\n",
              "        vertical-align: top;\n",
              "    }\n",
              "\n",
              "    .dataframe thead th {\n",
              "        text-align: right;\n",
              "    }\n",
              "</style>\n",
              "<table border=\"1\" class=\"dataframe\">\n",
              "  <thead>\n",
              "    <tr style=\"text-align: right;\">\n",
              "      <th></th>\n",
              "      <th>CRIM</th>\n",
              "      <th>ZN</th>\n",
              "      <th>INDUS</th>\n",
              "      <th>CHAS</th>\n",
              "      <th>NOX</th>\n",
              "      <th>RM</th>\n",
              "      <th>AGE</th>\n",
              "      <th>DIS</th>\n",
              "      <th>RAD</th>\n",
              "      <th>TAX</th>\n",
              "      <th>PTRATIO</th>\n",
              "      <th>B</th>\n",
              "      <th>LSTAT</th>\n",
              "    </tr>\n",
              "  </thead>\n",
              "  <tbody>\n",
              "    <tr>\n",
              "      <th>0</th>\n",
              "      <td>0.00632</td>\n",
              "      <td>18.0</td>\n",
              "      <td>2.31</td>\n",
              "      <td>0.0</td>\n",
              "      <td>0.538</td>\n",
              "      <td>6.575</td>\n",
              "      <td>65.2</td>\n",
              "      <td>4.0900</td>\n",
              "      <td>1.0</td>\n",
              "      <td>296.0</td>\n",
              "      <td>15.3</td>\n",
              "      <td>396.90</td>\n",
              "      <td>4.98</td>\n",
              "    </tr>\n",
              "    <tr>\n",
              "      <th>1</th>\n",
              "      <td>0.02731</td>\n",
              "      <td>0.0</td>\n",
              "      <td>7.07</td>\n",
              "      <td>0.0</td>\n",
              "      <td>0.469</td>\n",
              "      <td>6.421</td>\n",
              "      <td>78.9</td>\n",
              "      <td>4.9671</td>\n",
              "      <td>2.0</td>\n",
              "      <td>242.0</td>\n",
              "      <td>17.8</td>\n",
              "      <td>396.90</td>\n",
              "      <td>9.14</td>\n",
              "    </tr>\n",
              "    <tr>\n",
              "      <th>2</th>\n",
              "      <td>0.02729</td>\n",
              "      <td>0.0</td>\n",
              "      <td>7.07</td>\n",
              "      <td>0.0</td>\n",
              "      <td>0.469</td>\n",
              "      <td>7.185</td>\n",
              "      <td>61.1</td>\n",
              "      <td>4.9671</td>\n",
              "      <td>2.0</td>\n",
              "      <td>242.0</td>\n",
              "      <td>17.8</td>\n",
              "      <td>392.83</td>\n",
              "      <td>4.03</td>\n",
              "    </tr>\n",
              "    <tr>\n",
              "      <th>3</th>\n",
              "      <td>0.03237</td>\n",
              "      <td>0.0</td>\n",
              "      <td>2.18</td>\n",
              "      <td>0.0</td>\n",
              "      <td>0.458</td>\n",
              "      <td>6.998</td>\n",
              "      <td>45.8</td>\n",
              "      <td>6.0622</td>\n",
              "      <td>3.0</td>\n",
              "      <td>222.0</td>\n",
              "      <td>18.7</td>\n",
              "      <td>394.63</td>\n",
              "      <td>2.94</td>\n",
              "    </tr>\n",
              "    <tr>\n",
              "      <th>4</th>\n",
              "      <td>0.06905</td>\n",
              "      <td>0.0</td>\n",
              "      <td>2.18</td>\n",
              "      <td>0.0</td>\n",
              "      <td>0.458</td>\n",
              "      <td>7.147</td>\n",
              "      <td>54.2</td>\n",
              "      <td>6.0622</td>\n",
              "      <td>3.0</td>\n",
              "      <td>222.0</td>\n",
              "      <td>18.7</td>\n",
              "      <td>396.90</td>\n",
              "      <td>5.33</td>\n",
              "    </tr>\n",
              "  </tbody>\n",
              "</table>\n",
              "</div>"
            ],
            "text/plain": [
              "      CRIM    ZN  INDUS  CHAS    NOX  ...  RAD    TAX  PTRATIO       B  LSTAT\n",
              "0  0.00632  18.0   2.31   0.0  0.538  ...  1.0  296.0     15.3  396.90   4.98\n",
              "1  0.02731   0.0   7.07   0.0  0.469  ...  2.0  242.0     17.8  396.90   9.14\n",
              "2  0.02729   0.0   7.07   0.0  0.469  ...  2.0  242.0     17.8  392.83   4.03\n",
              "3  0.03237   0.0   2.18   0.0  0.458  ...  3.0  222.0     18.7  394.63   2.94\n",
              "4  0.06905   0.0   2.18   0.0  0.458  ...  3.0  222.0     18.7  396.90   5.33\n",
              "\n",
              "[5 rows x 13 columns]"
            ]
          },
          "metadata": {
            "tags": []
          },
          "execution_count": 137
        }
      ]
    },
    {
      "cell_type": "code",
      "metadata": {
        "id": "I9gqCy7a-peC",
        "colab_type": "code",
        "colab": {}
      },
      "source": [
        "X = pd.DataFrame(prep.scale(X), columns = data.feature_names)\n",
        "label_encoder = prep.LabelEncoder()\n",
        "y = label_encoder.fit_transform(y.Target)"
      ],
      "execution_count": 0,
      "outputs": []
    },
    {
      "cell_type": "code",
      "metadata": {
        "id": "fRdNPyWX-40g",
        "colab_type": "code",
        "outputId": "4e0dd369-c938-4162-a39b-578b72389711",
        "colab": {
          "base_uri": "https://localhost:8080/",
          "height": 33
        }
      },
      "source": [
        "print(utils.multiclass.type_of_target(y))"
      ],
      "execution_count": 139,
      "outputs": [
        {
          "output_type": "stream",
          "text": [
            "multiclass\n"
          ],
          "name": "stdout"
        }
      ]
    },
    {
      "cell_type": "code",
      "metadata": {
        "id": "s1MhFLZF_G5i",
        "colab_type": "code",
        "outputId": "795d0eef-f934-4aa6-e4e6-99d6b1aa83df",
        "colab": {
          "base_uri": "https://localhost:8080/",
          "height": 389
        }
      },
      "source": [
        "X.describe()"
      ],
      "execution_count": 140,
      "outputs": [
        {
          "output_type": "execute_result",
          "data": {
            "text/html": [
              "<div>\n",
              "<style scoped>\n",
              "    .dataframe tbody tr th:only-of-type {\n",
              "        vertical-align: middle;\n",
              "    }\n",
              "\n",
              "    .dataframe tbody tr th {\n",
              "        vertical-align: top;\n",
              "    }\n",
              "\n",
              "    .dataframe thead th {\n",
              "        text-align: right;\n",
              "    }\n",
              "</style>\n",
              "<table border=\"1\" class=\"dataframe\">\n",
              "  <thead>\n",
              "    <tr style=\"text-align: right;\">\n",
              "      <th></th>\n",
              "      <th>CRIM</th>\n",
              "      <th>ZN</th>\n",
              "      <th>INDUS</th>\n",
              "      <th>CHAS</th>\n",
              "      <th>NOX</th>\n",
              "      <th>RM</th>\n",
              "      <th>AGE</th>\n",
              "      <th>DIS</th>\n",
              "      <th>RAD</th>\n",
              "      <th>TAX</th>\n",
              "      <th>PTRATIO</th>\n",
              "      <th>B</th>\n",
              "      <th>LSTAT</th>\n",
              "    </tr>\n",
              "  </thead>\n",
              "  <tbody>\n",
              "    <tr>\n",
              "      <th>count</th>\n",
              "      <td>5.060000e+02</td>\n",
              "      <td>5.060000e+02</td>\n",
              "      <td>5.060000e+02</td>\n",
              "      <td>5.060000e+02</td>\n",
              "      <td>5.060000e+02</td>\n",
              "      <td>5.060000e+02</td>\n",
              "      <td>5.060000e+02</td>\n",
              "      <td>5.060000e+02</td>\n",
              "      <td>5.060000e+02</td>\n",
              "      <td>5.060000e+02</td>\n",
              "      <td>5.060000e+02</td>\n",
              "      <td>5.060000e+02</td>\n",
              "      <td>5.060000e+02</td>\n",
              "    </tr>\n",
              "    <tr>\n",
              "      <th>mean</th>\n",
              "      <td>-8.787437e-17</td>\n",
              "      <td>-6.343191e-16</td>\n",
              "      <td>-2.682911e-15</td>\n",
              "      <td>4.701992e-16</td>\n",
              "      <td>2.490322e-15</td>\n",
              "      <td>-1.145230e-14</td>\n",
              "      <td>-1.407855e-15</td>\n",
              "      <td>9.210902e-16</td>\n",
              "      <td>5.441409e-16</td>\n",
              "      <td>-8.868619e-16</td>\n",
              "      <td>-9.205636e-15</td>\n",
              "      <td>8.163101e-15</td>\n",
              "      <td>-3.370163e-16</td>\n",
              "    </tr>\n",
              "    <tr>\n",
              "      <th>std</th>\n",
              "      <td>1.000990e+00</td>\n",
              "      <td>1.000990e+00</td>\n",
              "      <td>1.000990e+00</td>\n",
              "      <td>1.000990e+00</td>\n",
              "      <td>1.000990e+00</td>\n",
              "      <td>1.000990e+00</td>\n",
              "      <td>1.000990e+00</td>\n",
              "      <td>1.000990e+00</td>\n",
              "      <td>1.000990e+00</td>\n",
              "      <td>1.000990e+00</td>\n",
              "      <td>1.000990e+00</td>\n",
              "      <td>1.000990e+00</td>\n",
              "      <td>1.000990e+00</td>\n",
              "    </tr>\n",
              "    <tr>\n",
              "      <th>min</th>\n",
              "      <td>-4.197819e-01</td>\n",
              "      <td>-4.877224e-01</td>\n",
              "      <td>-1.557842e+00</td>\n",
              "      <td>-2.725986e-01</td>\n",
              "      <td>-1.465882e+00</td>\n",
              "      <td>-3.880249e+00</td>\n",
              "      <td>-2.335437e+00</td>\n",
              "      <td>-1.267069e+00</td>\n",
              "      <td>-9.828429e-01</td>\n",
              "      <td>-1.313990e+00</td>\n",
              "      <td>-2.707379e+00</td>\n",
              "      <td>-3.907193e+00</td>\n",
              "      <td>-1.531127e+00</td>\n",
              "    </tr>\n",
              "    <tr>\n",
              "      <th>25%</th>\n",
              "      <td>-4.109696e-01</td>\n",
              "      <td>-4.877224e-01</td>\n",
              "      <td>-8.676906e-01</td>\n",
              "      <td>-2.725986e-01</td>\n",
              "      <td>-9.130288e-01</td>\n",
              "      <td>-5.686303e-01</td>\n",
              "      <td>-8.374480e-01</td>\n",
              "      <td>-8.056878e-01</td>\n",
              "      <td>-6.379618e-01</td>\n",
              "      <td>-7.675760e-01</td>\n",
              "      <td>-4.880391e-01</td>\n",
              "      <td>2.050715e-01</td>\n",
              "      <td>-7.994200e-01</td>\n",
              "    </tr>\n",
              "    <tr>\n",
              "      <th>50%</th>\n",
              "      <td>-3.906665e-01</td>\n",
              "      <td>-4.877224e-01</td>\n",
              "      <td>-2.110985e-01</td>\n",
              "      <td>-2.725986e-01</td>\n",
              "      <td>-1.442174e-01</td>\n",
              "      <td>-1.084655e-01</td>\n",
              "      <td>3.173816e-01</td>\n",
              "      <td>-2.793234e-01</td>\n",
              "      <td>-5.230014e-01</td>\n",
              "      <td>-4.646726e-01</td>\n",
              "      <td>2.748590e-01</td>\n",
              "      <td>3.811865e-01</td>\n",
              "      <td>-1.812536e-01</td>\n",
              "    </tr>\n",
              "    <tr>\n",
              "      <th>75%</th>\n",
              "      <td>7.396560e-03</td>\n",
              "      <td>4.877224e-02</td>\n",
              "      <td>1.015999e+00</td>\n",
              "      <td>-2.725986e-01</td>\n",
              "      <td>5.986790e-01</td>\n",
              "      <td>4.827678e-01</td>\n",
              "      <td>9.067981e-01</td>\n",
              "      <td>6.623709e-01</td>\n",
              "      <td>1.661245e+00</td>\n",
              "      <td>1.530926e+00</td>\n",
              "      <td>8.065758e-01</td>\n",
              "      <td>4.336510e-01</td>\n",
              "      <td>6.030188e-01</td>\n",
              "    </tr>\n",
              "    <tr>\n",
              "      <th>max</th>\n",
              "      <td>9.933931e+00</td>\n",
              "      <td>3.804234e+00</td>\n",
              "      <td>2.422565e+00</td>\n",
              "      <td>3.668398e+00</td>\n",
              "      <td>2.732346e+00</td>\n",
              "      <td>3.555044e+00</td>\n",
              "      <td>1.117494e+00</td>\n",
              "      <td>3.960518e+00</td>\n",
              "      <td>1.661245e+00</td>\n",
              "      <td>1.798194e+00</td>\n",
              "      <td>1.638828e+00</td>\n",
              "      <td>4.410519e-01</td>\n",
              "      <td>3.548771e+00</td>\n",
              "    </tr>\n",
              "  </tbody>\n",
              "</table>\n",
              "</div>"
            ],
            "text/plain": [
              "               CRIM            ZN  ...             B         LSTAT\n",
              "count  5.060000e+02  5.060000e+02  ...  5.060000e+02  5.060000e+02\n",
              "mean  -8.787437e-17 -6.343191e-16  ...  8.163101e-15 -3.370163e-16\n",
              "std    1.000990e+00  1.000990e+00  ...  1.000990e+00  1.000990e+00\n",
              "min   -4.197819e-01 -4.877224e-01  ... -3.907193e+00 -1.531127e+00\n",
              "25%   -4.109696e-01 -4.877224e-01  ...  2.050715e-01 -7.994200e-01\n",
              "50%   -3.906665e-01 -4.877224e-01  ...  3.811865e-01 -1.812536e-01\n",
              "75%    7.396560e-03  4.877224e-02  ...  4.336510e-01  6.030188e-01\n",
              "max    9.933931e+00  3.804234e+00  ...  4.410519e-01  3.548771e+00\n",
              "\n",
              "[8 rows x 13 columns]"
            ]
          },
          "metadata": {
            "tags": []
          },
          "execution_count": 140
        }
      ]
    },
    {
      "cell_type": "code",
      "metadata": {
        "id": "SGhwpkVrDP9m",
        "colab_type": "code",
        "outputId": "f38fa4b7-605a-4de1-bfba-224565852598",
        "colab": {
          "base_uri": "https://localhost:8080/",
          "height": 669
        }
      },
      "source": [
        "y"
      ],
      "execution_count": 141,
      "outputs": [
        {
          "output_type": "execute_result",
          "data": {
            "text/plain": [
              "array([137, 113, 196, 193, 203, 165, 126, 156,  64,  87,  52,  87, 114,\n",
              "       102,  80,  97, 128,  73, 100,  80,  40,  94,  54,  48,  57,  42,\n",
              "        65,  50,  82, 108,  32,  48,  36,  35,  39,  87,  98, 108, 144,\n",
              "       176, 197, 153, 149, 144, 110,  91,  98,  65,  47,  92,  95, 103,\n",
              "       146, 131,  87, 200, 144, 181, 130,  94,  85,  59, 119, 146, 189,\n",
              "       132,  92, 117,  72, 107, 139, 114, 125, 131, 138, 111,  98, 106,\n",
              "       110, 101, 159, 136, 145, 126, 136, 153, 122, 119, 133, 165, 123,\n",
              "       117, 126, 146, 104, 162, 111, 211, 219, 191, 157, 152,  84,  91,\n",
              "        99,  93,  93, 102,  96,  92, 114, 125,  86,  85,  83,  81, 110,\n",
              "        90, 102,  91, 117, 101, 103,  71,  86, 111,  58,  61,  78,  46,\n",
              "        90,  94, 127,  82,  57,  79,  72,  69,  37,  76,  43,  47,  38,\n",
              "        57,  25,  41,  57,  49,  76,  56, 112,  94,  55,  92,  68,  57,\n",
              "        35, 213, 140, 130, 155, 228, 228, 228, 124, 146, 228, 135, 135,\n",
              "       120,  72,  89, 128, 133, 123, 168, 129, 143, 171, 207, 212, 203,\n",
              "       210, 186, 151, 169, 228, 183, 170, 197, 206, 174, 204, 178, 167,\n",
              "       228, 192, 173, 195, 197, 188, 138, 215, 226, 228, 123, 141, 122,\n",
              "       141,  98, 114,  91, 121, 160, 134, 146, 130, 165, 112, 127, 154,\n",
              "       114, 157, 172, 221, 228, 209, 181, 224, 180, 140, 182, 214, 225,\n",
              "       166, 137, 147, 180, 134, 130, 117,  99, 119, 134,  74,  83, 140,\n",
              "       103, 142, 150, 141, 145, 169, 216, 116, 107, 220, 228, 201, 172,\n",
              "       194, 217, 227, 177, 205, 125, 175, 228, 218, 105, 109, 148, 141,\n",
              "       199, 185, 183, 191, 190, 167, 198, 222, 200, 223, 228, 184, 117,\n",
              "        99, 129, 120, 145, 163, 208, 158, 136, 114, 164, 156, 101, 122,\n",
              "       166, 145, 117, 151, 190, 202, 162, 193, 161, 125, 101,  60, 118,\n",
              "        92, 113, 135,  61,  76,  96, 128, 108, 135, 128, 102,  83, 146,\n",
              "       143, 127, 119,  91, 123,  96,  69,  92, 119, 105, 109,  93,  83,\n",
              "       104,  88,  85, 187,  64, 136, 179,  73,  70, 128, 142, 153, 126,\n",
              "       138,  84, 172,  80, 104,  76, 114, 124, 123, 146,  97, 106,  67,\n",
              "       116, 157, 116, 128, 228, 228, 228, 228, 228,  41,  41,  52,  42,\n",
              "        37,  35,  16,  17,  20,  22,  29,  12,   4,  18,   5,  16,  23,\n",
              "        53, 129,  15,  41,  32,  35,  30,  10,   0,   2,   1,   4,  28,\n",
              "         8,  10,   0,  26, 158,  70, 157,  52,  70,  77,  62,   3,   4,\n",
              "         6,  17,  12,   9,  66,  45, 106,  38,  24,   8,  16,  20,  21,\n",
              "        13,  48,  44,  60,  46,  24,  38,  14,  11,   9,  33,  18,  69,\n",
              "        82,  56,  19,  25,  51,  31,  44,  34,  38,  54,  60,  76,  51,\n",
              "        44,  32,  39,  51,  98,  63,  75,  93, 100, 111,  97,  88,  89,\n",
              "        89,  99,  97,  94, 129, 170,  41,  37,  66,  27,  49, 111, 127,\n",
              "       134, 146, 115, 104, 110,  89, 104,  54,   3,   7,  40,  99, 115,\n",
              "       142, 128,  95,  81, 110,  73,  67, 121, 104, 136, 117,  26])"
            ]
          },
          "metadata": {
            "tags": []
          },
          "execution_count": 141
        }
      ]
    },
    {
      "cell_type": "code",
      "metadata": {
        "id": "KDgC9_Xk_Kld",
        "colab_type": "code",
        "outputId": "cdccce06-2727-439b-a257-5a1fb5924e59",
        "colab": {
          "base_uri": "https://localhost:8080/",
          "height": 33
        }
      },
      "source": [
        "def get_cross_val_scores_knn_parametric(parameter_name, parameter_values, **kwargs):\n",
        "    scores = {}\n",
        "    params = {}\n",
        "    params.update(kwargs)\n",
        "    print(\"testing parameters:\", kwargs)\n",
        "    for test_value in parameter_values:\n",
        "        params[parameter_name] = test_value\n",
        "        clf  = KNeighborsClassifier(**params)\n",
        "        clf.fit(X, y)\n",
        "        scores[test_value] = cross_val_score(clf, X, y, cv=KFold(n_splits = 5, shuffle = True, random_state = 42), scoring='neg_mean_squared_error')\n",
        "    return scores\n",
        "\n",
        "parameter_name = 'p'\n",
        "parameter_values = np.linspace(1, 10, 200)\n",
        "model_parameters = {'n_neighbors': 5, 'weights': 'distance', 'metric': 'minkowski'}\n",
        "result = get_cross_val_scores_knn_parametric(parameter_name, parameter_values, **model_parameters)"
      ],
      "execution_count": 142,
      "outputs": [
        {
          "output_type": "stream",
          "text": [
            "testing parameters: {'n_neighbors': 5, 'weights': 'distance', 'metric': 'minkowski'}\n"
          ],
          "name": "stdout"
        }
      ]
    },
    {
      "cell_type": "code",
      "metadata": {
        "id": "0m1SOXfzDuYM",
        "colab_type": "code",
        "colab": {}
      },
      "source": [
        "df_scores = pd.DataFrame(result).T"
      ],
      "execution_count": 0,
      "outputs": []
    },
    {
      "cell_type": "code",
      "metadata": {
        "id": "CGZ0jJxLHY1n",
        "colab_type": "code",
        "colab": {}
      },
      "source": [
        "df_scores = df_scores.mean(axis=1)"
      ],
      "execution_count": 0,
      "outputs": []
    },
    {
      "cell_type": "code",
      "metadata": {
        "id": "dwy1VUbYDutM",
        "colab_type": "code",
        "outputId": "685887ee-46b1-4c94-acf7-508683ddbba6",
        "colab": {
          "base_uri": "https://localhost:8080/",
          "height": 33
        }
      },
      "source": [
        "df_scores.idxmax(), df_scores[df_scores.idxmax()]"
      ],
      "execution_count": 145,
      "outputs": [
        {
          "output_type": "execute_result",
          "data": {
            "text/plain": [
              "(1.0452261306532664, -746.4670743544942)"
            ]
          },
          "metadata": {
            "tags": []
          },
          "execution_count": 145
        }
      ]
    },
    {
      "cell_type": "markdown",
      "metadata": {
        "id": "YwyXSqreJJ96",
        "colab_type": "text"
      },
      "source": [
        "#Features normalization"
      ]
    },
    {
      "cell_type": "code",
      "metadata": {
        "id": "Tzhc8MlSJQnD",
        "colab_type": "code",
        "colab": {}
      },
      "source": [
        "dataset_url = '/content/drive/My Drive/coursera/Week 2/perceptron-test.csv'\n",
        "test = pd.read_csv(dataset_url,  header=None)\n",
        "dataset_url = '/content/drive/My Drive/coursera/Week 2/perceptron-train.csv'\n",
        "train = pd.read_csv(dataset_url, header=None)"
      ],
      "execution_count": 0,
      "outputs": []
    },
    {
      "cell_type": "code",
      "metadata": {
        "id": "xV92NAN6YT-W",
        "colab_type": "code",
        "outputId": "7661b6b1-d1e3-476b-8039-4ef9ce4a997a",
        "colab": {
          "base_uri": "https://localhost:8080/",
          "height": 33
        }
      },
      "source": [
        "X_train = train.drop([0], axis = 1)\n",
        "X_test = test.drop([0], axis = 1)\n",
        "X_train.shape, X_test.shape"
      ],
      "execution_count": 147,
      "outputs": [
        {
          "output_type": "execute_result",
          "data": {
            "text/plain": [
              "((300, 2), (200, 2))"
            ]
          },
          "metadata": {
            "tags": []
          },
          "execution_count": 147
        }
      ]
    },
    {
      "cell_type": "code",
      "metadata": {
        "id": "bQTR-P_4YZq5",
        "colab_type": "code",
        "outputId": "4df530b5-6c9c-484d-c6c1-ab496ce5869a",
        "colab": {
          "base_uri": "https://localhost:8080/",
          "height": 33
        }
      },
      "source": [
        "y_train = train.loc[:, 0]\n",
        "y_test = test.loc[:, 0]\n",
        "y_train.shape, y_test.shape"
      ],
      "execution_count": 148,
      "outputs": [
        {
          "output_type": "execute_result",
          "data": {
            "text/plain": [
              "((300,), (200,))"
            ]
          },
          "metadata": {
            "tags": []
          },
          "execution_count": 148
        }
      ]
    },
    {
      "cell_type": "code",
      "metadata": {
        "id": "6l_8uUxpZL6K",
        "colab_type": "code",
        "colab": {
          "base_uri": "https://localhost:8080/",
          "height": 84
        },
        "outputId": "1bde0d90-af55-4e96-f315-bca57414d823"
      },
      "source": [
        "from sklearn.linear_model import Perceptron\n",
        "clf = Perceptron(random_state=241,max_iter=5, tol=None)\n",
        "clf.fit(X_train, y_train)"
      ],
      "execution_count": 164,
      "outputs": [
        {
          "output_type": "execute_result",
          "data": {
            "text/plain": [
              "Perceptron(alpha=0.0001, class_weight=None, early_stopping=False, eta0=1.0,\n",
              "           fit_intercept=True, max_iter=5, n_iter_no_change=5, n_jobs=None,\n",
              "           penalty=None, random_state=241, shuffle=True, tol=None,\n",
              "           validation_fraction=0.1, verbose=0, warm_start=False)"
            ]
          },
          "metadata": {
            "tags": []
          },
          "execution_count": 164
        }
      ]
    },
    {
      "cell_type": "code",
      "metadata": {
        "id": "2YqKrFKSbskM",
        "colab_type": "code",
        "outputId": "a11137aa-ac7d-488b-e7d3-22715bc26fd9",
        "colab": {
          "base_uri": "https://localhost:8080/",
          "height": 33
        }
      },
      "source": [
        "from sklearn.metrics import accuracy_score\n",
        "non_scaled_accuracy = accuracy_score(y_test, clf.predict(X_test))\n",
        "print(non_scaled_accuracy)"
      ],
      "execution_count": 165,
      "outputs": [
        {
          "output_type": "stream",
          "text": [
            "0.655\n"
          ],
          "name": "stdout"
        }
      ]
    },
    {
      "cell_type": "code",
      "metadata": {
        "id": "ol_B1pU3b-0z",
        "colab_type": "code",
        "colab": {}
      },
      "source": [
        "from sklearn.preprocessing import StandardScaler\n",
        "\n",
        "scaler = StandardScaler()\n",
        "X_train_scaled = scaler.fit_transform(X_train)\n",
        "X_test_scaled = scaler.transform(X_test)"
      ],
      "execution_count": 0,
      "outputs": []
    },
    {
      "cell_type": "code",
      "metadata": {
        "id": "-iT_fkpicSL8",
        "colab_type": "code",
        "colab": {
          "base_uri": "https://localhost:8080/",
          "height": 84
        },
        "outputId": "dfaef85d-36ed-4dea-a526-7b03cbfe2066"
      },
      "source": [
        "#clf = Perceptron(random_state=241,max_iter=5, tol=None)\n",
        "clf.fit(X_train_scaled, y_train)"
      ],
      "execution_count": 167,
      "outputs": [
        {
          "output_type": "execute_result",
          "data": {
            "text/plain": [
              "Perceptron(alpha=0.0001, class_weight=None, early_stopping=False, eta0=1.0,\n",
              "           fit_intercept=True, max_iter=5, n_iter_no_change=5, n_jobs=None,\n",
              "           penalty=None, random_state=241, shuffle=True, tol=None,\n",
              "           validation_fraction=0.1, verbose=0, warm_start=False)"
            ]
          },
          "metadata": {
            "tags": []
          },
          "execution_count": 167
        }
      ]
    },
    {
      "cell_type": "code",
      "metadata": {
        "id": "7yV-ovyVcggr",
        "colab_type": "code",
        "outputId": "89b52d01-b02e-4346-8bf4-5164b673bbb9",
        "colab": {
          "base_uri": "https://localhost:8080/",
          "height": 33
        }
      },
      "source": [
        "scaled_accuracy = accuracy_score(y_test, clf.predict(X_test_scaled))\n",
        "print(scaled_accuracy)"
      ],
      "execution_count": 168,
      "outputs": [
        {
          "output_type": "stream",
          "text": [
            "0.84\n"
          ],
          "name": "stdout"
        }
      ]
    },
    {
      "cell_type": "code",
      "metadata": {
        "id": "KhN04Tvmci05",
        "colab_type": "code",
        "outputId": "2063309a-b22f-4350-f046-c6949a011116",
        "colab": {
          "base_uri": "https://localhost:8080/",
          "height": 33
        }
      },
      "source": [
        "round(scaled_accuracy - non_scaled_accuracy, 3)"
      ],
      "execution_count": 169,
      "outputs": [
        {
          "output_type": "execute_result",
          "data": {
            "text/plain": [
              "0.185"
            ]
          },
          "metadata": {
            "tags": []
          },
          "execution_count": 169
        }
      ]
    },
    {
      "cell_type": "code",
      "metadata": {
        "id": "uQvr5K2RctDj",
        "colab_type": "code",
        "colab": {}
      },
      "source": [
        ""
      ],
      "execution_count": 0,
      "outputs": []
    }
  ]
}