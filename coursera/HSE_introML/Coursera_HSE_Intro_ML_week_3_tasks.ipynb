{
  "nbformat": 4,
  "nbformat_minor": 0,
  "metadata": {
    "colab": {
      "name": "Coursera_HSE_Intro_ML_week_3_tasks.ipynb",
      "provenance": [],
      "collapsed_sections": [],
      "toc_visible": true
    },
    "kernelspec": {
      "name": "python3",
      "display_name": "Python 3"
    }
  },
  "cells": [
    {
      "cell_type": "code",
      "metadata": {
        "id": "pnxQeQ-AL--0",
        "colab_type": "code",
        "colab": {}
      },
      "source": [
        "import pandas as pd\n",
        "import numpy as np\n",
        "from sklearn import datasets\n",
        "from sklearn.model_selection import cross_val_score, KFold\n",
        "from sklearn import preprocessing as prep\n",
        "from sklearn import utils\n",
        "from sklearn import svm\n",
        "from sklearn.model_selection import GridSearchCV\n",
        "import seaborn as sns\n",
        "from sklearn.metrics import accuracy_score, precision_score, recall_score, f1_score, precision_recall_curve"
      ],
      "execution_count": 0,
      "outputs": []
    },
    {
      "cell_type": "code",
      "metadata": {
        "id": "RJe_xHzUQFHb",
        "colab_type": "code",
        "colab": {}
      },
      "source": [
        "dataset_url = '/content/drive/My Drive/coursera/Week 3/svm-data.csv'\n",
        "data = pd.read_csv(dataset_url,  header=None)"
      ],
      "execution_count": 0,
      "outputs": []
    },
    {
      "cell_type": "code",
      "metadata": {
        "id": "UlYTYcXVYND-",
        "colab_type": "code",
        "outputId": "ac4bfe78-ab71-496e-d7df-0a7d09bdda65",
        "colab": {
          "base_uri": "https://localhost:8080/",
          "height": 345
        }
      },
      "source": [
        "data"
      ],
      "execution_count": 134,
      "outputs": [
        {
          "output_type": "execute_result",
          "data": {
            "text/html": [
              "<div>\n",
              "<style scoped>\n",
              "    .dataframe tbody tr th:only-of-type {\n",
              "        vertical-align: middle;\n",
              "    }\n",
              "\n",
              "    .dataframe tbody tr th {\n",
              "        vertical-align: top;\n",
              "    }\n",
              "\n",
              "    .dataframe thead th {\n",
              "        text-align: right;\n",
              "    }\n",
              "</style>\n",
              "<table border=\"1\" class=\"dataframe\">\n",
              "  <thead>\n",
              "    <tr style=\"text-align: right;\">\n",
              "      <th></th>\n",
              "      <th>0</th>\n",
              "      <th>1</th>\n",
              "      <th>2</th>\n",
              "    </tr>\n",
              "  </thead>\n",
              "  <tbody>\n",
              "    <tr>\n",
              "      <th>0</th>\n",
              "      <td>0.0</td>\n",
              "      <td>0.70</td>\n",
              "      <td>0.29</td>\n",
              "    </tr>\n",
              "    <tr>\n",
              "      <th>1</th>\n",
              "      <td>1.0</td>\n",
              "      <td>0.23</td>\n",
              "      <td>0.55</td>\n",
              "    </tr>\n",
              "    <tr>\n",
              "      <th>2</th>\n",
              "      <td>0.0</td>\n",
              "      <td>0.72</td>\n",
              "      <td>0.42</td>\n",
              "    </tr>\n",
              "    <tr>\n",
              "      <th>3</th>\n",
              "      <td>0.0</td>\n",
              "      <td>0.98</td>\n",
              "      <td>0.68</td>\n",
              "    </tr>\n",
              "    <tr>\n",
              "      <th>4</th>\n",
              "      <td>0.0</td>\n",
              "      <td>0.48</td>\n",
              "      <td>0.39</td>\n",
              "    </tr>\n",
              "    <tr>\n",
              "      <th>5</th>\n",
              "      <td>1.0</td>\n",
              "      <td>0.34</td>\n",
              "      <td>0.73</td>\n",
              "    </tr>\n",
              "    <tr>\n",
              "      <th>6</th>\n",
              "      <td>0.0</td>\n",
              "      <td>0.44</td>\n",
              "      <td>0.06</td>\n",
              "    </tr>\n",
              "    <tr>\n",
              "      <th>7</th>\n",
              "      <td>1.0</td>\n",
              "      <td>0.40</td>\n",
              "      <td>0.74</td>\n",
              "    </tr>\n",
              "    <tr>\n",
              "      <th>8</th>\n",
              "      <td>0.0</td>\n",
              "      <td>0.18</td>\n",
              "      <td>0.18</td>\n",
              "    </tr>\n",
              "    <tr>\n",
              "      <th>9</th>\n",
              "      <td>1.0</td>\n",
              "      <td>0.53</td>\n",
              "      <td>0.53</td>\n",
              "    </tr>\n",
              "  </tbody>\n",
              "</table>\n",
              "</div>"
            ],
            "text/plain": [
              "     0     1     2\n",
              "0  0.0  0.70  0.29\n",
              "1  1.0  0.23  0.55\n",
              "2  0.0  0.72  0.42\n",
              "3  0.0  0.98  0.68\n",
              "4  0.0  0.48  0.39\n",
              "5  1.0  0.34  0.73\n",
              "6  0.0  0.44  0.06\n",
              "7  1.0  0.40  0.74\n",
              "8  0.0  0.18  0.18\n",
              "9  1.0  0.53  0.53"
            ]
          },
          "metadata": {
            "tags": []
          },
          "execution_count": 134
        }
      ]
    },
    {
      "cell_type": "code",
      "metadata": {
        "id": "xV92NAN6YT-W",
        "colab_type": "code",
        "outputId": "73bbe13f-e718-46ce-c257-8c28297a4d52",
        "colab": {
          "base_uri": "https://localhost:8080/",
          "height": 33
        }
      },
      "source": [
        "X = data.drop([0], axis = 1)\n",
        "X.shape"
      ],
      "execution_count": 135,
      "outputs": [
        {
          "output_type": "execute_result",
          "data": {
            "text/plain": [
              "(10, 2)"
            ]
          },
          "metadata": {
            "tags": []
          },
          "execution_count": 135
        }
      ]
    },
    {
      "cell_type": "code",
      "metadata": {
        "id": "bQTR-P_4YZq5",
        "colab_type": "code",
        "outputId": "337cb119-031b-41d8-e56e-d3276247bffc",
        "colab": {
          "base_uri": "https://localhost:8080/",
          "height": 33
        }
      },
      "source": [
        "y = data.loc[:, 0]\n",
        "y.shape"
      ],
      "execution_count": 136,
      "outputs": [
        {
          "output_type": "execute_result",
          "data": {
            "text/plain": [
              "(10,)"
            ]
          },
          "metadata": {
            "tags": []
          },
          "execution_count": 136
        }
      ]
    },
    {
      "cell_type": "code",
      "metadata": {
        "id": "6l_8uUxpZL6K",
        "colab_type": "code",
        "outputId": "072521e0-067b-4b57-df3d-dd0bd6ce7a32",
        "colab": {
          "base_uri": "https://localhost:8080/",
          "height": 84
        }
      },
      "source": [
        "clf = svm.SVC(kernel='linear', C=100000, random_state=241)\n",
        "clf.fit(X, y)"
      ],
      "execution_count": 137,
      "outputs": [
        {
          "output_type": "execute_result",
          "data": {
            "text/plain": [
              "SVC(C=100000, break_ties=False, cache_size=200, class_weight=None, coef0=0.0,\n",
              "    decision_function_shape='ovr', degree=3, gamma='scale', kernel='linear',\n",
              "    max_iter=-1, probability=False, random_state=241, shrinking=True, tol=0.001,\n",
              "    verbose=False)"
            ]
          },
          "metadata": {
            "tags": []
          },
          "execution_count": 137
        }
      ]
    },
    {
      "cell_type": "code",
      "metadata": {
        "id": "2YqKrFKSbskM",
        "colab_type": "code",
        "outputId": "26495b3d-a035-40bd-9353-95ff76b7020a",
        "colab": {
          "base_uri": "https://localhost:8080/",
          "height": 33
        }
      },
      "source": [
        "clf.support_"
      ],
      "execution_count": 138,
      "outputs": [
        {
          "output_type": "execute_result",
          "data": {
            "text/plain": [
              "array([3, 4, 9], dtype=int32)"
            ]
          },
          "metadata": {
            "tags": []
          },
          "execution_count": 138
        }
      ]
    },
    {
      "cell_type": "markdown",
      "metadata": {
        "id": "YFohcup3-49q",
        "colab_type": "text"
      },
      "source": [
        "#Text analysis"
      ]
    },
    {
      "cell_type": "code",
      "metadata": {
        "id": "uQvr5K2RctDj",
        "colab_type": "code",
        "colab": {}
      },
      "source": [
        "from sklearn import datasets\n",
        "\n",
        "newsgroups = datasets.fetch_20newsgroups(\n",
        "                    subset='all', \n",
        "                    categories=['alt.atheism', 'sci.space']\n",
        "             )"
      ],
      "execution_count": 0,
      "outputs": []
    },
    {
      "cell_type": "code",
      "metadata": {
        "id": "T_pLCI7K-8Qw",
        "colab_type": "code",
        "colab": {}
      },
      "source": [
        " from sklearn.feature_extraction.text import TfidfVectorizer\n",
        " vectorizer = TfidfVectorizer()"
      ],
      "execution_count": 0,
      "outputs": []
    },
    {
      "cell_type": "code",
      "metadata": {
        "id": "1T9D-L_o_Jpc",
        "colab_type": "code",
        "colab": {}
      },
      "source": [
        "X = vectorizer.fit_transform(newsgroups.data)"
      ],
      "execution_count": 0,
      "outputs": []
    },
    {
      "cell_type": "code",
      "metadata": {
        "id": "l4mijbyh_Nv3",
        "colab_type": "code",
        "colab": {}
      },
      "source": [
        "y = newsgroups.target"
      ],
      "execution_count": 0,
      "outputs": []
    },
    {
      "cell_type": "code",
      "metadata": {
        "id": "otiZxGiqAFQs",
        "colab_type": "code",
        "outputId": "ec70f82d-5973-4134-a47e-e80540439d6d",
        "colab": {
          "base_uri": "https://localhost:8080/",
          "height": 33
        }
      },
      "source": [
        "# return words mapped into features\n",
        "feature_mapping = vectorizer.get_feature_names()\n",
        "print(len(feature_mapping))"
      ],
      "execution_count": 143,
      "outputs": [
        {
          "output_type": "stream",
          "text": [
            "28382\n"
          ],
          "name": "stdout"
        }
      ]
    },
    {
      "cell_type": "code",
      "metadata": {
        "id": "rxokqPzbAKlS",
        "colab_type": "code",
        "outputId": "a897f735-0647-4bf6-b57c-42cf7fc13c7c",
        "colab": {
          "base_uri": "https://localhost:8080/",
          "height": 50
        }
      },
      "source": [
        "%%time\n",
        "grid = {'C': np.power(10.0, np.arange(-5, 6))}\n",
        "cv = KFold(n_splits=5, shuffle=True, random_state=241)\n",
        "clf = svm.SVC(kernel='linear', random_state=241)\n",
        "gs = GridSearchCV(clf, grid, scoring='accuracy', cv=cv)\n",
        "gs.fit(X, y)"
      ],
      "execution_count": 144,
      "outputs": [
        {
          "output_type": "stream",
          "text": [
            "CPU times: user 2min 52s, sys: 63.5 ms, total: 2min 52s\n",
            "Wall time: 2min 52s\n"
          ],
          "name": "stdout"
        }
      ]
    },
    {
      "cell_type": "code",
      "metadata": {
        "id": "KJI_44O0Ehxt",
        "colab_type": "code",
        "outputId": "03cfd958-5108-47bd-8b9b-3587f66a8826",
        "colab": {
          "base_uri": "https://localhost:8080/",
          "height": 50
        }
      },
      "source": [
        "print(gs.cv_results_['mean_test_score'])"
      ],
      "execution_count": 145,
      "outputs": [
        {
          "output_type": "stream",
          "text": [
            "[0.55263603 0.55263603 0.55263603 0.55263603 0.95016353 0.99328044\n",
            " 0.99328044 0.99328044 0.99328044 0.99328044 0.99328044]\n"
          ],
          "name": "stdout"
        }
      ]
    },
    {
      "cell_type": "code",
      "metadata": {
        "id": "incyMNpsAoBH",
        "colab_type": "code",
        "outputId": "39b184e6-c765-4427-b65b-a85aea0a50ba",
        "colab": {
          "base_uri": "https://localhost:8080/",
          "height": 33
        }
      },
      "source": [
        "gs.best_params_"
      ],
      "execution_count": 146,
      "outputs": [
        {
          "output_type": "execute_result",
          "data": {
            "text/plain": [
              "{'C': 1.0}"
            ]
          },
          "metadata": {
            "tags": []
          },
          "execution_count": 146
        }
      ]
    },
    {
      "cell_type": "code",
      "metadata": {
        "id": "3RYq1jZmBHXa",
        "colab_type": "code",
        "outputId": "fea2265d-ab89-4706-c92f-4b1f05e74006",
        "colab": {
          "base_uri": "https://localhost:8080/",
          "height": 84
        }
      },
      "source": [
        "clf = svm.SVC(kernel='linear', C=1.0, random_state=241)\n",
        "clf.fit(X,y)"
      ],
      "execution_count": 147,
      "outputs": [
        {
          "output_type": "execute_result",
          "data": {
            "text/plain": [
              "SVC(C=1.0, break_ties=False, cache_size=200, class_weight=None, coef0=0.0,\n",
              "    decision_function_shape='ovr', degree=3, gamma='scale', kernel='linear',\n",
              "    max_iter=-1, probability=False, random_state=241, shrinking=True, tol=0.001,\n",
              "    verbose=False)"
            ]
          },
          "metadata": {
            "tags": []
          },
          "execution_count": 147
        }
      ]
    },
    {
      "cell_type": "code",
      "metadata": {
        "id": "ww6zRKYIBjaq",
        "colab_type": "code",
        "outputId": "fe215d30-5cfe-4157-e415-63294d30eb4b",
        "colab": {
          "base_uri": "https://localhost:8080/",
          "height": 50
        }
      },
      "source": [
        "for i in clf.coef_.toarray():\n",
        "    print(i)\n",
        "    break"
      ],
      "execution_count": 148,
      "outputs": [
        {
          "output_type": "stream",
          "text": [
            "[ 0.29258057 -0.12314757  0.         ...  0.01972862  0.05831336\n",
            " -0.00297347]\n"
          ],
          "name": "stdout"
        }
      ]
    },
    {
      "cell_type": "code",
      "metadata": {
        "id": "2psK6deGBm-Y",
        "colab_type": "code",
        "outputId": "4ea5b865-cb51-4cac-bdc4-2728219ca101",
        "colab": {
          "base_uri": "https://localhost:8080/",
          "height": 67
        }
      },
      "source": [
        "%%time\n",
        "sorted_coeffs = sorted(clf.coef_.todok().items(), key = lambda x: abs(x[1]))[-10:]\n",
        "words = map(feature_mapping.__getitem__, iter([x[0][1] for x in sorted_coeffs]))\n",
        "print(' '.join(sorted(words)))"
      ],
      "execution_count": 149,
      "outputs": [
        {
          "output_type": "stream",
          "text": [
            "atheism atheists bible god keith moon religion sci sky space\n",
            "CPU times: user 43 ms, sys: 1 ms, total: 44 ms\n",
            "Wall time: 47.4 ms\n"
          ],
          "name": "stdout"
        }
      ]
    },
    {
      "cell_type": "code",
      "metadata": {
        "id": "y3QPzauBDyet",
        "colab_type": "code",
        "outputId": "1370ab3c-75d3-4946-c5e1-ed56b5820486",
        "colab": {
          "base_uri": "https://localhost:8080/",
          "height": 50
        }
      },
      "source": [
        "#for afeature in reversed(sorted_coeffs):\n",
        "#    print(afeature[0][1], feature_mapping[afeature[0][1]])#, afeature[1])\n",
        "%time result_ok = np.argsort(np.abs(np.asarray(clf.coef_.todense())).reshape(-1))[-10:]"
      ],
      "execution_count": 150,
      "outputs": [
        {
          "output_type": "stream",
          "text": [
            "CPU times: user 5.13 ms, sys: 0 ns, total: 5.13 ms\n",
            "Wall time: 5.62 ms\n"
          ],
          "name": "stdout"
        }
      ]
    },
    {
      "cell_type": "code",
      "metadata": {
        "id": "yhq4hErIKtQE",
        "colab_type": "code",
        "outputId": "eba52464-12b6-4418-ed15-e57eecba7525",
        "colab": {
          "base_uri": "https://localhost:8080/",
          "height": 50
        }
      },
      "source": [
        "%%time\n",
        "word = pd.DataFrame(data=vectorizer.get_feature_names())\n",
        "coef = pd.DataFrame(data=np.abs(np.asarray(clf.coef_.todense()).reshape(-1)))\n",
        "data = pd.concat([word, coef], axis=1)\n",
        "data.columns = ['word', 'coef']\n",
        "data.sort_values(by=['coef'])[-10:]"
      ],
      "execution_count": 151,
      "outputs": [
        {
          "output_type": "stream",
          "text": [
            "CPU times: user 40.4 ms, sys: 0 ns, total: 40.4 ms\n",
            "Wall time: 42.6 ms\n"
          ],
          "name": "stdout"
        }
      ]
    },
    {
      "cell_type": "markdown",
      "metadata": {
        "id": "g556hH5rQYOA",
        "colab_type": "text"
      },
      "source": [
        "#Logistic regression"
      ]
    },
    {
      "cell_type": "code",
      "metadata": {
        "id": "hd9zWqupQZ43",
        "colab_type": "code",
        "colab": {}
      },
      "source": [
        "dataset_url = '/content/drive/My Drive/coursera/Week 3/data-logistic.csv'\n",
        "data = pd.read_csv(dataset_url,  header=None)"
      ],
      "execution_count": 0,
      "outputs": []
    },
    {
      "cell_type": "code",
      "metadata": {
        "id": "Y1OcEWGIVwVh",
        "colab_type": "code",
        "outputId": "163dfe90-3d5f-4a53-9709-10e668f69863",
        "colab": {
          "base_uri": "https://localhost:8080/",
          "height": 404
        }
      },
      "source": [
        "data"
      ],
      "execution_count": 153,
      "outputs": [
        {
          "output_type": "execute_result",
          "data": {
            "text/html": [
              "<div>\n",
              "<style scoped>\n",
              "    .dataframe tbody tr th:only-of-type {\n",
              "        vertical-align: middle;\n",
              "    }\n",
              "\n",
              "    .dataframe tbody tr th {\n",
              "        vertical-align: top;\n",
              "    }\n",
              "\n",
              "    .dataframe thead th {\n",
              "        text-align: right;\n",
              "    }\n",
              "</style>\n",
              "<table border=\"1\" class=\"dataframe\">\n",
              "  <thead>\n",
              "    <tr style=\"text-align: right;\">\n",
              "      <th></th>\n",
              "      <th>0</th>\n",
              "      <th>1</th>\n",
              "      <th>2</th>\n",
              "    </tr>\n",
              "  </thead>\n",
              "  <tbody>\n",
              "    <tr>\n",
              "      <th>0</th>\n",
              "      <td>-1</td>\n",
              "      <td>-0.663827</td>\n",
              "      <td>-0.138526</td>\n",
              "    </tr>\n",
              "    <tr>\n",
              "      <th>1</th>\n",
              "      <td>1</td>\n",
              "      <td>1.994596</td>\n",
              "      <td>2.468025</td>\n",
              "    </tr>\n",
              "    <tr>\n",
              "      <th>2</th>\n",
              "      <td>-1</td>\n",
              "      <td>-1.247395</td>\n",
              "      <td>0.749425</td>\n",
              "    </tr>\n",
              "    <tr>\n",
              "      <th>3</th>\n",
              "      <td>1</td>\n",
              "      <td>2.309374</td>\n",
              "      <td>1.899836</td>\n",
              "    </tr>\n",
              "    <tr>\n",
              "      <th>4</th>\n",
              "      <td>1</td>\n",
              "      <td>0.849143</td>\n",
              "      <td>2.407750</td>\n",
              "    </tr>\n",
              "    <tr>\n",
              "      <th>...</th>\n",
              "      <td>...</td>\n",
              "      <td>...</td>\n",
              "      <td>...</td>\n",
              "    </tr>\n",
              "    <tr>\n",
              "      <th>200</th>\n",
              "      <td>1</td>\n",
              "      <td>4.245176</td>\n",
              "      <td>3.053931</td>\n",
              "    </tr>\n",
              "    <tr>\n",
              "      <th>201</th>\n",
              "      <td>1</td>\n",
              "      <td>2.437935</td>\n",
              "      <td>1.357804</td>\n",
              "    </tr>\n",
              "    <tr>\n",
              "      <th>202</th>\n",
              "      <td>-1</td>\n",
              "      <td>-1.876638</td>\n",
              "      <td>1.533398</td>\n",
              "    </tr>\n",
              "    <tr>\n",
              "      <th>203</th>\n",
              "      <td>1</td>\n",
              "      <td>-6.824446</td>\n",
              "      <td>-13.934211</td>\n",
              "    </tr>\n",
              "    <tr>\n",
              "      <th>204</th>\n",
              "      <td>-1</td>\n",
              "      <td>0.001805</td>\n",
              "      <td>0.865147</td>\n",
              "    </tr>\n",
              "  </tbody>\n",
              "</table>\n",
              "<p>205 rows × 3 columns</p>\n",
              "</div>"
            ],
            "text/plain": [
              "     0         1          2\n",
              "0   -1 -0.663827  -0.138526\n",
              "1    1  1.994596   2.468025\n",
              "2   -1 -1.247395   0.749425\n",
              "3    1  2.309374   1.899836\n",
              "4    1  0.849143   2.407750\n",
              "..  ..       ...        ...\n",
              "200  1  4.245176   3.053931\n",
              "201  1  2.437935   1.357804\n",
              "202 -1 -1.876638   1.533398\n",
              "203  1 -6.824446 -13.934211\n",
              "204 -1  0.001805   0.865147\n",
              "\n",
              "[205 rows x 3 columns]"
            ]
          },
          "metadata": {
            "tags": []
          },
          "execution_count": 153
        }
      ]
    },
    {
      "cell_type": "code",
      "metadata": {
        "id": "qcVVc86lVxOO",
        "colab_type": "code",
        "outputId": "269abaf2-10a9-4bd8-d7c5-aade9c75e790",
        "colab": {
          "base_uri": "https://localhost:8080/",
          "height": 33
        }
      },
      "source": [
        "X = data.drop([0], axis = 1)\n",
        "X.shape"
      ],
      "execution_count": 154,
      "outputs": [
        {
          "output_type": "execute_result",
          "data": {
            "text/plain": [
              "(205, 2)"
            ]
          },
          "metadata": {
            "tags": []
          },
          "execution_count": 154
        }
      ]
    },
    {
      "cell_type": "code",
      "metadata": {
        "id": "3io2uG9dV0iX",
        "colab_type": "code",
        "outputId": "ef1943c7-3347-407c-e449-e6b0b7889ca3",
        "colab": {
          "base_uri": "https://localhost:8080/",
          "height": 33
        }
      },
      "source": [
        "y = data.loc[:, 0]\n",
        "y.shape"
      ],
      "execution_count": 155,
      "outputs": [
        {
          "output_type": "execute_result",
          "data": {
            "text/plain": [
              "(205,)"
            ]
          },
          "metadata": {
            "tags": []
          },
          "execution_count": 155
        }
      ]
    },
    {
      "cell_type": "code",
      "metadata": {
        "id": "HMIQjJhrYSY-",
        "colab_type": "code",
        "colab": {}
      },
      "source": [
        "def calc_gradient_w1(X: pd.DataFrame, y: pd.Series, w1: float, w2: float, k: float, C: float) -> float:\n",
        "    y_lenght = len(y)\n",
        "    sum_elements = 0\n",
        "    for i in range(y_lenght):\n",
        "        sum_elements += y[i] * X[1][i] * (1.0 - 1.0 / (1.0 + np.exp(-y[i] * (w1 * X[1][i] + w2 * X[2][i]))))\n",
        "    return w1 + k / y_lenght * sum_elements - k * C * w1\n",
        "\n",
        "def calc_gradient_w2(X: pd.DataFrame, y: pd.Series, w1: float, w2: float, k: float, C: float) -> float:\n",
        "    y_lenght = len(y)\n",
        "    sum_elements = 0\n",
        "    for i in range(y_lenght):\n",
        "        sum_elements += y[i] * X[2][i] * (1.0 - 1.0 / (1.0 + np.exp(-y[i] * (w1 * X[1][i] + w2 * X[2][i]))))\n",
        "    return w2 + k / y_lenght * sum_elements - k * C * w2"
      ],
      "execution_count": 0,
      "outputs": []
    },
    {
      "cell_type": "code",
      "metadata": {
        "id": "5b5rYFwsitu3",
        "colab_type": "code",
        "colab": {}
      },
      "source": [
        "def gradient_descent(X: pd.DataFrame, y: pd.Series, w1: float=0.0, w2: float=0.0, k: float=0.1, C: float=0.0,\n",
        "                     precision: float=1e-5, max_iterations: int=10000) -> [float, float]:\n",
        "    for i in range(max_iterations):\n",
        "        w1_previous, w2_previous = w1, w2\n",
        "        w1, w2 = calc_gradient_w1(X, y, w1, w2, k, C), calc_gradient_w2(X, y, w1, w2, k, C)\n",
        "        if np.sqrt((w1_previous-w1)**2 + (w2_previous-w2)**2)<=precision:\n",
        "            break\n",
        "    print(f'steps done: {i}')\n",
        "    return w1, w2"
      ],
      "execution_count": 0,
      "outputs": []
    },
    {
      "cell_type": "code",
      "metadata": {
        "id": "z_eGd9GsjYPb",
        "colab_type": "code",
        "outputId": "1d8356b1-2c79-4b35-9afe-bbe4f27e6bb1",
        "colab": {
          "base_uri": "https://localhost:8080/",
          "height": 50
        }
      },
      "source": [
        "w1, w2 = gradient_descent(X, y)\n",
        "w1_reg, w2_reg = gradient_descent(X, y, C=10.0)"
      ],
      "execution_count": 158,
      "outputs": [
        {
          "output_type": "stream",
          "text": [
            "steps done: 243\n",
            "steps done: 7\n"
          ],
          "name": "stdout"
        }
      ]
    },
    {
      "cell_type": "code",
      "metadata": {
        "id": "D3v43_i8vn8G",
        "colab_type": "code",
        "outputId": "535e7a38-3e39-4b27-d61c-7f0fed4ef77c",
        "colab": {
          "base_uri": "https://localhost:8080/",
          "height": 33
        }
      },
      "source": [
        "w1, w2"
      ],
      "execution_count": 159,
      "outputs": [
        {
          "output_type": "execute_result",
          "data": {
            "text/plain": [
              "(0.2878116204717764, 0.09198330215925439)"
            ]
          },
          "metadata": {
            "tags": []
          },
          "execution_count": 159
        }
      ]
    },
    {
      "cell_type": "code",
      "metadata": {
        "id": "S72dj-Yavpj4",
        "colab_type": "code",
        "outputId": "f84172e4-6f88-4259-cf49-339ae08289a8",
        "colab": {
          "base_uri": "https://localhost:8080/",
          "height": 33
        }
      },
      "source": [
        "w1_reg, w2_reg"
      ],
      "execution_count": 160,
      "outputs": [
        {
          "output_type": "execute_result",
          "data": {
            "text/plain": [
              "(0.028558754546234223, 0.02478013724973556)"
            ]
          },
          "metadata": {
            "tags": []
          },
          "execution_count": 160
        }
      ]
    },
    {
      "cell_type": "code",
      "metadata": {
        "id": "QBfg-FwUkoLk",
        "colab_type": "code",
        "colab": {}
      },
      "source": [
        "def gradient_probability(X: pd.DataFrame, w1, w2) -> pd.Series:\n",
        "    return 1.0 / (1.0 + np.exp(-w1 * X[1] - w2 * X[2]))"
      ],
      "execution_count": 0,
      "outputs": []
    },
    {
      "cell_type": "code",
      "metadata": {
        "id": "2frOEJjqk-o8",
        "colab_type": "code",
        "colab": {}
      },
      "source": [
        "y_pred = gradient_probability(X, w1, w2)\n",
        "y_pred_l2 = gradient_probability(X, w1_reg, w2_reg)"
      ],
      "execution_count": 0,
      "outputs": []
    },
    {
      "cell_type": "code",
      "metadata": {
        "id": "XVbbmpZ8vwr6",
        "colab_type": "code",
        "outputId": "cf9ebd3a-c09f-4321-c23b-81ca2d6994d8",
        "colab": {
          "base_uri": "https://localhost:8080/",
          "height": 217
        }
      },
      "source": [
        "y_pred - y_pred_l2"
      ],
      "execution_count": 163,
      "outputs": [
        {
          "output_type": "execute_result",
          "data": {
            "text/plain": [
              "0     -0.045177\n",
              "1      0.160710\n",
              "2     -0.067753\n",
              "3      0.170115\n",
              "4      0.093438\n",
              "         ...   \n",
              "200    0.268910\n",
              "201    0.169833\n",
              "202   -0.094565\n",
              "203   -0.330668\n",
              "204    0.014642\n",
              "Length: 205, dtype: float64"
            ]
          },
          "metadata": {
            "tags": []
          },
          "execution_count": 163
        }
      ]
    },
    {
      "cell_type": "code",
      "metadata": {
        "id": "_eFok3m5vLwe",
        "colab_type": "code",
        "outputId": "6bb015ab-a852-466b-ddde-2bf9842a7a02",
        "colab": {
          "base_uri": "https://localhost:8080/",
          "height": 33
        }
      },
      "source": [
        "from sklearn.metrics import roc_auc_score\n",
        "\n",
        "auc = roc_auc_score(y, y_pred)\n",
        "auc_l2 = roc_auc_score(y, y_pred_l2)\n",
        "\n",
        "print(f\"{auc:.3f} {auc_l2:.3f}\")"
      ],
      "execution_count": 164,
      "outputs": [
        {
          "output_type": "stream",
          "text": [
            "0.927 0.936\n"
          ],
          "name": "stdout"
        }
      ]
    },
    {
      "cell_type": "markdown",
      "metadata": {
        "id": "M14cVPPeQdFR",
        "colab_type": "text"
      },
      "source": [
        "##Metrics"
      ]
    },
    {
      "cell_type": "code",
      "metadata": {
        "id": "52HND3DDyLg2",
        "colab_type": "code",
        "colab": {
          "base_uri": "https://localhost:8080/",
          "height": 404
        },
        "outputId": "561ffa70-7c34-4c81-8f58-025e62f4c92c"
      },
      "source": [
        "dataset_url = '/content/drive/My Drive/coursera/Week 3/week_3_classification.csv'\n",
        "data = pd.read_csv(dataset_url,)\n",
        "data"
      ],
      "execution_count": 184,
      "outputs": [
        {
          "output_type": "execute_result",
          "data": {
            "text/html": [
              "<div>\n",
              "<style scoped>\n",
              "    .dataframe tbody tr th:only-of-type {\n",
              "        vertical-align: middle;\n",
              "    }\n",
              "\n",
              "    .dataframe tbody tr th {\n",
              "        vertical-align: top;\n",
              "    }\n",
              "\n",
              "    .dataframe thead th {\n",
              "        text-align: right;\n",
              "    }\n",
              "</style>\n",
              "<table border=\"1\" class=\"dataframe\">\n",
              "  <thead>\n",
              "    <tr style=\"text-align: right;\">\n",
              "      <th></th>\n",
              "      <th>true</th>\n",
              "      <th>pred</th>\n",
              "    </tr>\n",
              "  </thead>\n",
              "  <tbody>\n",
              "    <tr>\n",
              "      <th>0</th>\n",
              "      <td>1</td>\n",
              "      <td>0</td>\n",
              "    </tr>\n",
              "    <tr>\n",
              "      <th>1</th>\n",
              "      <td>1</td>\n",
              "      <td>1</td>\n",
              "    </tr>\n",
              "    <tr>\n",
              "      <th>2</th>\n",
              "      <td>1</td>\n",
              "      <td>1</td>\n",
              "    </tr>\n",
              "    <tr>\n",
              "      <th>3</th>\n",
              "      <td>0</td>\n",
              "      <td>0</td>\n",
              "    </tr>\n",
              "    <tr>\n",
              "      <th>4</th>\n",
              "      <td>1</td>\n",
              "      <td>1</td>\n",
              "    </tr>\n",
              "    <tr>\n",
              "      <th>...</th>\n",
              "      <td>...</td>\n",
              "      <td>...</td>\n",
              "    </tr>\n",
              "    <tr>\n",
              "      <th>195</th>\n",
              "      <td>0</td>\n",
              "      <td>0</td>\n",
              "    </tr>\n",
              "    <tr>\n",
              "      <th>196</th>\n",
              "      <td>0</td>\n",
              "      <td>0</td>\n",
              "    </tr>\n",
              "    <tr>\n",
              "      <th>197</th>\n",
              "      <td>1</td>\n",
              "      <td>0</td>\n",
              "    </tr>\n",
              "    <tr>\n",
              "      <th>198</th>\n",
              "      <td>0</td>\n",
              "      <td>1</td>\n",
              "    </tr>\n",
              "    <tr>\n",
              "      <th>199</th>\n",
              "      <td>0</td>\n",
              "      <td>0</td>\n",
              "    </tr>\n",
              "  </tbody>\n",
              "</table>\n",
              "<p>200 rows × 2 columns</p>\n",
              "</div>"
            ],
            "text/plain": [
              "     true  pred\n",
              "0       1     0\n",
              "1       1     1\n",
              "2       1     1\n",
              "3       0     0\n",
              "4       1     1\n",
              "..    ...   ...\n",
              "195     0     0\n",
              "196     0     0\n",
              "197     1     0\n",
              "198     0     1\n",
              "199     0     0\n",
              "\n",
              "[200 rows x 2 columns]"
            ]
          },
          "metadata": {
            "tags": []
          },
          "execution_count": 184
        }
      ]
    },
    {
      "cell_type": "code",
      "metadata": {
        "id": "-5D3YI9EQo81",
        "colab_type": "code",
        "colab": {}
      },
      "source": [
        "y = data['true']\n",
        "y_pred = data['pred']"
      ],
      "execution_count": 0,
      "outputs": []
    },
    {
      "cell_type": "code",
      "metadata": {
        "id": "5PWRd02YQpqu",
        "colab_type": "code",
        "colab": {
          "base_uri": "https://localhost:8080/",
          "height": 33
        },
        "outputId": "e26f7156-3a00-4a5d-f1e2-7c3b3962a306"
      },
      "source": [
        "y.shape, y_pred.shape"
      ],
      "execution_count": 210,
      "outputs": [
        {
          "output_type": "execute_result",
          "data": {
            "text/plain": [
              "((200,), (200,))"
            ]
          },
          "metadata": {
            "tags": []
          },
          "execution_count": 210
        }
      ]
    },
    {
      "cell_type": "code",
      "metadata": {
        "id": "RYvwO5UeQ3ta",
        "colab_type": "code",
        "colab": {
          "base_uri": "https://localhost:8080/",
          "height": 50
        },
        "outputId": "7a60a8c5-cc36-4e69-c982-f561524fd8c0"
      },
      "source": [
        "from sklearn.metrics import confusion_matrix\n",
        "confusion_matrix(y, y_pred)"
      ],
      "execution_count": 211,
      "outputs": [
        {
          "output_type": "execute_result",
          "data": {
            "text/plain": [
              "array([[64, 34],\n",
              "       [59, 43]])"
            ]
          },
          "metadata": {
            "tags": []
          },
          "execution_count": 211
        }
      ]
    },
    {
      "cell_type": "code",
      "metadata": {
        "id": "SUHT_6osRHRX",
        "colab_type": "code",
        "colab": {
          "base_uri": "https://localhost:8080/",
          "height": 33
        },
        "outputId": "7148a797-3e09-4700-d38d-ece333585bda"
      },
      "source": [
        "tn, fp, fn, tp = confusion_matrix(y, y_pred).ravel()\n",
        "print(tn, fp, fn, tp)"
      ],
      "execution_count": 177,
      "outputs": [
        {
          "output_type": "stream",
          "text": [
            "64 34 59 43\n"
          ],
          "name": "stdout"
        }
      ]
    },
    {
      "cell_type": "code",
      "metadata": {
        "id": "49eeAw9SRha5",
        "colab_type": "code",
        "colab": {}
      },
      "source": [
        "true_predictions = y[y==y_pred]\n",
        "false_predictions = y[y!=y_pred]\n",
        "# TP, FP, FN и TN\n",
        "true_negatives = len(true_predictions) - sum(true_predictions)\n",
        "true_positives = sum(true_predictions)"
      ],
      "execution_count": 0,
      "outputs": []
    },
    {
      "cell_type": "code",
      "metadata": {
        "id": "jdAvYBjrR9gH",
        "colab_type": "code",
        "colab": {
          "base_uri": "https://localhost:8080/",
          "height": 33
        },
        "outputId": "8b07a3e2-1a25-4050-d045-9e4549cac8b1"
      },
      "source": [
        "true_negatives, true_positives"
      ],
      "execution_count": 192,
      "outputs": [
        {
          "output_type": "execute_result",
          "data": {
            "text/plain": [
              "(64, 43)"
            ]
          },
          "metadata": {
            "tags": []
          },
          "execution_count": 192
        }
      ]
    },
    {
      "cell_type": "code",
      "metadata": {
        "id": "N7ucHUt8SU6l",
        "colab_type": "code",
        "colab": {}
      },
      "source": [
        "false_positives = len(false_predictions) - sum(false_predictions)\n",
        "false_negatives = sum(false_predictions)"
      ],
      "execution_count": 0,
      "outputs": []
    },
    {
      "cell_type": "code",
      "metadata": {
        "id": "pp0P1MRoS6hi",
        "colab_type": "code",
        "colab": {
          "base_uri": "https://localhost:8080/",
          "height": 33
        },
        "outputId": "26148546-4b02-4907-8cbe-1ce7ab35538c"
      },
      "source": [
        "false_negatives, false_positives"
      ],
      "execution_count": 203,
      "outputs": [
        {
          "output_type": "execute_result",
          "data": {
            "text/plain": [
              "(59, 34)"
            ]
          },
          "metadata": {
            "tags": []
          },
          "execution_count": 203
        }
      ]
    },
    {
      "cell_type": "code",
      "metadata": {
        "id": "Pe30TdkuTGHm",
        "colab_type": "code",
        "colab": {
          "base_uri": "https://localhost:8080/",
          "height": 33
        },
        "outputId": "a584f51c-f2ea-4332-aca5-01730a6b550c"
      },
      "source": [
        "print(true_positives, false_positives, false_negatives, true_negatives)"
      ],
      "execution_count": 204,
      "outputs": [
        {
          "output_type": "stream",
          "text": [
            "43 34 59 64\n"
          ],
          "name": "stdout"
        }
      ]
    },
    {
      "cell_type": "code",
      "metadata": {
        "id": "eqrv6ExVT_ip",
        "colab_type": "code",
        "colab": {
          "base_uri": "https://localhost:8080/",
          "height": 33
        },
        "outputId": "e557a67b-716c-4436-f307-a61c7709e8e3"
      },
      "source": [
        "accuracy_score(y, y_pred)"
      ],
      "execution_count": 212,
      "outputs": [
        {
          "output_type": "execute_result",
          "data": {
            "text/plain": [
              "0.535"
            ]
          },
          "metadata": {
            "tags": []
          },
          "execution_count": 212
        }
      ]
    },
    {
      "cell_type": "code",
      "metadata": {
        "id": "wST30GXaUV1D",
        "colab_type": "code",
        "colab": {
          "base_uri": "https://localhost:8080/",
          "height": 33
        },
        "outputId": "4e36d329-e7ea-4a81-921e-be5764046a36"
      },
      "source": [
        "print(round(accuracy_score(y, y_pred), 2),\n",
        "    round(precision_score(y, y_pred), 2),\n",
        "    round(recall_score(y, y_pred),2),\n",
        "    round(f1_score(y, y_pred), 2), )"
      ],
      "execution_count": 216,
      "outputs": [
        {
          "output_type": "stream",
          "text": [
            "0.54 0.56 0.42 0.48\n"
          ],
          "name": "stdout"
        }
      ]
    },
    {
      "cell_type": "markdown",
      "metadata": {
        "id": "JTnO2LHDW7XN",
        "colab_type": "text"
      },
      "source": [
        "##Metrics\n",
        "####part 2"
      ]
    },
    {
      "cell_type": "code",
      "metadata": {
        "id": "1JOUqUDQUxnr",
        "colab_type": "code",
        "colab": {
          "base_uri": "https://localhost:8080/",
          "height": 404
        },
        "outputId": "28bb9458-f28f-4e45-90af-491036762b5d"
      },
      "source": [
        "dataset_url = '/content/drive/My Drive/coursera/Week 3/week_3_scores.csv'\n",
        "data = pd.read_csv(dataset_url,)\n",
        "data"
      ],
      "execution_count": 217,
      "outputs": [
        {
          "output_type": "execute_result",
          "data": {
            "text/html": [
              "<div>\n",
              "<style scoped>\n",
              "    .dataframe tbody tr th:only-of-type {\n",
              "        vertical-align: middle;\n",
              "    }\n",
              "\n",
              "    .dataframe tbody tr th {\n",
              "        vertical-align: top;\n",
              "    }\n",
              "\n",
              "    .dataframe thead th {\n",
              "        text-align: right;\n",
              "    }\n",
              "</style>\n",
              "<table border=\"1\" class=\"dataframe\">\n",
              "  <thead>\n",
              "    <tr style=\"text-align: right;\">\n",
              "      <th></th>\n",
              "      <th>true</th>\n",
              "      <th>score_logreg</th>\n",
              "      <th>score_svm</th>\n",
              "      <th>score_knn</th>\n",
              "      <th>score_tree</th>\n",
              "    </tr>\n",
              "  </thead>\n",
              "  <tbody>\n",
              "    <tr>\n",
              "      <th>0</th>\n",
              "      <td>0</td>\n",
              "      <td>0.683832</td>\n",
              "      <td>0.145976</td>\n",
              "      <td>0.787063</td>\n",
              "      <td>0.500000</td>\n",
              "    </tr>\n",
              "    <tr>\n",
              "      <th>1</th>\n",
              "      <td>1</td>\n",
              "      <td>0.801966</td>\n",
              "      <td>0.239511</td>\n",
              "      <td>1.000000</td>\n",
              "      <td>0.833333</td>\n",
              "    </tr>\n",
              "    <tr>\n",
              "      <th>2</th>\n",
              "      <td>0</td>\n",
              "      <td>0.382315</td>\n",
              "      <td>-0.245701</td>\n",
              "      <td>0.000000</td>\n",
              "      <td>0.000000</td>\n",
              "    </tr>\n",
              "    <tr>\n",
              "      <th>3</th>\n",
              "      <td>1</td>\n",
              "      <td>0.506797</td>\n",
              "      <td>-0.137058</td>\n",
              "      <td>0.000000</td>\n",
              "      <td>0.105263</td>\n",
              "    </tr>\n",
              "    <tr>\n",
              "      <th>4</th>\n",
              "      <td>1</td>\n",
              "      <td>0.488781</td>\n",
              "      <td>-0.154148</td>\n",
              "      <td>0.000000</td>\n",
              "      <td>0.105263</td>\n",
              "    </tr>\n",
              "    <tr>\n",
              "      <th>...</th>\n",
              "      <td>...</td>\n",
              "      <td>...</td>\n",
              "      <td>...</td>\n",
              "      <td>...</td>\n",
              "      <td>...</td>\n",
              "    </tr>\n",
              "    <tr>\n",
              "      <th>195</th>\n",
              "      <td>0</td>\n",
              "      <td>0.573801</td>\n",
              "      <td>-0.088203</td>\n",
              "      <td>0.284192</td>\n",
              "      <td>0.400000</td>\n",
              "    </tr>\n",
              "    <tr>\n",
              "      <th>196</th>\n",
              "      <td>0</td>\n",
              "      <td>0.624422</td>\n",
              "      <td>-0.012315</td>\n",
              "      <td>0.205437</td>\n",
              "      <td>0.400000</td>\n",
              "    </tr>\n",
              "    <tr>\n",
              "      <th>197</th>\n",
              "      <td>1</td>\n",
              "      <td>0.425538</td>\n",
              "      <td>-0.135673</td>\n",
              "      <td>0.382351</td>\n",
              "      <td>0.700000</td>\n",
              "    </tr>\n",
              "    <tr>\n",
              "      <th>198</th>\n",
              "      <td>0</td>\n",
              "      <td>0.905270</td>\n",
              "      <td>0.583806</td>\n",
              "      <td>1.000000</td>\n",
              "      <td>1.000000</td>\n",
              "    </tr>\n",
              "    <tr>\n",
              "      <th>199</th>\n",
              "      <td>0</td>\n",
              "      <td>0.275594</td>\n",
              "      <td>-0.422160</td>\n",
              "      <td>0.743567</td>\n",
              "      <td>0.642857</td>\n",
              "    </tr>\n",
              "  </tbody>\n",
              "</table>\n",
              "<p>200 rows × 5 columns</p>\n",
              "</div>"
            ],
            "text/plain": [
              "     true  score_logreg  score_svm  score_knn  score_tree\n",
              "0       0      0.683832   0.145976   0.787063    0.500000\n",
              "1       1      0.801966   0.239511   1.000000    0.833333\n",
              "2       0      0.382315  -0.245701   0.000000    0.000000\n",
              "3       1      0.506797  -0.137058   0.000000    0.105263\n",
              "4       1      0.488781  -0.154148   0.000000    0.105263\n",
              "..    ...           ...        ...        ...         ...\n",
              "195     0      0.573801  -0.088203   0.284192    0.400000\n",
              "196     0      0.624422  -0.012315   0.205437    0.400000\n",
              "197     1      0.425538  -0.135673   0.382351    0.700000\n",
              "198     0      0.905270   0.583806   1.000000    1.000000\n",
              "199     0      0.275594  -0.422160   0.743567    0.642857\n",
              "\n",
              "[200 rows x 5 columns]"
            ]
          },
          "metadata": {
            "tags": []
          },
          "execution_count": 217
        }
      ]
    },
    {
      "cell_type": "code",
      "metadata": {
        "id": "8LFKK2u4XIDJ",
        "colab_type": "code",
        "colab": {}
      },
      "source": [
        "log_reg_score = data['score_logreg']\n",
        "y = data['true']\n",
        "svm_score = data['score_svm']\n",
        "knn_score = data['score_knn']\n",
        "tree_score = data['score_tree']\n"
      ],
      "execution_count": 0,
      "outputs": []
    },
    {
      "cell_type": "code",
      "metadata": {
        "id": "GOTy3ZmDXhwo",
        "colab_type": "code",
        "colab": {
          "base_uri": "https://localhost:8080/",
          "height": 33
        },
        "outputId": "18277f5b-22a5-4cba-ca85-0a89f87f218a"
      },
      "source": [
        "print(roc_auc_score(y, log_reg_score),\n",
        "      roc_auc_score(y, svm_score),\n",
        "      roc_auc_score(y, knn_score),\n",
        "      roc_auc_score(y, tree_score),)    "
      ],
      "execution_count": 219,
      "outputs": [
        {
          "output_type": "stream",
          "text": [
            "0.719187675070028 0.7086834733893557 0.6351540616246498 0.6919267707082833\n"
          ],
          "name": "stdout"
        }
      ]
    },
    {
      "cell_type": "code",
      "metadata": {
        "id": "T2eJKguSX1C3",
        "colab_type": "code",
        "colab": {}
      },
      "source": [
        "precision_recall_curve_columns = [\"precision\", \"recall\", \"thresholds\"]\n",
        "log_reg_curve = pd.DataFrame(precision_recall_curve(y, log_reg_score)).T\n",
        "log_reg_curve.columns = precision_recall_curve_columns\n",
        "svm_curve = pd.DataFrame(precision_recall_curve(y, svm_score)).T\n",
        "svm_curve.columns = precision_recall_curve_columns\n",
        "knn_curve = pd.DataFrame(precision_recall_curve(y, knn_score)).T\n",
        "knn_curve.columns = precision_recall_curve_columns\n",
        "tree_curve = pd.DataFrame(precision_recall_curve(y, tree_score)).T\n",
        "tree_curve.columns = precision_recall_curve_columns"
      ],
      "execution_count": 0,
      "outputs": []
    },
    {
      "cell_type": "code",
      "metadata": {
        "id": "WSgVGbQdYfi4",
        "colab_type": "code",
        "colab": {
          "base_uri": "https://localhost:8080/",
          "height": 33
        },
        "outputId": "e9b40cde-d7c9-42c7-809d-adf58ef15862"
      },
      "source": [
        "print(log_reg_curve[log_reg_curve[\"recall\"] > 0.7][\"precision\"].max(),\n",
        "svm_curve[svm_curve[\"recall\"] > 0.7][\"precision\"].max(),\n",
        "knn_curve[knn_curve[\"recall\"] > 0.7][\"precision\"].max(),\n",
        "tree_curve[tree_curve[\"recall\"] > 0.7][\"precision\"].max(),)"
      ],
      "execution_count": 239,
      "outputs": [
        {
          "output_type": "stream",
          "text": [
            "0.6302521008403361 0.6228070175438597 0.6065573770491803 0.6517857142857143\n"
          ],
          "name": "stdout"
        }
      ]
    },
    {
      "cell_type": "code",
      "metadata": {
        "id": "V7KvJ48-YyF7",
        "colab_type": "code",
        "colab": {}
      },
      "source": [
        ""
      ],
      "execution_count": 0,
      "outputs": []
    }
  ]
}